{
 "cells": [
  {
   "cell_type": "code",
   "execution_count": 1,
   "metadata": {},
   "outputs": [],
   "source": [
    "import pandas as pd\n",
    "import numpy as np\n",
    "import seaborn as sn\n",
    "import matplotlib.pyplot as plt\n",
    "%matplotlib inline"
   ]
  },
  {
   "cell_type": "code",
   "execution_count": 2,
   "metadata": {},
   "outputs": [
    {
     "data": {
      "text/html": [
       "<div>\n",
       "<style scoped>\n",
       "    .dataframe tbody tr th:only-of-type {\n",
       "        vertical-align: middle;\n",
       "    }\n",
       "\n",
       "    .dataframe tbody tr th {\n",
       "        vertical-align: top;\n",
       "    }\n",
       "\n",
       "    .dataframe thead th {\n",
       "        text-align: right;\n",
       "    }\n",
       "</style>\n",
       "<table border=\"1\" class=\"dataframe\">\n",
       "  <thead>\n",
       "    <tr style=\"text-align: right;\">\n",
       "      <th></th>\n",
       "      <th>sl_no</th>\n",
       "      <th>gender</th>\n",
       "      <th>ssc_p</th>\n",
       "      <th>ssc_b</th>\n",
       "      <th>hsc_p</th>\n",
       "      <th>hsc_b</th>\n",
       "      <th>hsc_s</th>\n",
       "      <th>degree_p</th>\n",
       "      <th>degree_t</th>\n",
       "      <th>workex</th>\n",
       "      <th>etest_p</th>\n",
       "      <th>specialisation</th>\n",
       "      <th>mba_p</th>\n",
       "      <th>status</th>\n",
       "      <th>salary</th>\n",
       "    </tr>\n",
       "  </thead>\n",
       "  <tbody>\n",
       "    <tr>\n",
       "      <th>0</th>\n",
       "      <td>1</td>\n",
       "      <td>M</td>\n",
       "      <td>67.00</td>\n",
       "      <td>Others</td>\n",
       "      <td>91.00</td>\n",
       "      <td>Others</td>\n",
       "      <td>Commerce</td>\n",
       "      <td>58.00</td>\n",
       "      <td>Sci&amp;Tech</td>\n",
       "      <td>No</td>\n",
       "      <td>55.0</td>\n",
       "      <td>Mkt&amp;HR</td>\n",
       "      <td>58.80</td>\n",
       "      <td>Placed</td>\n",
       "      <td>270000.0</td>\n",
       "    </tr>\n",
       "    <tr>\n",
       "      <th>1</th>\n",
       "      <td>2</td>\n",
       "      <td>M</td>\n",
       "      <td>79.33</td>\n",
       "      <td>Central</td>\n",
       "      <td>78.33</td>\n",
       "      <td>Others</td>\n",
       "      <td>Science</td>\n",
       "      <td>77.48</td>\n",
       "      <td>Sci&amp;Tech</td>\n",
       "      <td>Yes</td>\n",
       "      <td>86.5</td>\n",
       "      <td>Mkt&amp;Fin</td>\n",
       "      <td>66.28</td>\n",
       "      <td>Placed</td>\n",
       "      <td>200000.0</td>\n",
       "    </tr>\n",
       "    <tr>\n",
       "      <th>2</th>\n",
       "      <td>3</td>\n",
       "      <td>M</td>\n",
       "      <td>65.00</td>\n",
       "      <td>Central</td>\n",
       "      <td>68.00</td>\n",
       "      <td>Central</td>\n",
       "      <td>Arts</td>\n",
       "      <td>64.00</td>\n",
       "      <td>Comm&amp;Mgmt</td>\n",
       "      <td>No</td>\n",
       "      <td>75.0</td>\n",
       "      <td>Mkt&amp;Fin</td>\n",
       "      <td>57.80</td>\n",
       "      <td>Placed</td>\n",
       "      <td>250000.0</td>\n",
       "    </tr>\n",
       "    <tr>\n",
       "      <th>3</th>\n",
       "      <td>4</td>\n",
       "      <td>M</td>\n",
       "      <td>56.00</td>\n",
       "      <td>Central</td>\n",
       "      <td>52.00</td>\n",
       "      <td>Central</td>\n",
       "      <td>Science</td>\n",
       "      <td>52.00</td>\n",
       "      <td>Sci&amp;Tech</td>\n",
       "      <td>No</td>\n",
       "      <td>66.0</td>\n",
       "      <td>Mkt&amp;HR</td>\n",
       "      <td>59.43</td>\n",
       "      <td>Not Placed</td>\n",
       "      <td>NaN</td>\n",
       "    </tr>\n",
       "    <tr>\n",
       "      <th>4</th>\n",
       "      <td>5</td>\n",
       "      <td>M</td>\n",
       "      <td>85.80</td>\n",
       "      <td>Central</td>\n",
       "      <td>73.60</td>\n",
       "      <td>Central</td>\n",
       "      <td>Commerce</td>\n",
       "      <td>73.30</td>\n",
       "      <td>Comm&amp;Mgmt</td>\n",
       "      <td>No</td>\n",
       "      <td>96.8</td>\n",
       "      <td>Mkt&amp;Fin</td>\n",
       "      <td>55.50</td>\n",
       "      <td>Placed</td>\n",
       "      <td>425000.0</td>\n",
       "    </tr>\n",
       "  </tbody>\n",
       "</table>\n",
       "</div>"
      ],
      "text/plain": [
       "   sl_no gender  ssc_p    ssc_b  hsc_p    hsc_b     hsc_s  degree_p  \\\n",
       "0      1      M  67.00   Others  91.00   Others  Commerce     58.00   \n",
       "1      2      M  79.33  Central  78.33   Others   Science     77.48   \n",
       "2      3      M  65.00  Central  68.00  Central      Arts     64.00   \n",
       "3      4      M  56.00  Central  52.00  Central   Science     52.00   \n",
       "4      5      M  85.80  Central  73.60  Central  Commerce     73.30   \n",
       "\n",
       "    degree_t workex  etest_p specialisation  mba_p      status    salary  \n",
       "0   Sci&Tech     No     55.0         Mkt&HR  58.80      Placed  270000.0  \n",
       "1   Sci&Tech    Yes     86.5        Mkt&Fin  66.28      Placed  200000.0  \n",
       "2  Comm&Mgmt     No     75.0        Mkt&Fin  57.80      Placed  250000.0  \n",
       "3   Sci&Tech     No     66.0         Mkt&HR  59.43  Not Placed       NaN  \n",
       "4  Comm&Mgmt     No     96.8        Mkt&Fin  55.50      Placed  425000.0  "
      ]
     },
     "execution_count": 2,
     "metadata": {},
     "output_type": "execute_result"
    }
   ],
   "source": [
    "df = pd.read_csv(r'C:\\Users\\Nikhitha Siva\\Desktop\\Portfolio\\Placement Prediction\\PlacementData.csv')\n",
    "df.head()"
   ]
  },
  {
   "cell_type": "markdown",
   "metadata": {},
   "source": [
    "# Data Preprocessing"
   ]
  },
  {
   "cell_type": "code",
   "execution_count": 3,
   "metadata": {
    "scrolled": true
   },
   "outputs": [
    {
     "name": "stdout",
     "output_type": "stream",
     "text": [
      "<class 'pandas.core.frame.DataFrame'>\n",
      "RangeIndex: 215 entries, 0 to 214\n",
      "Data columns (total 15 columns):\n",
      " #   Column          Non-Null Count  Dtype  \n",
      "---  ------          --------------  -----  \n",
      " 0   sl_no           215 non-null    int64  \n",
      " 1   gender          215 non-null    object \n",
      " 2   ssc_p           215 non-null    float64\n",
      " 3   ssc_b           215 non-null    object \n",
      " 4   hsc_p           215 non-null    float64\n",
      " 5   hsc_b           215 non-null    object \n",
      " 6   hsc_s           215 non-null    object \n",
      " 7   degree_p        215 non-null    float64\n",
      " 8   degree_t        215 non-null    object \n",
      " 9   workex          215 non-null    object \n",
      " 10  etest_p         215 non-null    float64\n",
      " 11  specialisation  215 non-null    object \n",
      " 12  mba_p           215 non-null    float64\n",
      " 13  status          215 non-null    object \n",
      " 14  salary          148 non-null    float64\n",
      "dtypes: float64(6), int64(1), object(8)\n",
      "memory usage: 25.3+ KB\n"
     ]
    }
   ],
   "source": [
    "df.info()"
   ]
  },
  {
   "cell_type": "code",
   "execution_count": 4,
   "metadata": {},
   "outputs": [
    {
     "name": "stdout",
     "output_type": "stream",
     "text": [
      "['gender', 'ssc_b', 'hsc_b', 'hsc_s', 'degree_t', 'workex', 'specialisation', 'status'] ['sl_no', 'ssc_p', 'hsc_p', 'degree_p', 'etest_p', 'mba_p', 'salary']\n"
     ]
    }
   ],
   "source": [
    "catvars = list(df.select_dtypes(include=['object']).columns)\n",
    "\n",
    "numvars = list(df.select_dtypes(include=['int32','int64','float32','float64']).columns)\n",
    "\n",
    "\n",
    "print(catvars,numvars)"
   ]
  },
  {
   "cell_type": "code",
   "execution_count": 5,
   "metadata": {
    "scrolled": false
   },
   "outputs": [
    {
     "data": {
      "text/plain": [
       "sl_no              0\n",
       "gender             0\n",
       "ssc_p              0\n",
       "ssc_b              0\n",
       "hsc_p              0\n",
       "hsc_b              0\n",
       "hsc_s              0\n",
       "degree_p           0\n",
       "degree_t           0\n",
       "workex             0\n",
       "etest_p            0\n",
       "specialisation     0\n",
       "mba_p              0\n",
       "status             0\n",
       "salary            67\n",
       "dtype: int64"
      ]
     },
     "execution_count": 5,
     "metadata": {},
     "output_type": "execute_result"
    }
   ],
   "source": [
    "df.isnull().sum()"
   ]
  },
  {
   "cell_type": "code",
   "execution_count": 6,
   "metadata": {},
   "outputs": [
    {
     "data": {
      "text/plain": [
       "(215, 15)"
      ]
     },
     "execution_count": 6,
     "metadata": {},
     "output_type": "execute_result"
    }
   ],
   "source": [
    "df.shape"
   ]
  },
  {
   "cell_type": "code",
   "execution_count": 7,
   "metadata": {},
   "outputs": [],
   "source": [
    "def plotdistplot(col):\n",
    "    \n",
    "    plt.figure(figsize=(15,7))\n",
    "    sn.distplot(df['salary'],kde=True,hist=False,label='Actual Salary',color='orange')\n",
    "    sn.distplot(df[col],kde=True,hist=False,label=col,color='black')\n",
    "    "
   ]
  },
  {
   "cell_type": "code",
   "execution_count": 8,
   "metadata": {},
   "outputs": [
    {
     "data": {
      "text/plain": [
       "(300000.0, 22)"
      ]
     },
     "execution_count": 8,
     "metadata": {},
     "output_type": "execute_result"
    }
   ],
   "source": [
    "mostfreq = list(dict(df['salary'].value_counts()).items())[0]\n",
    "mostfreq"
   ]
  },
  {
   "cell_type": "code",
   "execution_count": 9,
   "metadata": {},
   "outputs": [
    {
     "data": {
      "text/plain": [
       "300000.0"
      ]
     },
     "execution_count": 9,
     "metadata": {},
     "output_type": "execute_result"
    }
   ],
   "source": [
    "df['salary'].mode()[0]"
   ]
  },
  {
   "cell_type": "code",
   "execution_count": 10,
   "metadata": {},
   "outputs": [
    {
     "data": {
      "text/html": [
       "<div>\n",
       "<style scoped>\n",
       "    .dataframe tbody tr th:only-of-type {\n",
       "        vertical-align: middle;\n",
       "    }\n",
       "\n",
       "    .dataframe tbody tr th {\n",
       "        vertical-align: top;\n",
       "    }\n",
       "\n",
       "    .dataframe thead th {\n",
       "        text-align: right;\n",
       "    }\n",
       "</style>\n",
       "<table border=\"1\" class=\"dataframe\">\n",
       "  <thead>\n",
       "    <tr style=\"text-align: right;\">\n",
       "      <th></th>\n",
       "      <th>sl_no</th>\n",
       "      <th>gender</th>\n",
       "      <th>ssc_p</th>\n",
       "      <th>ssc_b</th>\n",
       "      <th>hsc_p</th>\n",
       "      <th>hsc_b</th>\n",
       "      <th>hsc_s</th>\n",
       "      <th>degree_p</th>\n",
       "      <th>degree_t</th>\n",
       "      <th>workex</th>\n",
       "      <th>etest_p</th>\n",
       "      <th>specialisation</th>\n",
       "      <th>mba_p</th>\n",
       "      <th>status</th>\n",
       "      <th>salary</th>\n",
       "      <th>salary_mean</th>\n",
       "      <th>salary_median</th>\n",
       "      <th>salary_mode</th>\n",
       "    </tr>\n",
       "  </thead>\n",
       "  <tbody>\n",
       "    <tr>\n",
       "      <th>0</th>\n",
       "      <td>1</td>\n",
       "      <td>M</td>\n",
       "      <td>67.00</td>\n",
       "      <td>Others</td>\n",
       "      <td>91.00</td>\n",
       "      <td>Others</td>\n",
       "      <td>Commerce</td>\n",
       "      <td>58.00</td>\n",
       "      <td>Sci&amp;Tech</td>\n",
       "      <td>No</td>\n",
       "      <td>55.0</td>\n",
       "      <td>Mkt&amp;HR</td>\n",
       "      <td>58.80</td>\n",
       "      <td>Placed</td>\n",
       "      <td>270000.0</td>\n",
       "      <td>270000.000000</td>\n",
       "      <td>270000.0</td>\n",
       "      <td>270000.0</td>\n",
       "    </tr>\n",
       "    <tr>\n",
       "      <th>1</th>\n",
       "      <td>2</td>\n",
       "      <td>M</td>\n",
       "      <td>79.33</td>\n",
       "      <td>Central</td>\n",
       "      <td>78.33</td>\n",
       "      <td>Others</td>\n",
       "      <td>Science</td>\n",
       "      <td>77.48</td>\n",
       "      <td>Sci&amp;Tech</td>\n",
       "      <td>Yes</td>\n",
       "      <td>86.5</td>\n",
       "      <td>Mkt&amp;Fin</td>\n",
       "      <td>66.28</td>\n",
       "      <td>Placed</td>\n",
       "      <td>200000.0</td>\n",
       "      <td>200000.000000</td>\n",
       "      <td>200000.0</td>\n",
       "      <td>200000.0</td>\n",
       "    </tr>\n",
       "    <tr>\n",
       "      <th>2</th>\n",
       "      <td>3</td>\n",
       "      <td>M</td>\n",
       "      <td>65.00</td>\n",
       "      <td>Central</td>\n",
       "      <td>68.00</td>\n",
       "      <td>Central</td>\n",
       "      <td>Arts</td>\n",
       "      <td>64.00</td>\n",
       "      <td>Comm&amp;Mgmt</td>\n",
       "      <td>No</td>\n",
       "      <td>75.0</td>\n",
       "      <td>Mkt&amp;Fin</td>\n",
       "      <td>57.80</td>\n",
       "      <td>Placed</td>\n",
       "      <td>250000.0</td>\n",
       "      <td>250000.000000</td>\n",
       "      <td>250000.0</td>\n",
       "      <td>250000.0</td>\n",
       "    </tr>\n",
       "    <tr>\n",
       "      <th>3</th>\n",
       "      <td>4</td>\n",
       "      <td>M</td>\n",
       "      <td>56.00</td>\n",
       "      <td>Central</td>\n",
       "      <td>52.00</td>\n",
       "      <td>Central</td>\n",
       "      <td>Science</td>\n",
       "      <td>52.00</td>\n",
       "      <td>Sci&amp;Tech</td>\n",
       "      <td>No</td>\n",
       "      <td>66.0</td>\n",
       "      <td>Mkt&amp;HR</td>\n",
       "      <td>59.43</td>\n",
       "      <td>Not Placed</td>\n",
       "      <td>NaN</td>\n",
       "      <td>288655.405405</td>\n",
       "      <td>265000.0</td>\n",
       "      <td>300000.0</td>\n",
       "    </tr>\n",
       "    <tr>\n",
       "      <th>4</th>\n",
       "      <td>5</td>\n",
       "      <td>M</td>\n",
       "      <td>85.80</td>\n",
       "      <td>Central</td>\n",
       "      <td>73.60</td>\n",
       "      <td>Central</td>\n",
       "      <td>Commerce</td>\n",
       "      <td>73.30</td>\n",
       "      <td>Comm&amp;Mgmt</td>\n",
       "      <td>No</td>\n",
       "      <td>96.8</td>\n",
       "      <td>Mkt&amp;Fin</td>\n",
       "      <td>55.50</td>\n",
       "      <td>Placed</td>\n",
       "      <td>425000.0</td>\n",
       "      <td>425000.000000</td>\n",
       "      <td>425000.0</td>\n",
       "      <td>425000.0</td>\n",
       "    </tr>\n",
       "  </tbody>\n",
       "</table>\n",
       "</div>"
      ],
      "text/plain": [
       "   sl_no gender  ssc_p    ssc_b  hsc_p    hsc_b     hsc_s  degree_p  \\\n",
       "0      1      M  67.00   Others  91.00   Others  Commerce     58.00   \n",
       "1      2      M  79.33  Central  78.33   Others   Science     77.48   \n",
       "2      3      M  65.00  Central  68.00  Central      Arts     64.00   \n",
       "3      4      M  56.00  Central  52.00  Central   Science     52.00   \n",
       "4      5      M  85.80  Central  73.60  Central  Commerce     73.30   \n",
       "\n",
       "    degree_t workex  etest_p specialisation  mba_p      status    salary  \\\n",
       "0   Sci&Tech     No     55.0         Mkt&HR  58.80      Placed  270000.0   \n",
       "1   Sci&Tech    Yes     86.5        Mkt&Fin  66.28      Placed  200000.0   \n",
       "2  Comm&Mgmt     No     75.0        Mkt&Fin  57.80      Placed  250000.0   \n",
       "3   Sci&Tech     No     66.0         Mkt&HR  59.43  Not Placed       NaN   \n",
       "4  Comm&Mgmt     No     96.8        Mkt&Fin  55.50      Placed  425000.0   \n",
       "\n",
       "     salary_mean  salary_median  salary_mode  \n",
       "0  270000.000000       270000.0     270000.0  \n",
       "1  200000.000000       200000.0     200000.0  \n",
       "2  250000.000000       250000.0     250000.0  \n",
       "3  288655.405405       265000.0     300000.0  \n",
       "4  425000.000000       425000.0     425000.0  "
      ]
     },
     "execution_count": 10,
     "metadata": {},
     "output_type": "execute_result"
    }
   ],
   "source": [
    "df['salary_mean'] = df['salary'].fillna(df['salary'].mean())\n",
    "df['salary_median'] = df['salary'].fillna(df['salary'].median())\n",
    "df['salary_mode'] = df['salary'].fillna(df['salary'].mode()[0])\n",
    "df.head()"
   ]
  },
  {
   "cell_type": "code",
   "execution_count": 11,
   "metadata": {
    "scrolled": true
   },
   "outputs": [
    {
     "name": "stderr",
     "output_type": "stream",
     "text": [
      "C:\\ProgramData\\Anaconda3\\lib\\site-packages\\seaborn\\distributions.py:2551: FutureWarning: `distplot` is a deprecated function and will be removed in a future version. Please adapt your code to use either `displot` (a figure-level function with similar flexibility) or `kdeplot` (an axes-level function for kernel density plots).\n",
      "  warnings.warn(msg, FutureWarning)\n",
      "C:\\ProgramData\\Anaconda3\\lib\\site-packages\\seaborn\\distributions.py:2551: FutureWarning: `distplot` is a deprecated function and will be removed in a future version. Please adapt your code to use either `displot` (a figure-level function with similar flexibility) or `kdeplot` (an axes-level function for kernel density plots).\n",
      "  warnings.warn(msg, FutureWarning)\n",
      "C:\\ProgramData\\Anaconda3\\lib\\site-packages\\seaborn\\distributions.py:2551: FutureWarning: `distplot` is a deprecated function and will be removed in a future version. Please adapt your code to use either `displot` (a figure-level function with similar flexibility) or `kdeplot` (an axes-level function for kernel density plots).\n",
      "  warnings.warn(msg, FutureWarning)\n",
      "C:\\ProgramData\\Anaconda3\\lib\\site-packages\\seaborn\\distributions.py:2551: FutureWarning: `distplot` is a deprecated function and will be removed in a future version. Please adapt your code to use either `displot` (a figure-level function with similar flexibility) or `kdeplot` (an axes-level function for kernel density plots).\n",
      "  warnings.warn(msg, FutureWarning)\n",
      "C:\\ProgramData\\Anaconda3\\lib\\site-packages\\seaborn\\distributions.py:2551: FutureWarning: `distplot` is a deprecated function and will be removed in a future version. Please adapt your code to use either `displot` (a figure-level function with similar flexibility) or `kdeplot` (an axes-level function for kernel density plots).\n",
      "  warnings.warn(msg, FutureWarning)\n",
      "C:\\ProgramData\\Anaconda3\\lib\\site-packages\\seaborn\\distributions.py:2551: FutureWarning: `distplot` is a deprecated function and will be removed in a future version. Please adapt your code to use either `displot` (a figure-level function with similar flexibility) or `kdeplot` (an axes-level function for kernel density plots).\n",
      "  warnings.warn(msg, FutureWarning)\n"
     ]
    },
    {
     "data": {
      "image/png": "[encoded data removed]",
      "text/plain": [
       "<Figure size 1080x504 with 1 Axes>"
      ]
     },
     "metadata": {
      "needs_background": "light"
     },
     "output_type": "display_data"
    },
    {
     "data": {
      "image/png": "[encoded data removed]",
      "text/plain": [
       "<Figure size 1080x504 with 1 Axes>"
      ]
     },
     "metadata": {
      "needs_background": "light"
     },
     "output_type": "display_data"
    },
    {
     "data": {
      "image/png": "[encoded data removed]",
      "text/plain": [
       "<Figure size 1080x504 with 1 Axes>"
      ]
     },
     "metadata": {
      "needs_background": "light"
     },
     "output_type": "display_data"
    }
   ],
   "source": [
    "sallist = ['salary_mean','salary_median','salary_mode']\n",
    "for sal in sallist:\n",
    "    plotdistplot(sal)"
   ]
  },
  {
   "cell_type": "code",
   "execution_count": 12,
   "metadata": {},
   "outputs": [
    {
     "data": {
      "text/html": [
       "<div>\n",
       "<style scoped>\n",
       "    .dataframe tbody tr th:only-of-type {\n",
       "        vertical-align: middle;\n",
       "    }\n",
       "\n",
       "    .dataframe tbody tr th {\n",
       "        vertical-align: top;\n",
       "    }\n",
       "\n",
       "    .dataframe thead th {\n",
       "        text-align: right;\n",
       "    }\n",
       "</style>\n",
       "<table border=\"1\" class=\"dataframe\">\n",
       "  <thead>\n",
       "    <tr style=\"text-align: right;\">\n",
       "      <th></th>\n",
       "      <th>sl_no</th>\n",
       "      <th>gender</th>\n",
       "      <th>ssc_p</th>\n",
       "      <th>ssc_b</th>\n",
       "      <th>hsc_p</th>\n",
       "      <th>hsc_b</th>\n",
       "      <th>hsc_s</th>\n",
       "      <th>degree_p</th>\n",
       "      <th>degree_t</th>\n",
       "      <th>workex</th>\n",
       "      <th>etest_p</th>\n",
       "      <th>specialisation</th>\n",
       "      <th>mba_p</th>\n",
       "      <th>status</th>\n",
       "      <th>salary</th>\n",
       "      <th>salary_mean</th>\n",
       "      <th>salary_median</th>\n",
       "      <th>salary_mode</th>\n",
       "    </tr>\n",
       "  </thead>\n",
       "  <tbody>\n",
       "    <tr>\n",
       "      <th>0</th>\n",
       "      <td>1</td>\n",
       "      <td>M</td>\n",
       "      <td>67.00</td>\n",
       "      <td>Others</td>\n",
       "      <td>91.00</td>\n",
       "      <td>Others</td>\n",
       "      <td>Commerce</td>\n",
       "      <td>58.00</td>\n",
       "      <td>Sci&amp;Tech</td>\n",
       "      <td>No</td>\n",
       "      <td>55.0</td>\n",
       "      <td>Mkt&amp;HR</td>\n",
       "      <td>58.80</td>\n",
       "      <td>Placed</td>\n",
       "      <td>270000.000000</td>\n",
       "      <td>270000.000000</td>\n",
       "      <td>270000.0</td>\n",
       "      <td>270000.0</td>\n",
       "    </tr>\n",
       "    <tr>\n",
       "      <th>1</th>\n",
       "      <td>2</td>\n",
       "      <td>M</td>\n",
       "      <td>79.33</td>\n",
       "      <td>Central</td>\n",
       "      <td>78.33</td>\n",
       "      <td>Others</td>\n",
       "      <td>Science</td>\n",
       "      <td>77.48</td>\n",
       "      <td>Sci&amp;Tech</td>\n",
       "      <td>Yes</td>\n",
       "      <td>86.5</td>\n",
       "      <td>Mkt&amp;Fin</td>\n",
       "      <td>66.28</td>\n",
       "      <td>Placed</td>\n",
       "      <td>200000.000000</td>\n",
       "      <td>200000.000000</td>\n",
       "      <td>200000.0</td>\n",
       "      <td>200000.0</td>\n",
       "    </tr>\n",
       "    <tr>\n",
       "      <th>2</th>\n",
       "      <td>3</td>\n",
       "      <td>M</td>\n",
       "      <td>65.00</td>\n",
       "      <td>Central</td>\n",
       "      <td>68.00</td>\n",
       "      <td>Central</td>\n",
       "      <td>Arts</td>\n",
       "      <td>64.00</td>\n",
       "      <td>Comm&amp;Mgmt</td>\n",
       "      <td>No</td>\n",
       "      <td>75.0</td>\n",
       "      <td>Mkt&amp;Fin</td>\n",
       "      <td>57.80</td>\n",
       "      <td>Placed</td>\n",
       "      <td>250000.000000</td>\n",
       "      <td>250000.000000</td>\n",
       "      <td>250000.0</td>\n",
       "      <td>250000.0</td>\n",
       "    </tr>\n",
       "    <tr>\n",
       "      <th>3</th>\n",
       "      <td>4</td>\n",
       "      <td>M</td>\n",
       "      <td>56.00</td>\n",
       "      <td>Central</td>\n",
       "      <td>52.00</td>\n",
       "      <td>Central</td>\n",
       "      <td>Science</td>\n",
       "      <td>52.00</td>\n",
       "      <td>Sci&amp;Tech</td>\n",
       "      <td>No</td>\n",
       "      <td>66.0</td>\n",
       "      <td>Mkt&amp;HR</td>\n",
       "      <td>59.43</td>\n",
       "      <td>Not Placed</td>\n",
       "      <td>288655.405405</td>\n",
       "      <td>288655.405405</td>\n",
       "      <td>265000.0</td>\n",
       "      <td>300000.0</td>\n",
       "    </tr>\n",
       "    <tr>\n",
       "      <th>4</th>\n",
       "      <td>5</td>\n",
       "      <td>M</td>\n",
       "      <td>85.80</td>\n",
       "      <td>Central</td>\n",
       "      <td>73.60</td>\n",
       "      <td>Central</td>\n",
       "      <td>Commerce</td>\n",
       "      <td>73.30</td>\n",
       "      <td>Comm&amp;Mgmt</td>\n",
       "      <td>No</td>\n",
       "      <td>96.8</td>\n",
       "      <td>Mkt&amp;Fin</td>\n",
       "      <td>55.50</td>\n",
       "      <td>Placed</td>\n",
       "      <td>425000.000000</td>\n",
       "      <td>425000.000000</td>\n",
       "      <td>425000.0</td>\n",
       "      <td>425000.0</td>\n",
       "    </tr>\n",
       "  </tbody>\n",
       "</table>\n",
       "</div>"
      ],
      "text/plain": [
       "   sl_no gender  ssc_p    ssc_b  hsc_p    hsc_b     hsc_s  degree_p  \\\n",
       "0      1      M  67.00   Others  91.00   Others  Commerce     58.00   \n",
       "1      2      M  79.33  Central  78.33   Others   Science     77.48   \n",
       "2      3      M  65.00  Central  68.00  Central      Arts     64.00   \n",
       "3      4      M  56.00  Central  52.00  Central   Science     52.00   \n",
       "4      5      M  85.80  Central  73.60  Central  Commerce     73.30   \n",
       "\n",
       "    degree_t workex  etest_p specialisation  mba_p      status         salary  \\\n",
       "0   Sci&Tech     No     55.0         Mkt&HR  58.80      Placed  270000.000000   \n",
       "1   Sci&Tech    Yes     86.5        Mkt&Fin  66.28      Placed  200000.000000   \n",
       "2  Comm&Mgmt     No     75.0        Mkt&Fin  57.80      Placed  250000.000000   \n",
       "3   Sci&Tech     No     66.0         Mkt&HR  59.43  Not Placed  288655.405405   \n",
       "4  Comm&Mgmt     No     96.8        Mkt&Fin  55.50      Placed  425000.000000   \n",
       "\n",
       "     salary_mean  salary_median  salary_mode  \n",
       "0  270000.000000       270000.0     270000.0  \n",
       "1  200000.000000       200000.0     200000.0  \n",
       "2  250000.000000       250000.0     250000.0  \n",
       "3  288655.405405       265000.0     300000.0  \n",
       "4  425000.000000       425000.0     425000.0  "
      ]
     },
     "execution_count": 12,
     "metadata": {},
     "output_type": "execute_result"
    }
   ],
   "source": [
    "df['salary'] = df['salary'].fillna(df['salary'].mean())\n",
    "df.head()"
   ]
  },
  {
   "cell_type": "code",
   "execution_count": 13,
   "metadata": {},
   "outputs": [
    {
     "data": {
      "text/plain": [
       "sl_no             0\n",
       "gender            0\n",
       "ssc_p             0\n",
       "ssc_b             0\n",
       "hsc_p             0\n",
       "hsc_b             0\n",
       "hsc_s             0\n",
       "degree_p          0\n",
       "degree_t          0\n",
       "workex            0\n",
       "etest_p           0\n",
       "specialisation    0\n",
       "mba_p             0\n",
       "status            0\n",
       "salary            0\n",
       "dtype: int64"
      ]
     },
     "execution_count": 13,
     "metadata": {},
     "output_type": "execute_result"
    }
   ],
   "source": [
    "df = df.drop(columns=['salary_mean', 'salary_median', 'salary_mode'],axis=1)\n",
    "df.isnull().sum()"
   ]
  },
  {
   "cell_type": "markdown",
   "metadata": {},
   "source": [
    "## EDA"
   ]
  },
  {
   "cell_type": "code",
   "execution_count": 14,
   "metadata": {},
   "outputs": [
    {
     "name": "stderr",
     "output_type": "stream",
     "text": [
      "C:\\ProgramData\\Anaconda3\\lib\\site-packages\\seaborn\\_decorators.py:36: FutureWarning: Pass the following variable as a keyword arg: x. From version 0.12, the only valid positional argument will be `data`, and passing other arguments without an explicit keyword will result in an error or misinterpretation.\n",
      "  warnings.warn(\n"
     ]
    },
    {
     "data": {
      "text/plain": [
       "<AxesSubplot:xlabel='status', ylabel='count'>"
      ]
     },
     "execution_count": 14,
     "metadata": {},
     "output_type": "execute_result"
    },
    {
     "data": {
      "image/png": "[encoded data removed]",
      "text/plain": [
       "<Figure size 432x288 with 1 Axes>"
      ]
     },
     "metadata": {
      "needs_background": "light"
     },
     "output_type": "display_data"
    }
   ],
   "source": [
    "sn.countplot(df['status'],palette='plasma')"
   ]
  },
  {
   "cell_type": "code",
   "execution_count": 15,
   "metadata": {},
   "outputs": [
    {
     "name": "stderr",
     "output_type": "stream",
     "text": [
      "C:\\ProgramData\\Anaconda3\\lib\\site-packages\\seaborn\\_decorators.py:36: FutureWarning: Pass the following variable as a keyword arg: x. From version 0.12, the only valid positional argument will be `data`, and passing other arguments without an explicit keyword will result in an error or misinterpretation.\n",
      "  warnings.warn(\n"
     ]
    },
    {
     "name": "stdout",
     "output_type": "stream",
     "text": [
      "Count Plot for feature gender is shown ↓\n"
     ]
    },
    {
     "data": {
      "image/png": "[encoded data removed]",
      "text/plain": [
       "<Figure size 432x288 with 1 Axes>"
      ]
     },
     "metadata": {
      "needs_background": "light"
     },
     "output_type": "display_data"
    },
    {
     "name": "stdout",
     "output_type": "stream",
     "text": [
      "===========================================================================\n",
      "Count Plot for feature ssc_b is shown ↓\n"
     ]
    },
    {
     "name": "stderr",
     "output_type": "stream",
     "text": [
      "C:\\ProgramData\\Anaconda3\\lib\\site-packages\\seaborn\\_decorators.py:36: FutureWarning: Pass the following variable as a keyword arg: x. From version 0.12, the only valid positional argument will be `data`, and passing other arguments without an explicit keyword will result in an error or misinterpretation.\n",
      "  warnings.warn(\n"
     ]
    },
    {
     "data": {
      "image/png": "[encoded data removed]",
      "text/plain": [
       "<Figure size 432x288 with 1 Axes>"
      ]
     },
     "metadata": {
      "needs_background": "light"
     },
     "output_type": "display_data"
    },
    {
     "name": "stderr",
     "output_type": "stream",
     "text": [
      "C:\\ProgramData\\Anaconda3\\lib\\site-packages\\seaborn\\_decorators.py:36: FutureWarning: Pass the following variable as a keyword arg: x. From version 0.12, the only valid positional argument will be `data`, and passing other arguments without an explicit keyword will result in an error or misinterpretation.\n",
      "  warnings.warn(\n"
     ]
    },
    {
     "name": "stdout",
     "output_type": "stream",
     "text": [
      "===========================================================================\n",
      "Count Plot for feature hsc_b is shown ↓\n"
     ]
    },
    {
     "data": {
      "image/png": "[encoded data removed]",
      "text/plain": [
       "<Figure size 432x288 with 1 Axes>"
      ]
     },
     "metadata": {
      "needs_background": "light"
     },
     "output_type": "display_data"
    },
    {
     "name": "stdout",
     "output_type": "stream",
     "text": [
      "===========================================================================\n",
      "Count Plot for feature hsc_s is shown ↓\n"
     ]
    },
    {
     "name": "stderr",
     "output_type": "stream",
     "text": [
      "C:\\ProgramData\\Anaconda3\\lib\\site-packages\\seaborn\\_decorators.py:36: FutureWarning: Pass the following variable as a keyword arg: x. From version 0.12, the only valid positional argument will be `data`, and passing other arguments without an explicit keyword will result in an error or misinterpretation.\n",
      "  warnings.warn(\n"
     ]
    },
    {
     "data": {
      "image/png": "[encoded data removed]",
      "text/plain": [
       "<Figure size 432x288 with 1 Axes>"
      ]
     },
     "metadata": {
      "needs_background": "light"
     },
     "output_type": "display_data"
    },
    {
     "name": "stderr",
     "output_type": "stream",
     "text": [
      "C:\\ProgramData\\Anaconda3\\lib\\site-packages\\seaborn\\_decorators.py:36: FutureWarning: Pass the following variable as a keyword arg: x. From version 0.12, the only valid positional argument will be `data`, and passing other arguments without an explicit keyword will result in an error or misinterpretation.\n",
      "  warnings.warn(\n"
     ]
    },
    {
     "name": "stdout",
     "output_type": "stream",
     "text": [
      "===========================================================================\n",
      "Count Plot for feature degree_t is shown ↓\n"
     ]
    },
    {
     "data": {
      "image/png": "[encoded data removed]",
      "text/plain": [
       "<Figure size 432x288 with 1 Axes>"
      ]
     },
     "metadata": {
      "needs_background": "light"
     },
     "output_type": "display_data"
    },
    {
     "name": "stderr",
     "output_type": "stream",
     "text": [
      "C:\\ProgramData\\Anaconda3\\lib\\site-packages\\seaborn\\_decorators.py:36: FutureWarning: Pass the following variable as a keyword arg: x. From version 0.12, the only valid positional argument will be `data`, and passing other arguments without an explicit keyword will result in an error or misinterpretation.\n",
      "  warnings.warn(\n"
     ]
    },
    {
     "name": "stdout",
     "output_type": "stream",
     "text": [
      "===========================================================================\n",
      "Count Plot for feature workex is shown ↓\n"
     ]
    },
    {
     "data": {
      "image/png": "[encoded data removed]",
      "text/plain": [
       "<Figure size 432x288 with 1 Axes>"
      ]
     },
     "metadata": {
      "needs_background": "light"
     },
     "output_type": "display_data"
    },
    {
     "name": "stderr",
     "output_type": "stream",
     "text": [
      "C:\\ProgramData\\Anaconda3\\lib\\site-packages\\seaborn\\_decorators.py:36: FutureWarning: Pass the following variable as a keyword arg: x. From version 0.12, the only valid positional argument will be `data`, and passing other arguments without an explicit keyword will result in an error or misinterpretation.\n",
      "  warnings.warn(\n"
     ]
    },
    {
     "name": "stdout",
     "output_type": "stream",
     "text": [
      "===========================================================================\n",
      "Count Plot for feature specialisation is shown ↓\n"
     ]
    },
    {
     "data": {
      "image/png": "[encoded data removed]",
      "text/plain": [
       "<Figure size 432x288 with 1 Axes>"
      ]
     },
     "metadata": {
      "needs_background": "light"
     },
     "output_type": "display_data"
    },
    {
     "name": "stderr",
     "output_type": "stream",
     "text": [
      "C:\\ProgramData\\Anaconda3\\lib\\site-packages\\seaborn\\_decorators.py:36: FutureWarning: Pass the following variable as a keyword arg: x. From version 0.12, the only valid positional argument will be `data`, and passing other arguments without an explicit keyword will result in an error or misinterpretation.\n",
      "  warnings.warn(\n"
     ]
    },
    {
     "name": "stdout",
     "output_type": "stream",
     "text": [
      "===========================================================================\n",
      "Count Plot for feature status is shown ↓\n"
     ]
    },
    {
     "data": {
      "image/png": "[encoded data removed]",
      "text/plain": [
       "<Figure size 432x288 with 1 Axes>"
      ]
     },
     "metadata": {
      "needs_background": "light"
     },
     "output_type": "display_data"
    },
    {
     "name": "stdout",
     "output_type": "stream",
     "text": [
      "===========================================================================\n"
     ]
    }
   ],
   "source": [
    "def valuecount(col):\n",
    "    \n",
    "    return dict(df[col].value_counts())\n",
    "\n",
    "def getcountplot(col):\n",
    "    \n",
    "    sn.countplot(df[col],palette='plasma')\n",
    "    plt.xticks(rotation = '45',fontweight = 'bold',fontsize = '10')\n",
    "    plt.yticks(rotation = '45',fontweight = 'bold',fontsize = '10')\n",
    "    plt.show()\n",
    "    \n",
    "\n",
    "for col in catvars:\n",
    "    print(f'Count Plot for feature {col} is shown ↓')\n",
    "    getcountplot(col)\n",
    "    print('='*75)"
   ]
  },
  {
   "cell_type": "code",
   "execution_count": 16,
   "metadata": {},
   "outputs": [
    {
     "data": {
      "text/plain": [
       "{'gender': {'M': 139, 'F': 76},\n",
       " 'ssc_b': {'Central': 116, 'Others': 99},\n",
       " 'hsc_b': {'Others': 131, 'Central': 84},\n",
       " 'hsc_s': {'Commerce': 113, 'Science': 91, 'Arts': 11},\n",
       " 'degree_t': {'Comm&Mgmt': 145, 'Sci&Tech': 59, 'Others': 11},\n",
       " 'workex': {'No': 141, 'Yes': 74},\n",
       " 'specialisation': {'Mkt&Fin': 120, 'Mkt&HR': 95},\n",
       " 'status': {'Placed': 148, 'Not Placed': 67}}"
      ]
     },
     "execution_count": 16,
     "metadata": {},
     "output_type": "execute_result"
    }
   ],
   "source": [
    "getfinaldict = {}\n",
    "for col in catvars:\n",
    "    getfinaldict[col] = valuecount(col)\n",
    "    \n",
    "getfinaldict"
   ]
  },
  {
   "cell_type": "code",
   "execution_count": 17,
   "metadata": {
    "scrolled": true
   },
   "outputs": [
    {
     "data": {
      "text/html": [
       "<div>\n",
       "<style scoped>\n",
       "    .dataframe tbody tr th:only-of-type {\n",
       "        vertical-align: middle;\n",
       "    }\n",
       "\n",
       "    .dataframe tbody tr th {\n",
       "        vertical-align: top;\n",
       "    }\n",
       "\n",
       "    .dataframe thead th {\n",
       "        text-align: right;\n",
       "    }\n",
       "</style>\n",
       "<table border=\"1\" class=\"dataframe\">\n",
       "  <thead>\n",
       "    <tr style=\"text-align: right;\">\n",
       "      <th></th>\n",
       "      <th>index</th>\n",
       "      <th>sl_no</th>\n",
       "      <th>gender</th>\n",
       "      <th>ssc_p</th>\n",
       "      <th>ssc_b</th>\n",
       "      <th>hsc_p</th>\n",
       "      <th>hsc_b</th>\n",
       "      <th>hsc_s</th>\n",
       "      <th>degree_p</th>\n",
       "      <th>degree_t</th>\n",
       "      <th>workex</th>\n",
       "      <th>etest_p</th>\n",
       "      <th>specialisation</th>\n",
       "      <th>mba_p</th>\n",
       "      <th>status</th>\n",
       "      <th>salary</th>\n",
       "    </tr>\n",
       "  </thead>\n",
       "  <tbody>\n",
       "    <tr>\n",
       "      <th>0</th>\n",
       "      <td>150</td>\n",
       "      <td>151</td>\n",
       "      <td>M</td>\n",
       "      <td>71.00</td>\n",
       "      <td>Central</td>\n",
       "      <td>58.66</td>\n",
       "      <td>Central</td>\n",
       "      <td>Science</td>\n",
       "      <td>58.00</td>\n",
       "      <td>Sci&amp;Tech</td>\n",
       "      <td>Yes</td>\n",
       "      <td>56.0</td>\n",
       "      <td>Mkt&amp;Fin</td>\n",
       "      <td>61.30</td>\n",
       "      <td>Placed</td>\n",
       "      <td>690000.0</td>\n",
       "    </tr>\n",
       "    <tr>\n",
       "      <th>1</th>\n",
       "      <td>77</td>\n",
       "      <td>78</td>\n",
       "      <td>M</td>\n",
       "      <td>64.00</td>\n",
       "      <td>Others</td>\n",
       "      <td>80.00</td>\n",
       "      <td>Others</td>\n",
       "      <td>Science</td>\n",
       "      <td>65.00</td>\n",
       "      <td>Sci&amp;Tech</td>\n",
       "      <td>Yes</td>\n",
       "      <td>69.0</td>\n",
       "      <td>Mkt&amp;Fin</td>\n",
       "      <td>57.65</td>\n",
       "      <td>Placed</td>\n",
       "      <td>500000.0</td>\n",
       "    </tr>\n",
       "    <tr>\n",
       "      <th>2</th>\n",
       "      <td>163</td>\n",
       "      <td>164</td>\n",
       "      <td>M</td>\n",
       "      <td>63.00</td>\n",
       "      <td>Others</td>\n",
       "      <td>67.00</td>\n",
       "      <td>Others</td>\n",
       "      <td>Science</td>\n",
       "      <td>64.00</td>\n",
       "      <td>Sci&amp;Tech</td>\n",
       "      <td>No</td>\n",
       "      <td>75.0</td>\n",
       "      <td>Mkt&amp;Fin</td>\n",
       "      <td>66.46</td>\n",
       "      <td>Placed</td>\n",
       "      <td>500000.0</td>\n",
       "    </tr>\n",
       "    <tr>\n",
       "      <th>3</th>\n",
       "      <td>174</td>\n",
       "      <td>175</td>\n",
       "      <td>M</td>\n",
       "      <td>73.24</td>\n",
       "      <td>Others</td>\n",
       "      <td>50.83</td>\n",
       "      <td>Others</td>\n",
       "      <td>Science</td>\n",
       "      <td>64.27</td>\n",
       "      <td>Sci&amp;Tech</td>\n",
       "      <td>Yes</td>\n",
       "      <td>64.0</td>\n",
       "      <td>Mkt&amp;Fin</td>\n",
       "      <td>66.23</td>\n",
       "      <td>Placed</td>\n",
       "      <td>500000.0</td>\n",
       "    </tr>\n",
       "    <tr>\n",
       "      <th>4</th>\n",
       "      <td>53</td>\n",
       "      <td>54</td>\n",
       "      <td>M</td>\n",
       "      <td>80.00</td>\n",
       "      <td>Others</td>\n",
       "      <td>70.00</td>\n",
       "      <td>Others</td>\n",
       "      <td>Science</td>\n",
       "      <td>72.00</td>\n",
       "      <td>Sci&amp;Tech</td>\n",
       "      <td>No</td>\n",
       "      <td>87.0</td>\n",
       "      <td>Mkt&amp;HR</td>\n",
       "      <td>71.04</td>\n",
       "      <td>Placed</td>\n",
       "      <td>450000.0</td>\n",
       "    </tr>\n",
       "  </tbody>\n",
       "</table>\n",
       "</div>"
      ],
      "text/plain": [
       "   index  sl_no gender  ssc_p    ssc_b  hsc_p    hsc_b    hsc_s  degree_p  \\\n",
       "0    150    151      M  71.00  Central  58.66  Central  Science     58.00   \n",
       "1     77     78      M  64.00   Others  80.00   Others  Science     65.00   \n",
       "2    163    164      M  63.00   Others  67.00   Others  Science     64.00   \n",
       "3    174    175      M  73.24   Others  50.83   Others  Science     64.27   \n",
       "4     53     54      M  80.00   Others  70.00   Others  Science     72.00   \n",
       "\n",
       "   degree_t workex  etest_p specialisation  mba_p  status    salary  \n",
       "0  Sci&Tech    Yes     56.0        Mkt&Fin  61.30  Placed  690000.0  \n",
       "1  Sci&Tech    Yes     69.0        Mkt&Fin  57.65  Placed  500000.0  \n",
       "2  Sci&Tech     No     75.0        Mkt&Fin  66.46  Placed  500000.0  \n",
       "3  Sci&Tech    Yes     64.0        Mkt&Fin  66.23  Placed  500000.0  \n",
       "4  Sci&Tech     No     87.0         Mkt&HR  71.04  Placed  450000.0  "
      ]
     },
     "execution_count": 17,
     "metadata": {},
     "output_type": "execute_result"
    }
   ],
   "source": [
    "df[(df['degree_t']=='Sci&Tech')&(df['status']=='Placed')].sort_values(by = 'salary',ascending = False).reset_index().head(5)"
   ]
  },
  {
   "cell_type": "code",
   "execution_count": 18,
   "metadata": {},
   "outputs": [
    {
     "data": {
      "text/html": [
       "<div>\n",
       "<style scoped>\n",
       "    .dataframe tbody tr th:only-of-type {\n",
       "        vertical-align: middle;\n",
       "    }\n",
       "\n",
       "    .dataframe tbody tr th {\n",
       "        vertical-align: top;\n",
       "    }\n",
       "\n",
       "    .dataframe thead th {\n",
       "        text-align: right;\n",
       "    }\n",
       "</style>\n",
       "<table border=\"1\" class=\"dataframe\">\n",
       "  <thead>\n",
       "    <tr style=\"text-align: right;\">\n",
       "      <th></th>\n",
       "      <th>index</th>\n",
       "      <th>sl_no</th>\n",
       "      <th>gender</th>\n",
       "      <th>ssc_p</th>\n",
       "      <th>ssc_b</th>\n",
       "      <th>hsc_p</th>\n",
       "      <th>hsc_b</th>\n",
       "      <th>hsc_s</th>\n",
       "      <th>degree_p</th>\n",
       "      <th>degree_t</th>\n",
       "      <th>workex</th>\n",
       "      <th>etest_p</th>\n",
       "      <th>specialisation</th>\n",
       "      <th>mba_p</th>\n",
       "      <th>status</th>\n",
       "      <th>salary</th>\n",
       "    </tr>\n",
       "  </thead>\n",
       "  <tbody>\n",
       "    <tr>\n",
       "      <th>0</th>\n",
       "      <td>119</td>\n",
       "      <td>120</td>\n",
       "      <td>M</td>\n",
       "      <td>60.8</td>\n",
       "      <td>Central</td>\n",
       "      <td>68.4</td>\n",
       "      <td>Central</td>\n",
       "      <td>Commerce</td>\n",
       "      <td>64.6</td>\n",
       "      <td>Comm&amp;Mgmt</td>\n",
       "      <td>Yes</td>\n",
       "      <td>82.66</td>\n",
       "      <td>Mkt&amp;Fin</td>\n",
       "      <td>64.34</td>\n",
       "      <td>Placed</td>\n",
       "      <td>940000.0</td>\n",
       "    </tr>\n",
       "    <tr>\n",
       "      <th>1</th>\n",
       "      <td>177</td>\n",
       "      <td>178</td>\n",
       "      <td>F</td>\n",
       "      <td>73.0</td>\n",
       "      <td>Central</td>\n",
       "      <td>97.0</td>\n",
       "      <td>Others</td>\n",
       "      <td>Commerce</td>\n",
       "      <td>79.0</td>\n",
       "      <td>Comm&amp;Mgmt</td>\n",
       "      <td>Yes</td>\n",
       "      <td>89.00</td>\n",
       "      <td>Mkt&amp;Fin</td>\n",
       "      <td>70.81</td>\n",
       "      <td>Placed</td>\n",
       "      <td>650000.0</td>\n",
       "    </tr>\n",
       "    <tr>\n",
       "      <th>2</th>\n",
       "      <td>4</td>\n",
       "      <td>5</td>\n",
       "      <td>M</td>\n",
       "      <td>85.8</td>\n",
       "      <td>Central</td>\n",
       "      <td>73.6</td>\n",
       "      <td>Central</td>\n",
       "      <td>Commerce</td>\n",
       "      <td>73.3</td>\n",
       "      <td>Comm&amp;Mgmt</td>\n",
       "      <td>No</td>\n",
       "      <td>96.80</td>\n",
       "      <td>Mkt&amp;Fin</td>\n",
       "      <td>55.50</td>\n",
       "      <td>Placed</td>\n",
       "      <td>425000.0</td>\n",
       "    </tr>\n",
       "    <tr>\n",
       "      <th>3</th>\n",
       "      <td>95</td>\n",
       "      <td>96</td>\n",
       "      <td>M</td>\n",
       "      <td>73.0</td>\n",
       "      <td>Central</td>\n",
       "      <td>78.0</td>\n",
       "      <td>Others</td>\n",
       "      <td>Commerce</td>\n",
       "      <td>65.0</td>\n",
       "      <td>Comm&amp;Mgmt</td>\n",
       "      <td>Yes</td>\n",
       "      <td>95.46</td>\n",
       "      <td>Mkt&amp;Fin</td>\n",
       "      <td>62.16</td>\n",
       "      <td>Placed</td>\n",
       "      <td>420000.0</td>\n",
       "    </tr>\n",
       "    <tr>\n",
       "      <th>4</th>\n",
       "      <td>210</td>\n",
       "      <td>211</td>\n",
       "      <td>M</td>\n",
       "      <td>80.6</td>\n",
       "      <td>Others</td>\n",
       "      <td>82.0</td>\n",
       "      <td>Others</td>\n",
       "      <td>Commerce</td>\n",
       "      <td>77.6</td>\n",
       "      <td>Comm&amp;Mgmt</td>\n",
       "      <td>No</td>\n",
       "      <td>91.00</td>\n",
       "      <td>Mkt&amp;Fin</td>\n",
       "      <td>74.49</td>\n",
       "      <td>Placed</td>\n",
       "      <td>400000.0</td>\n",
       "    </tr>\n",
       "  </tbody>\n",
       "</table>\n",
       "</div>"
      ],
      "text/plain": [
       "   index  sl_no gender  ssc_p    ssc_b  hsc_p    hsc_b     hsc_s  degree_p  \\\n",
       "0    119    120      M   60.8  Central   68.4  Central  Commerce      64.6   \n",
       "1    177    178      F   73.0  Central   97.0   Others  Commerce      79.0   \n",
       "2      4      5      M   85.8  Central   73.6  Central  Commerce      73.3   \n",
       "3     95     96      M   73.0  Central   78.0   Others  Commerce      65.0   \n",
       "4    210    211      M   80.6   Others   82.0   Others  Commerce      77.6   \n",
       "\n",
       "    degree_t workex  etest_p specialisation  mba_p  status    salary  \n",
       "0  Comm&Mgmt    Yes    82.66        Mkt&Fin  64.34  Placed  940000.0  \n",
       "1  Comm&Mgmt    Yes    89.00        Mkt&Fin  70.81  Placed  650000.0  \n",
       "2  Comm&Mgmt     No    96.80        Mkt&Fin  55.50  Placed  425000.0  \n",
       "3  Comm&Mgmt    Yes    95.46        Mkt&Fin  62.16  Placed  420000.0  \n",
       "4  Comm&Mgmt     No    91.00        Mkt&Fin  74.49  Placed  400000.0  "
      ]
     },
     "execution_count": 18,
     "metadata": {},
     "output_type": "execute_result"
    }
   ],
   "source": [
    "df[(df['degree_t']=='Comm&Mgmt')&(df['status']=='Placed')].sort_values(by = 'salary',ascending = False).reset_index().head(5)"
   ]
  },
  {
   "cell_type": "code",
   "execution_count": 19,
   "metadata": {},
   "outputs": [
    {
     "data": {
      "text/html": [
       "<div>\n",
       "<style scoped>\n",
       "    .dataframe tbody tr th:only-of-type {\n",
       "        vertical-align: middle;\n",
       "    }\n",
       "\n",
       "    .dataframe tbody tr th {\n",
       "        vertical-align: top;\n",
       "    }\n",
       "\n",
       "    .dataframe thead th {\n",
       "        text-align: right;\n",
       "    }\n",
       "</style>\n",
       "<table border=\"1\" class=\"dataframe\">\n",
       "  <thead>\n",
       "    <tr style=\"text-align: right;\">\n",
       "      <th></th>\n",
       "      <th>sl_no</th>\n",
       "      <th>gender</th>\n",
       "      <th>ssc_p</th>\n",
       "      <th>ssc_b</th>\n",
       "      <th>hsc_p</th>\n",
       "      <th>hsc_b</th>\n",
       "      <th>hsc_s</th>\n",
       "      <th>degree_p</th>\n",
       "      <th>degree_t</th>\n",
       "      <th>workex</th>\n",
       "      <th>etest_p</th>\n",
       "      <th>specialisation</th>\n",
       "      <th>mba_p</th>\n",
       "      <th>status</th>\n",
       "      <th>salary</th>\n",
       "    </tr>\n",
       "  </thead>\n",
       "  <tbody>\n",
       "    <tr>\n",
       "      <th>1</th>\n",
       "      <td>2</td>\n",
       "      <td>M</td>\n",
       "      <td>79.33</td>\n",
       "      <td>Central</td>\n",
       "      <td>78.33</td>\n",
       "      <td>Others</td>\n",
       "      <td>Science</td>\n",
       "      <td>77.48</td>\n",
       "      <td>Sci&amp;Tech</td>\n",
       "      <td>Yes</td>\n",
       "      <td>86.50</td>\n",
       "      <td>Mkt&amp;Fin</td>\n",
       "      <td>66.28</td>\n",
       "      <td>Placed</td>\n",
       "      <td>200000.0</td>\n",
       "    </tr>\n",
       "    <tr>\n",
       "      <th>15</th>\n",
       "      <td>16</td>\n",
       "      <td>F</td>\n",
       "      <td>65.00</td>\n",
       "      <td>Central</td>\n",
       "      <td>75.00</td>\n",
       "      <td>Central</td>\n",
       "      <td>Commerce</td>\n",
       "      <td>69.00</td>\n",
       "      <td>Comm&amp;Mgmt</td>\n",
       "      <td>Yes</td>\n",
       "      <td>72.00</td>\n",
       "      <td>Mkt&amp;Fin</td>\n",
       "      <td>64.66</td>\n",
       "      <td>Placed</td>\n",
       "      <td>200000.0</td>\n",
       "    </tr>\n",
       "    <tr>\n",
       "      <th>44</th>\n",
       "      <td>45</td>\n",
       "      <td>F</td>\n",
       "      <td>77.00</td>\n",
       "      <td>Others</td>\n",
       "      <td>73.00</td>\n",
       "      <td>Others</td>\n",
       "      <td>Commerce</td>\n",
       "      <td>81.00</td>\n",
       "      <td>Comm&amp;Mgmt</td>\n",
       "      <td>Yes</td>\n",
       "      <td>89.00</td>\n",
       "      <td>Mkt&amp;Fin</td>\n",
       "      <td>69.70</td>\n",
       "      <td>Placed</td>\n",
       "      <td>200000.0</td>\n",
       "    </tr>\n",
       "    <tr>\n",
       "      <th>50</th>\n",
       "      <td>51</td>\n",
       "      <td>F</td>\n",
       "      <td>75.20</td>\n",
       "      <td>Central</td>\n",
       "      <td>73.20</td>\n",
       "      <td>Central</td>\n",
       "      <td>Science</td>\n",
       "      <td>68.40</td>\n",
       "      <td>Comm&amp;Mgmt</td>\n",
       "      <td>No</td>\n",
       "      <td>65.00</td>\n",
       "      <td>Mkt&amp;HR</td>\n",
       "      <td>62.98</td>\n",
       "      <td>Placed</td>\n",
       "      <td>200000.0</td>\n",
       "    </tr>\n",
       "    <tr>\n",
       "      <th>107</th>\n",
       "      <td>108</td>\n",
       "      <td>M</td>\n",
       "      <td>82.00</td>\n",
       "      <td>Others</td>\n",
       "      <td>90.00</td>\n",
       "      <td>Others</td>\n",
       "      <td>Commerce</td>\n",
       "      <td>83.00</td>\n",
       "      <td>Comm&amp;Mgmt</td>\n",
       "      <td>No</td>\n",
       "      <td>80.00</td>\n",
       "      <td>Mkt&amp;HR</td>\n",
       "      <td>73.52</td>\n",
       "      <td>Placed</td>\n",
       "      <td>200000.0</td>\n",
       "    </tr>\n",
       "    <tr>\n",
       "      <th>119</th>\n",
       "      <td>120</td>\n",
       "      <td>M</td>\n",
       "      <td>60.80</td>\n",
       "      <td>Central</td>\n",
       "      <td>68.40</td>\n",
       "      <td>Central</td>\n",
       "      <td>Commerce</td>\n",
       "      <td>64.60</td>\n",
       "      <td>Comm&amp;Mgmt</td>\n",
       "      <td>Yes</td>\n",
       "      <td>82.66</td>\n",
       "      <td>Mkt&amp;Fin</td>\n",
       "      <td>64.34</td>\n",
       "      <td>Placed</td>\n",
       "      <td>940000.0</td>\n",
       "    </tr>\n",
       "    <tr>\n",
       "      <th>135</th>\n",
       "      <td>136</td>\n",
       "      <td>F</td>\n",
       "      <td>72.00</td>\n",
       "      <td>Central</td>\n",
       "      <td>56.00</td>\n",
       "      <td>Others</td>\n",
       "      <td>Science</td>\n",
       "      <td>69.00</td>\n",
       "      <td>Comm&amp;Mgmt</td>\n",
       "      <td>No</td>\n",
       "      <td>55.60</td>\n",
       "      <td>Mkt&amp;HR</td>\n",
       "      <td>65.63</td>\n",
       "      <td>Placed</td>\n",
       "      <td>200000.0</td>\n",
       "    </tr>\n",
       "  </tbody>\n",
       "</table>\n",
       "</div>"
      ],
      "text/plain": [
       "     sl_no gender  ssc_p    ssc_b  hsc_p    hsc_b     hsc_s  degree_p  \\\n",
       "1        2      M  79.33  Central  78.33   Others   Science     77.48   \n",
       "15      16      F  65.00  Central  75.00  Central  Commerce     69.00   \n",
       "44      45      F  77.00   Others  73.00   Others  Commerce     81.00   \n",
       "50      51      F  75.20  Central  73.20  Central   Science     68.40   \n",
       "107    108      M  82.00   Others  90.00   Others  Commerce     83.00   \n",
       "119    120      M  60.80  Central  68.40  Central  Commerce     64.60   \n",
       "135    136      F  72.00  Central  56.00   Others   Science     69.00   \n",
       "\n",
       "      degree_t workex  etest_p specialisation  mba_p  status    salary  \n",
       "1     Sci&Tech    Yes    86.50        Mkt&Fin  66.28  Placed  200000.0  \n",
       "15   Comm&Mgmt    Yes    72.00        Mkt&Fin  64.66  Placed  200000.0  \n",
       "44   Comm&Mgmt    Yes    89.00        Mkt&Fin  69.70  Placed  200000.0  \n",
       "50   Comm&Mgmt     No    65.00         Mkt&HR  62.98  Placed  200000.0  \n",
       "107  Comm&Mgmt     No    80.00         Mkt&HR  73.52  Placed  200000.0  \n",
       "119  Comm&Mgmt    Yes    82.66        Mkt&Fin  64.34  Placed  940000.0  \n",
       "135  Comm&Mgmt     No    55.60         Mkt&HR  65.63  Placed  200000.0  "
      ]
     },
     "execution_count": 19,
     "metadata": {},
     "output_type": "execute_result"
    }
   ],
   "source": [
    "df[(df['salary']==max(df['salary'])) | (df['salary']==min(df['salary']))]"
   ]
  },
  {
   "cell_type": "code",
   "execution_count": 20,
   "metadata": {
    "scrolled": true
   },
   "outputs": [
    {
     "data": {
      "text/html": [
       "<div>\n",
       "<style scoped>\n",
       "    .dataframe tbody tr th:only-of-type {\n",
       "        vertical-align: middle;\n",
       "    }\n",
       "\n",
       "    .dataframe tbody tr th {\n",
       "        vertical-align: top;\n",
       "    }\n",
       "\n",
       "    .dataframe thead th {\n",
       "        text-align: right;\n",
       "    }\n",
       "</style>\n",
       "<table border=\"1\" class=\"dataframe\">\n",
       "  <thead>\n",
       "    <tr style=\"text-align: right;\">\n",
       "      <th></th>\n",
       "      <th>index</th>\n",
       "      <th>sl_no</th>\n",
       "      <th>gender</th>\n",
       "      <th>ssc_p</th>\n",
       "      <th>ssc_b</th>\n",
       "      <th>hsc_p</th>\n",
       "      <th>hsc_b</th>\n",
       "      <th>hsc_s</th>\n",
       "      <th>degree_p</th>\n",
       "      <th>degree_t</th>\n",
       "      <th>workex</th>\n",
       "      <th>etest_p</th>\n",
       "      <th>specialisation</th>\n",
       "      <th>mba_p</th>\n",
       "      <th>status</th>\n",
       "      <th>salary</th>\n",
       "    </tr>\n",
       "  </thead>\n",
       "  <tbody>\n",
       "    <tr>\n",
       "      <th>0</th>\n",
       "      <td>150</td>\n",
       "      <td>151</td>\n",
       "      <td>M</td>\n",
       "      <td>71.00</td>\n",
       "      <td>Central</td>\n",
       "      <td>58.66</td>\n",
       "      <td>Central</td>\n",
       "      <td>Science</td>\n",
       "      <td>58.00</td>\n",
       "      <td>Sci&amp;Tech</td>\n",
       "      <td>Yes</td>\n",
       "      <td>56.00</td>\n",
       "      <td>Mkt&amp;Fin</td>\n",
       "      <td>61.30</td>\n",
       "      <td>Placed</td>\n",
       "      <td>690000.000000</td>\n",
       "    </tr>\n",
       "    <tr>\n",
       "      <th>1</th>\n",
       "      <td>77</td>\n",
       "      <td>78</td>\n",
       "      <td>M</td>\n",
       "      <td>64.00</td>\n",
       "      <td>Others</td>\n",
       "      <td>80.00</td>\n",
       "      <td>Others</td>\n",
       "      <td>Science</td>\n",
       "      <td>65.00</td>\n",
       "      <td>Sci&amp;Tech</td>\n",
       "      <td>Yes</td>\n",
       "      <td>69.00</td>\n",
       "      <td>Mkt&amp;Fin</td>\n",
       "      <td>57.65</td>\n",
       "      <td>Placed</td>\n",
       "      <td>500000.000000</td>\n",
       "    </tr>\n",
       "    <tr>\n",
       "      <th>2</th>\n",
       "      <td>174</td>\n",
       "      <td>175</td>\n",
       "      <td>M</td>\n",
       "      <td>73.24</td>\n",
       "      <td>Others</td>\n",
       "      <td>50.83</td>\n",
       "      <td>Others</td>\n",
       "      <td>Science</td>\n",
       "      <td>64.27</td>\n",
       "      <td>Sci&amp;Tech</td>\n",
       "      <td>Yes</td>\n",
       "      <td>64.00</td>\n",
       "      <td>Mkt&amp;Fin</td>\n",
       "      <td>66.23</td>\n",
       "      <td>Placed</td>\n",
       "      <td>500000.000000</td>\n",
       "    </tr>\n",
       "    <tr>\n",
       "      <th>3</th>\n",
       "      <td>163</td>\n",
       "      <td>164</td>\n",
       "      <td>M</td>\n",
       "      <td>63.00</td>\n",
       "      <td>Others</td>\n",
       "      <td>67.00</td>\n",
       "      <td>Others</td>\n",
       "      <td>Science</td>\n",
       "      <td>64.00</td>\n",
       "      <td>Sci&amp;Tech</td>\n",
       "      <td>No</td>\n",
       "      <td>75.00</td>\n",
       "      <td>Mkt&amp;Fin</td>\n",
       "      <td>66.46</td>\n",
       "      <td>Placed</td>\n",
       "      <td>500000.000000</td>\n",
       "    </tr>\n",
       "    <tr>\n",
       "      <th>4</th>\n",
       "      <td>53</td>\n",
       "      <td>54</td>\n",
       "      <td>M</td>\n",
       "      <td>80.00</td>\n",
       "      <td>Others</td>\n",
       "      <td>70.00</td>\n",
       "      <td>Others</td>\n",
       "      <td>Science</td>\n",
       "      <td>72.00</td>\n",
       "      <td>Sci&amp;Tech</td>\n",
       "      <td>No</td>\n",
       "      <td>87.00</td>\n",
       "      <td>Mkt&amp;HR</td>\n",
       "      <td>71.04</td>\n",
       "      <td>Placed</td>\n",
       "      <td>450000.000000</td>\n",
       "    </tr>\n",
       "    <tr>\n",
       "      <th>5</th>\n",
       "      <td>39</td>\n",
       "      <td>40</td>\n",
       "      <td>M</td>\n",
       "      <td>81.00</td>\n",
       "      <td>Others</td>\n",
       "      <td>68.00</td>\n",
       "      <td>Others</td>\n",
       "      <td>Science</td>\n",
       "      <td>64.00</td>\n",
       "      <td>Sci&amp;Tech</td>\n",
       "      <td>No</td>\n",
       "      <td>93.00</td>\n",
       "      <td>Mkt&amp;Fin</td>\n",
       "      <td>62.56</td>\n",
       "      <td>Placed</td>\n",
       "      <td>411000.000000</td>\n",
       "    </tr>\n",
       "    <tr>\n",
       "      <th>6</th>\n",
       "      <td>145</td>\n",
       "      <td>146</td>\n",
       "      <td>M</td>\n",
       "      <td>89.40</td>\n",
       "      <td>Others</td>\n",
       "      <td>65.66</td>\n",
       "      <td>Others</td>\n",
       "      <td>Science</td>\n",
       "      <td>71.25</td>\n",
       "      <td>Sci&amp;Tech</td>\n",
       "      <td>No</td>\n",
       "      <td>72.00</td>\n",
       "      <td>Mkt&amp;HR</td>\n",
       "      <td>63.23</td>\n",
       "      <td>Placed</td>\n",
       "      <td>400000.000000</td>\n",
       "    </tr>\n",
       "    <tr>\n",
       "      <th>7</th>\n",
       "      <td>128</td>\n",
       "      <td>129</td>\n",
       "      <td>M</td>\n",
       "      <td>80.40</td>\n",
       "      <td>Central</td>\n",
       "      <td>73.40</td>\n",
       "      <td>Central</td>\n",
       "      <td>Science</td>\n",
       "      <td>77.72</td>\n",
       "      <td>Sci&amp;Tech</td>\n",
       "      <td>Yes</td>\n",
       "      <td>81.20</td>\n",
       "      <td>Mkt&amp;HR</td>\n",
       "      <td>76.26</td>\n",
       "      <td>Placed</td>\n",
       "      <td>400000.000000</td>\n",
       "    </tr>\n",
       "    <tr>\n",
       "      <th>8</th>\n",
       "      <td>22</td>\n",
       "      <td>23</td>\n",
       "      <td>F</td>\n",
       "      <td>69.80</td>\n",
       "      <td>Others</td>\n",
       "      <td>60.80</td>\n",
       "      <td>Others</td>\n",
       "      <td>Science</td>\n",
       "      <td>72.23</td>\n",
       "      <td>Sci&amp;Tech</td>\n",
       "      <td>No</td>\n",
       "      <td>55.53</td>\n",
       "      <td>Mkt&amp;HR</td>\n",
       "      <td>68.81</td>\n",
       "      <td>Placed</td>\n",
       "      <td>360000.000000</td>\n",
       "    </tr>\n",
       "    <tr>\n",
       "      <th>9</th>\n",
       "      <td>24</td>\n",
       "      <td>25</td>\n",
       "      <td>M</td>\n",
       "      <td>76.50</td>\n",
       "      <td>Others</td>\n",
       "      <td>97.70</td>\n",
       "      <td>Others</td>\n",
       "      <td>Science</td>\n",
       "      <td>78.86</td>\n",
       "      <td>Sci&amp;Tech</td>\n",
       "      <td>No</td>\n",
       "      <td>97.40</td>\n",
       "      <td>Mkt&amp;Fin</td>\n",
       "      <td>74.01</td>\n",
       "      <td>Placed</td>\n",
       "      <td>360000.000000</td>\n",
       "    </tr>\n",
       "    <tr>\n",
       "      <th>10</th>\n",
       "      <td>70</td>\n",
       "      <td>71</td>\n",
       "      <td>M</td>\n",
       "      <td>82.00</td>\n",
       "      <td>Others</td>\n",
       "      <td>61.00</td>\n",
       "      <td>Others</td>\n",
       "      <td>Science</td>\n",
       "      <td>62.00</td>\n",
       "      <td>Sci&amp;Tech</td>\n",
       "      <td>No</td>\n",
       "      <td>89.00</td>\n",
       "      <td>Mkt&amp;Fin</td>\n",
       "      <td>65.45</td>\n",
       "      <td>Placed</td>\n",
       "      <td>360000.000000</td>\n",
       "    </tr>\n",
       "    <tr>\n",
       "      <th>11</th>\n",
       "      <td>178</td>\n",
       "      <td>179</td>\n",
       "      <td>M</td>\n",
       "      <td>68.00</td>\n",
       "      <td>Others</td>\n",
       "      <td>56.00</td>\n",
       "      <td>Others</td>\n",
       "      <td>Science</td>\n",
       "      <td>68.00</td>\n",
       "      <td>Sci&amp;Tech</td>\n",
       "      <td>No</td>\n",
       "      <td>73.00</td>\n",
       "      <td>Mkt&amp;HR</td>\n",
       "      <td>68.07</td>\n",
       "      <td>Placed</td>\n",
       "      <td>350000.000000</td>\n",
       "    </tr>\n",
       "    <tr>\n",
       "      <th>12</th>\n",
       "      <td>153</td>\n",
       "      <td>154</td>\n",
       "      <td>M</td>\n",
       "      <td>49.00</td>\n",
       "      <td>Others</td>\n",
       "      <td>59.00</td>\n",
       "      <td>Others</td>\n",
       "      <td>Science</td>\n",
       "      <td>65.00</td>\n",
       "      <td>Sci&amp;Tech</td>\n",
       "      <td>Yes</td>\n",
       "      <td>86.00</td>\n",
       "      <td>Mkt&amp;Fin</td>\n",
       "      <td>62.48</td>\n",
       "      <td>Placed</td>\n",
       "      <td>340000.000000</td>\n",
       "    </tr>\n",
       "    <tr>\n",
       "      <th>13</th>\n",
       "      <td>37</td>\n",
       "      <td>38</td>\n",
       "      <td>F</td>\n",
       "      <td>79.00</td>\n",
       "      <td>Central</td>\n",
       "      <td>76.00</td>\n",
       "      <td>Central</td>\n",
       "      <td>Science</td>\n",
       "      <td>65.60</td>\n",
       "      <td>Sci&amp;Tech</td>\n",
       "      <td>No</td>\n",
       "      <td>58.00</td>\n",
       "      <td>Mkt&amp;HR</td>\n",
       "      <td>55.47</td>\n",
       "      <td>Placed</td>\n",
       "      <td>320000.000000</td>\n",
       "    </tr>\n",
       "    <tr>\n",
       "      <th>14</th>\n",
       "      <td>83</td>\n",
       "      <td>84</td>\n",
       "      <td>M</td>\n",
       "      <td>84.00</td>\n",
       "      <td>Others</td>\n",
       "      <td>79.00</td>\n",
       "      <td>Others</td>\n",
       "      <td>Science</td>\n",
       "      <td>68.00</td>\n",
       "      <td>Sci&amp;Tech</td>\n",
       "      <td>Yes</td>\n",
       "      <td>84.00</td>\n",
       "      <td>Mkt&amp;Fin</td>\n",
       "      <td>66.69</td>\n",
       "      <td>Placed</td>\n",
       "      <td>300000.000000</td>\n",
       "    </tr>\n",
       "    <tr>\n",
       "      <th>15</th>\n",
       "      <td>84</td>\n",
       "      <td>85</td>\n",
       "      <td>M</td>\n",
       "      <td>70.00</td>\n",
       "      <td>Central</td>\n",
       "      <td>63.00</td>\n",
       "      <td>Others</td>\n",
       "      <td>Science</td>\n",
       "      <td>70.00</td>\n",
       "      <td>Sci&amp;Tech</td>\n",
       "      <td>Yes</td>\n",
       "      <td>55.00</td>\n",
       "      <td>Mkt&amp;Fin</td>\n",
       "      <td>62.00</td>\n",
       "      <td>Placed</td>\n",
       "      <td>300000.000000</td>\n",
       "    </tr>\n",
       "    <tr>\n",
       "      <th>16</th>\n",
       "      <td>160</td>\n",
       "      <td>161</td>\n",
       "      <td>M</td>\n",
       "      <td>87.00</td>\n",
       "      <td>Central</td>\n",
       "      <td>74.00</td>\n",
       "      <td>Central</td>\n",
       "      <td>Science</td>\n",
       "      <td>65.00</td>\n",
       "      <td>Sci&amp;Tech</td>\n",
       "      <td>Yes</td>\n",
       "      <td>75.00</td>\n",
       "      <td>Mkt&amp;HR</td>\n",
       "      <td>72.29</td>\n",
       "      <td>Placed</td>\n",
       "      <td>300000.000000</td>\n",
       "    </tr>\n",
       "    <tr>\n",
       "      <th>17</th>\n",
       "      <td>23</td>\n",
       "      <td>24</td>\n",
       "      <td>F</td>\n",
       "      <td>77.40</td>\n",
       "      <td>Others</td>\n",
       "      <td>60.00</td>\n",
       "      <td>Others</td>\n",
       "      <td>Science</td>\n",
       "      <td>64.74</td>\n",
       "      <td>Sci&amp;Tech</td>\n",
       "      <td>Yes</td>\n",
       "      <td>92.00</td>\n",
       "      <td>Mkt&amp;Fin</td>\n",
       "      <td>63.62</td>\n",
       "      <td>Placed</td>\n",
       "      <td>300000.000000</td>\n",
       "    </tr>\n",
       "    <tr>\n",
       "      <th>18</th>\n",
       "      <td>158</td>\n",
       "      <td>159</td>\n",
       "      <td>M</td>\n",
       "      <td>67.00</td>\n",
       "      <td>Others</td>\n",
       "      <td>63.00</td>\n",
       "      <td>Others</td>\n",
       "      <td>Science</td>\n",
       "      <td>64.00</td>\n",
       "      <td>Sci&amp;Tech</td>\n",
       "      <td>No</td>\n",
       "      <td>60.00</td>\n",
       "      <td>Mkt&amp;Fin</td>\n",
       "      <td>61.87</td>\n",
       "      <td>Not Placed</td>\n",
       "      <td>288655.405405</td>\n",
       "    </tr>\n",
       "    <tr>\n",
       "      <th>19</th>\n",
       "      <td>173</td>\n",
       "      <td>174</td>\n",
       "      <td>F</td>\n",
       "      <td>52.00</td>\n",
       "      <td>Others</td>\n",
       "      <td>52.00</td>\n",
       "      <td>Others</td>\n",
       "      <td>Science</td>\n",
       "      <td>55.00</td>\n",
       "      <td>Sci&amp;Tech</td>\n",
       "      <td>No</td>\n",
       "      <td>67.00</td>\n",
       "      <td>Mkt&amp;HR</td>\n",
       "      <td>59.32</td>\n",
       "      <td>Not Placed</td>\n",
       "      <td>288655.405405</td>\n",
       "    </tr>\n",
       "    <tr>\n",
       "      <th>20</th>\n",
       "      <td>169</td>\n",
       "      <td>170</td>\n",
       "      <td>M</td>\n",
       "      <td>59.96</td>\n",
       "      <td>Others</td>\n",
       "      <td>42.16</td>\n",
       "      <td>Others</td>\n",
       "      <td>Science</td>\n",
       "      <td>61.26</td>\n",
       "      <td>Sci&amp;Tech</td>\n",
       "      <td>No</td>\n",
       "      <td>54.48</td>\n",
       "      <td>Mkt&amp;HR</td>\n",
       "      <td>65.48</td>\n",
       "      <td>Not Placed</td>\n",
       "      <td>288655.405405</td>\n",
       "    </tr>\n",
       "    <tr>\n",
       "      <th>21</th>\n",
       "      <td>167</td>\n",
       "      <td>168</td>\n",
       "      <td>M</td>\n",
       "      <td>67.90</td>\n",
       "      <td>Others</td>\n",
       "      <td>62.00</td>\n",
       "      <td>Others</td>\n",
       "      <td>Science</td>\n",
       "      <td>67.00</td>\n",
       "      <td>Sci&amp;Tech</td>\n",
       "      <td>Yes</td>\n",
       "      <td>58.10</td>\n",
       "      <td>Mkt&amp;Fin</td>\n",
       "      <td>75.71</td>\n",
       "      <td>Not Placed</td>\n",
       "      <td>288655.405405</td>\n",
       "    </tr>\n",
       "    <tr>\n",
       "      <th>22</th>\n",
       "      <td>175</td>\n",
       "      <td>176</td>\n",
       "      <td>M</td>\n",
       "      <td>63.00</td>\n",
       "      <td>Others</td>\n",
       "      <td>62.00</td>\n",
       "      <td>Others</td>\n",
       "      <td>Science</td>\n",
       "      <td>65.00</td>\n",
       "      <td>Sci&amp;Tech</td>\n",
       "      <td>No</td>\n",
       "      <td>87.50</td>\n",
       "      <td>Mkt&amp;HR</td>\n",
       "      <td>60.69</td>\n",
       "      <td>Not Placed</td>\n",
       "      <td>288655.405405</td>\n",
       "    </tr>\n",
       "    <tr>\n",
       "      <th>23</th>\n",
       "      <td>179</td>\n",
       "      <td>180</td>\n",
       "      <td>F</td>\n",
       "      <td>77.80</td>\n",
       "      <td>Central</td>\n",
       "      <td>64.00</td>\n",
       "      <td>Central</td>\n",
       "      <td>Science</td>\n",
       "      <td>64.20</td>\n",
       "      <td>Sci&amp;Tech</td>\n",
       "      <td>No</td>\n",
       "      <td>75.50</td>\n",
       "      <td>Mkt&amp;HR</td>\n",
       "      <td>72.14</td>\n",
       "      <td>Not Placed</td>\n",
       "      <td>288655.405405</td>\n",
       "    </tr>\n",
       "    <tr>\n",
       "      <th>24</th>\n",
       "      <td>3</td>\n",
       "      <td>4</td>\n",
       "      <td>M</td>\n",
       "      <td>56.00</td>\n",
       "      <td>Central</td>\n",
       "      <td>52.00</td>\n",
       "      <td>Central</td>\n",
       "      <td>Science</td>\n",
       "      <td>52.00</td>\n",
       "      <td>Sci&amp;Tech</td>\n",
       "      <td>No</td>\n",
       "      <td>66.00</td>\n",
       "      <td>Mkt&amp;HR</td>\n",
       "      <td>59.43</td>\n",
       "      <td>Not Placed</td>\n",
       "      <td>288655.405405</td>\n",
       "    </tr>\n",
       "    <tr>\n",
       "      <th>25</th>\n",
       "      <td>106</td>\n",
       "      <td>107</td>\n",
       "      <td>M</td>\n",
       "      <td>61.08</td>\n",
       "      <td>Others</td>\n",
       "      <td>50.00</td>\n",
       "      <td>Others</td>\n",
       "      <td>Science</td>\n",
       "      <td>54.00</td>\n",
       "      <td>Sci&amp;Tech</td>\n",
       "      <td>No</td>\n",
       "      <td>71.00</td>\n",
       "      <td>Mkt&amp;Fin</td>\n",
       "      <td>65.69</td>\n",
       "      <td>Not Placed</td>\n",
       "      <td>288655.405405</td>\n",
       "    </tr>\n",
       "    <tr>\n",
       "      <th>26</th>\n",
       "      <td>111</td>\n",
       "      <td>112</td>\n",
       "      <td>M</td>\n",
       "      <td>51.00</td>\n",
       "      <td>Others</td>\n",
       "      <td>54.00</td>\n",
       "      <td>Others</td>\n",
       "      <td>Science</td>\n",
       "      <td>61.00</td>\n",
       "      <td>Sci&amp;Tech</td>\n",
       "      <td>No</td>\n",
       "      <td>60.00</td>\n",
       "      <td>Mkt&amp;HR</td>\n",
       "      <td>60.64</td>\n",
       "      <td>Not Placed</td>\n",
       "      <td>288655.405405</td>\n",
       "    </tr>\n",
       "    <tr>\n",
       "      <th>27</th>\n",
       "      <td>109</td>\n",
       "      <td>110</td>\n",
       "      <td>M</td>\n",
       "      <td>52.00</td>\n",
       "      <td>Central</td>\n",
       "      <td>63.00</td>\n",
       "      <td>Others</td>\n",
       "      <td>Science</td>\n",
       "      <td>65.00</td>\n",
       "      <td>Sci&amp;Tech</td>\n",
       "      <td>Yes</td>\n",
       "      <td>86.00</td>\n",
       "      <td>Mkt&amp;HR</td>\n",
       "      <td>56.09</td>\n",
       "      <td>Not Placed</td>\n",
       "      <td>288655.405405</td>\n",
       "    </tr>\n",
       "    <tr>\n",
       "      <th>28</th>\n",
       "      <td>5</td>\n",
       "      <td>6</td>\n",
       "      <td>M</td>\n",
       "      <td>55.00</td>\n",
       "      <td>Others</td>\n",
       "      <td>49.80</td>\n",
       "      <td>Others</td>\n",
       "      <td>Science</td>\n",
       "      <td>67.25</td>\n",
       "      <td>Sci&amp;Tech</td>\n",
       "      <td>Yes</td>\n",
       "      <td>55.00</td>\n",
       "      <td>Mkt&amp;Fin</td>\n",
       "      <td>51.58</td>\n",
       "      <td>Not Placed</td>\n",
       "      <td>288655.405405</td>\n",
       "    </tr>\n",
       "    <tr>\n",
       "      <th>29</th>\n",
       "      <td>105</td>\n",
       "      <td>106</td>\n",
       "      <td>M</td>\n",
       "      <td>59.00</td>\n",
       "      <td>Central</td>\n",
       "      <td>64.00</td>\n",
       "      <td>Others</td>\n",
       "      <td>Science</td>\n",
       "      <td>58.00</td>\n",
       "      <td>Sci&amp;Tech</td>\n",
       "      <td>No</td>\n",
       "      <td>85.00</td>\n",
       "      <td>Mkt&amp;HR</td>\n",
       "      <td>55.30</td>\n",
       "      <td>Not Placed</td>\n",
       "      <td>288655.405405</td>\n",
       "    </tr>\n",
       "    <tr>\n",
       "      <th>30</th>\n",
       "      <td>99</td>\n",
       "      <td>100</td>\n",
       "      <td>M</td>\n",
       "      <td>54.00</td>\n",
       "      <td>Central</td>\n",
       "      <td>82.00</td>\n",
       "      <td>Others</td>\n",
       "      <td>Commerce</td>\n",
       "      <td>63.00</td>\n",
       "      <td>Sci&amp;Tech</td>\n",
       "      <td>No</td>\n",
       "      <td>50.00</td>\n",
       "      <td>Mkt&amp;Fin</td>\n",
       "      <td>59.47</td>\n",
       "      <td>Not Placed</td>\n",
       "      <td>288655.405405</td>\n",
       "    </tr>\n",
       "    <tr>\n",
       "      <th>31</th>\n",
       "      <td>79</td>\n",
       "      <td>80</td>\n",
       "      <td>F</td>\n",
       "      <td>69.00</td>\n",
       "      <td>Central</td>\n",
       "      <td>62.00</td>\n",
       "      <td>Central</td>\n",
       "      <td>Science</td>\n",
       "      <td>66.00</td>\n",
       "      <td>Sci&amp;Tech</td>\n",
       "      <td>No</td>\n",
       "      <td>75.00</td>\n",
       "      <td>Mkt&amp;HR</td>\n",
       "      <td>67.99</td>\n",
       "      <td>Not Placed</td>\n",
       "      <td>288655.405405</td>\n",
       "    </tr>\n",
       "    <tr>\n",
       "      <th>32</th>\n",
       "      <td>68</td>\n",
       "      <td>69</td>\n",
       "      <td>F</td>\n",
       "      <td>69.70</td>\n",
       "      <td>Central</td>\n",
       "      <td>47.00</td>\n",
       "      <td>Central</td>\n",
       "      <td>Commerce</td>\n",
       "      <td>72.70</td>\n",
       "      <td>Sci&amp;Tech</td>\n",
       "      <td>No</td>\n",
       "      <td>79.00</td>\n",
       "      <td>Mkt&amp;HR</td>\n",
       "      <td>59.24</td>\n",
       "      <td>Not Placed</td>\n",
       "      <td>288655.405405</td>\n",
       "    </tr>\n",
       "    <tr>\n",
       "      <th>33</th>\n",
       "      <td>45</td>\n",
       "      <td>46</td>\n",
       "      <td>F</td>\n",
       "      <td>76.00</td>\n",
       "      <td>Central</td>\n",
       "      <td>64.00</td>\n",
       "      <td>Central</td>\n",
       "      <td>Science</td>\n",
       "      <td>72.00</td>\n",
       "      <td>Sci&amp;Tech</td>\n",
       "      <td>No</td>\n",
       "      <td>58.00</td>\n",
       "      <td>Mkt&amp;HR</td>\n",
       "      <td>66.53</td>\n",
       "      <td>Not Placed</td>\n",
       "      <td>288655.405405</td>\n",
       "    </tr>\n",
       "    <tr>\n",
       "      <th>34</th>\n",
       "      <td>31</td>\n",
       "      <td>32</td>\n",
       "      <td>F</td>\n",
       "      <td>67.00</td>\n",
       "      <td>Central</td>\n",
       "      <td>53.00</td>\n",
       "      <td>Central</td>\n",
       "      <td>Science</td>\n",
       "      <td>65.00</td>\n",
       "      <td>Sci&amp;Tech</td>\n",
       "      <td>No</td>\n",
       "      <td>64.00</td>\n",
       "      <td>Mkt&amp;HR</td>\n",
       "      <td>58.32</td>\n",
       "      <td>Not Placed</td>\n",
       "      <td>288655.405405</td>\n",
       "    </tr>\n",
       "    <tr>\n",
       "      <th>35</th>\n",
       "      <td>181</td>\n",
       "      <td>182</td>\n",
       "      <td>M</td>\n",
       "      <td>62.00</td>\n",
       "      <td>Central</td>\n",
       "      <td>60.33</td>\n",
       "      <td>Others</td>\n",
       "      <td>Science</td>\n",
       "      <td>64.21</td>\n",
       "      <td>Sci&amp;Tech</td>\n",
       "      <td>No</td>\n",
       "      <td>63.00</td>\n",
       "      <td>Mkt&amp;HR</td>\n",
       "      <td>60.02</td>\n",
       "      <td>Not Placed</td>\n",
       "      <td>288655.405405</td>\n",
       "    </tr>\n",
       "  </tbody>\n",
       "</table>\n",
       "</div>"
      ],
      "text/plain": [
       "    index  sl_no gender  ssc_p    ssc_b  hsc_p    hsc_b     hsc_s  degree_p  \\\n",
       "0     150    151      M  71.00  Central  58.66  Central   Science     58.00   \n",
       "1      77     78      M  64.00   Others  80.00   Others   Science     65.00   \n",
       "2     174    175      M  73.24   Others  50.83   Others   Science     64.27   \n",
       "3     163    164      M  63.00   Others  67.00   Others   Science     64.00   \n",
       "4      53     54      M  80.00   Others  70.00   Others   Science     72.00   \n",
       "5      39     40      M  81.00   Others  68.00   Others   Science     64.00   \n",
       "6     145    146      M  89.40   Others  65.66   Others   Science     71.25   \n",
       "7     128    129      M  80.40  Central  73.40  Central   Science     77.72   \n",
       "8      22     23      F  69.80   Others  60.80   Others   Science     72.23   \n",
       "9      24     25      M  76.50   Others  97.70   Others   Science     78.86   \n",
       "10     70     71      M  82.00   Others  61.00   Others   Science     62.00   \n",
       "11    178    179      M  68.00   Others  56.00   Others   Science     68.00   \n",
       "12    153    154      M  49.00   Others  59.00   Others   Science     65.00   \n",
       "13     37     38      F  79.00  Central  76.00  Central   Science     65.60   \n",
       "14     83     84      M  84.00   Others  79.00   Others   Science     68.00   \n",
       "15     84     85      M  70.00  Central  63.00   Others   Science     70.00   \n",
       "16    160    161      M  87.00  Central  74.00  Central   Science     65.00   \n",
       "17     23     24      F  77.40   Others  60.00   Others   Science     64.74   \n",
       "18    158    159      M  67.00   Others  63.00   Others   Science     64.00   \n",
       "19    173    174      F  52.00   Others  52.00   Others   Science     55.00   \n",
       "20    169    170      M  59.96   Others  42.16   Others   Science     61.26   \n",
       "21    167    168      M  67.90   Others  62.00   Others   Science     67.00   \n",
       "22    175    176      M  63.00   Others  62.00   Others   Science     65.00   \n",
       "23    179    180      F  77.80  Central  64.00  Central   Science     64.20   \n",
       "24      3      4      M  56.00  Central  52.00  Central   Science     52.00   \n",
       "25    106    107      M  61.08   Others  50.00   Others   Science     54.00   \n",
       "26    111    112      M  51.00   Others  54.00   Others   Science     61.00   \n",
       "27    109    110      M  52.00  Central  63.00   Others   Science     65.00   \n",
       "28      5      6      M  55.00   Others  49.80   Others   Science     67.25   \n",
       "29    105    106      M  59.00  Central  64.00   Others   Science     58.00   \n",
       "30     99    100      M  54.00  Central  82.00   Others  Commerce     63.00   \n",
       "31     79     80      F  69.00  Central  62.00  Central   Science     66.00   \n",
       "32     68     69      F  69.70  Central  47.00  Central  Commerce     72.70   \n",
       "33     45     46      F  76.00  Central  64.00  Central   Science     72.00   \n",
       "34     31     32      F  67.00  Central  53.00  Central   Science     65.00   \n",
       "35    181    182      M  62.00  Central  60.33   Others   Science     64.21   \n",
       "\n",
       "    degree_t workex  etest_p specialisation  mba_p      status         salary  \n",
       "0   Sci&Tech    Yes    56.00        Mkt&Fin  61.30      Placed  690000.000000  \n",
       "1   Sci&Tech    Yes    69.00        Mkt&Fin  57.65      Placed  500000.000000  \n",
       "2   Sci&Tech    Yes    64.00        Mkt&Fin  66.23      Placed  500000.000000  \n",
       "3   Sci&Tech     No    75.00        Mkt&Fin  66.46      Placed  500000.000000  \n",
       "4   Sci&Tech     No    87.00         Mkt&HR  71.04      Placed  450000.000000  \n",
       "5   Sci&Tech     No    93.00        Mkt&Fin  62.56      Placed  411000.000000  \n",
       "6   Sci&Tech     No    72.00         Mkt&HR  63.23      Placed  400000.000000  \n",
       "7   Sci&Tech    Yes    81.20         Mkt&HR  76.26      Placed  400000.000000  \n",
       "8   Sci&Tech     No    55.53         Mkt&HR  68.81      Placed  360000.000000  \n",
       "9   Sci&Tech     No    97.40        Mkt&Fin  74.01      Placed  360000.000000  \n",
       "10  Sci&Tech     No    89.00        Mkt&Fin  65.45      Placed  360000.000000  \n",
       "11  Sci&Tech     No    73.00         Mkt&HR  68.07      Placed  350000.000000  \n",
       "12  Sci&Tech    Yes    86.00        Mkt&Fin  62.48      Placed  340000.000000  \n",
       "13  Sci&Tech     No    58.00         Mkt&HR  55.47      Placed  320000.000000  \n",
       "14  Sci&Tech    Yes    84.00        Mkt&Fin  66.69      Placed  300000.000000  \n",
       "15  Sci&Tech    Yes    55.00        Mkt&Fin  62.00      Placed  300000.000000  \n",
       "16  Sci&Tech    Yes    75.00         Mkt&HR  72.29      Placed  300000.000000  \n",
       "17  Sci&Tech    Yes    92.00        Mkt&Fin  63.62      Placed  300000.000000  \n",
       "18  Sci&Tech     No    60.00        Mkt&Fin  61.87  Not Placed  288655.405405  \n",
       "19  Sci&Tech     No    67.00         Mkt&HR  59.32  Not Placed  288655.405405  \n",
       "20  Sci&Tech     No    54.48         Mkt&HR  65.48  Not Placed  288655.405405  \n",
       "21  Sci&Tech    Yes    58.10        Mkt&Fin  75.71  Not Placed  288655.405405  \n",
       "22  Sci&Tech     No    87.50         Mkt&HR  60.69  Not Placed  288655.405405  \n",
       "23  Sci&Tech     No    75.50         Mkt&HR  72.14  Not Placed  288655.405405  \n",
       "24  Sci&Tech     No    66.00         Mkt&HR  59.43  Not Placed  288655.405405  \n",
       "25  Sci&Tech     No    71.00        Mkt&Fin  65.69  Not Placed  288655.405405  \n",
       "26  Sci&Tech     No    60.00         Mkt&HR  60.64  Not Placed  288655.405405  \n",
       "27  Sci&Tech    Yes    86.00         Mkt&HR  56.09  Not Placed  288655.405405  \n",
       "28  Sci&Tech    Yes    55.00        Mkt&Fin  51.58  Not Placed  288655.405405  \n",
       "29  Sci&Tech     No    85.00         Mkt&HR  55.30  Not Placed  288655.405405  \n",
       "30  Sci&Tech     No    50.00        Mkt&Fin  59.47  Not Placed  288655.405405  \n",
       "31  Sci&Tech     No    75.00         Mkt&HR  67.99  Not Placed  288655.405405  \n",
       "32  Sci&Tech     No    79.00         Mkt&HR  59.24  Not Placed  288655.405405  \n",
       "33  Sci&Tech     No    58.00         Mkt&HR  66.53  Not Placed  288655.405405  \n",
       "34  Sci&Tech     No    64.00         Mkt&HR  58.32  Not Placed  288655.405405  \n",
       "35  Sci&Tech     No    63.00         Mkt&HR  60.02  Not Placed  288655.405405  "
      ]
     },
     "execution_count": 20,
     "metadata": {},
     "output_type": "execute_result"
    }
   ],
   "source": [
    "df[(df['degree_t']=='Sci&Tech')&(df['salary']>df['salary'].mean())].sort_values(by = 'salary',ascending = False).reset_index()"
   ]
  },
  {
   "cell_type": "code",
   "execution_count": 21,
   "metadata": {
    "scrolled": true
   },
   "outputs": [
    {
     "data": {
      "text/html": [
       "<div>\n",
       "<style scoped>\n",
       "    .dataframe tbody tr th:only-of-type {\n",
       "        vertical-align: middle;\n",
       "    }\n",
       "\n",
       "    .dataframe tbody tr th {\n",
       "        vertical-align: top;\n",
       "    }\n",
       "\n",
       "    .dataframe thead th {\n",
       "        text-align: right;\n",
       "    }\n",
       "</style>\n",
       "<table border=\"1\" class=\"dataframe\">\n",
       "  <thead>\n",
       "    <tr style=\"text-align: right;\">\n",
       "      <th></th>\n",
       "      <th>index</th>\n",
       "      <th>sl_no</th>\n",
       "      <th>gender</th>\n",
       "      <th>ssc_p</th>\n",
       "      <th>ssc_b</th>\n",
       "      <th>hsc_p</th>\n",
       "      <th>hsc_b</th>\n",
       "      <th>hsc_s</th>\n",
       "      <th>degree_p</th>\n",
       "      <th>degree_t</th>\n",
       "      <th>workex</th>\n",
       "      <th>etest_p</th>\n",
       "      <th>specialisation</th>\n",
       "      <th>mba_p</th>\n",
       "      <th>status</th>\n",
       "      <th>salary</th>\n",
       "    </tr>\n",
       "  </thead>\n",
       "  <tbody>\n",
       "    <tr>\n",
       "      <th>0</th>\n",
       "      <td>119</td>\n",
       "      <td>120</td>\n",
       "      <td>M</td>\n",
       "      <td>60.8</td>\n",
       "      <td>Central</td>\n",
       "      <td>68.4</td>\n",
       "      <td>Central</td>\n",
       "      <td>Commerce</td>\n",
       "      <td>64.6</td>\n",
       "      <td>Comm&amp;Mgmt</td>\n",
       "      <td>Yes</td>\n",
       "      <td>82.66</td>\n",
       "      <td>Mkt&amp;Fin</td>\n",
       "      <td>64.34</td>\n",
       "      <td>Placed</td>\n",
       "      <td>940000.000000</td>\n",
       "    </tr>\n",
       "    <tr>\n",
       "      <th>1</th>\n",
       "      <td>177</td>\n",
       "      <td>178</td>\n",
       "      <td>F</td>\n",
       "      <td>73.0</td>\n",
       "      <td>Central</td>\n",
       "      <td>97.0</td>\n",
       "      <td>Others</td>\n",
       "      <td>Commerce</td>\n",
       "      <td>79.0</td>\n",
       "      <td>Comm&amp;Mgmt</td>\n",
       "      <td>Yes</td>\n",
       "      <td>89.00</td>\n",
       "      <td>Mkt&amp;Fin</td>\n",
       "      <td>70.81</td>\n",
       "      <td>Placed</td>\n",
       "      <td>650000.000000</td>\n",
       "    </tr>\n",
       "    <tr>\n",
       "      <th>2</th>\n",
       "      <td>4</td>\n",
       "      <td>5</td>\n",
       "      <td>M</td>\n",
       "      <td>85.8</td>\n",
       "      <td>Central</td>\n",
       "      <td>73.6</td>\n",
       "      <td>Central</td>\n",
       "      <td>Commerce</td>\n",
       "      <td>73.3</td>\n",
       "      <td>Comm&amp;Mgmt</td>\n",
       "      <td>No</td>\n",
       "      <td>96.80</td>\n",
       "      <td>Mkt&amp;Fin</td>\n",
       "      <td>55.50</td>\n",
       "      <td>Placed</td>\n",
       "      <td>425000.000000</td>\n",
       "    </tr>\n",
       "    <tr>\n",
       "      <th>3</th>\n",
       "      <td>95</td>\n",
       "      <td>96</td>\n",
       "      <td>M</td>\n",
       "      <td>73.0</td>\n",
       "      <td>Central</td>\n",
       "      <td>78.0</td>\n",
       "      <td>Others</td>\n",
       "      <td>Commerce</td>\n",
       "      <td>65.0</td>\n",
       "      <td>Comm&amp;Mgmt</td>\n",
       "      <td>Yes</td>\n",
       "      <td>95.46</td>\n",
       "      <td>Mkt&amp;Fin</td>\n",
       "      <td>62.16</td>\n",
       "      <td>Placed</td>\n",
       "      <td>420000.000000</td>\n",
       "    </tr>\n",
       "    <tr>\n",
       "      <th>4</th>\n",
       "      <td>210</td>\n",
       "      <td>211</td>\n",
       "      <td>M</td>\n",
       "      <td>80.6</td>\n",
       "      <td>Others</td>\n",
       "      <td>82.0</td>\n",
       "      <td>Others</td>\n",
       "      <td>Commerce</td>\n",
       "      <td>77.6</td>\n",
       "      <td>Comm&amp;Mgmt</td>\n",
       "      <td>No</td>\n",
       "      <td>91.00</td>\n",
       "      <td>Mkt&amp;Fin</td>\n",
       "      <td>74.49</td>\n",
       "      <td>Placed</td>\n",
       "      <td>400000.000000</td>\n",
       "    </tr>\n",
       "    <tr>\n",
       "      <th>...</th>\n",
       "      <td>...</td>\n",
       "      <td>...</td>\n",
       "      <td>...</td>\n",
       "      <td>...</td>\n",
       "      <td>...</td>\n",
       "      <td>...</td>\n",
       "      <td>...</td>\n",
       "      <td>...</td>\n",
       "      <td>...</td>\n",
       "      <td>...</td>\n",
       "      <td>...</td>\n",
       "      <td>...</td>\n",
       "      <td>...</td>\n",
       "      <td>...</td>\n",
       "      <td>...</td>\n",
       "      <td>...</td>\n",
       "    </tr>\n",
       "    <tr>\n",
       "      <th>70</th>\n",
       "      <td>120</td>\n",
       "      <td>121</td>\n",
       "      <td>M</td>\n",
       "      <td>58.0</td>\n",
       "      <td>Others</td>\n",
       "      <td>40.0</td>\n",
       "      <td>Others</td>\n",
       "      <td>Science</td>\n",
       "      <td>59.0</td>\n",
       "      <td>Comm&amp;Mgmt</td>\n",
       "      <td>No</td>\n",
       "      <td>73.00</td>\n",
       "      <td>Mkt&amp;HR</td>\n",
       "      <td>58.81</td>\n",
       "      <td>Not Placed</td>\n",
       "      <td>288655.405405</td>\n",
       "    </tr>\n",
       "    <tr>\n",
       "      <th>71</th>\n",
       "      <td>29</td>\n",
       "      <td>30</td>\n",
       "      <td>M</td>\n",
       "      <td>62.0</td>\n",
       "      <td>Central</td>\n",
       "      <td>67.0</td>\n",
       "      <td>Central</td>\n",
       "      <td>Commerce</td>\n",
       "      <td>58.0</td>\n",
       "      <td>Comm&amp;Mgmt</td>\n",
       "      <td>No</td>\n",
       "      <td>77.00</td>\n",
       "      <td>Mkt&amp;Fin</td>\n",
       "      <td>51.29</td>\n",
       "      <td>Not Placed</td>\n",
       "      <td>288655.405405</td>\n",
       "    </tr>\n",
       "    <tr>\n",
       "      <th>72</th>\n",
       "      <td>36</td>\n",
       "      <td>37</td>\n",
       "      <td>M</td>\n",
       "      <td>51.0</td>\n",
       "      <td>Central</td>\n",
       "      <td>44.0</td>\n",
       "      <td>Central</td>\n",
       "      <td>Commerce</td>\n",
       "      <td>57.0</td>\n",
       "      <td>Comm&amp;Mgmt</td>\n",
       "      <td>No</td>\n",
       "      <td>64.00</td>\n",
       "      <td>Mkt&amp;Fin</td>\n",
       "      <td>51.45</td>\n",
       "      <td>Not Placed</td>\n",
       "      <td>288655.405405</td>\n",
       "    </tr>\n",
       "    <tr>\n",
       "      <th>73</th>\n",
       "      <td>136</td>\n",
       "      <td>137</td>\n",
       "      <td>F</td>\n",
       "      <td>47.0</td>\n",
       "      <td>Central</td>\n",
       "      <td>59.0</td>\n",
       "      <td>Central</td>\n",
       "      <td>Arts</td>\n",
       "      <td>64.0</td>\n",
       "      <td>Comm&amp;Mgmt</td>\n",
       "      <td>No</td>\n",
       "      <td>78.00</td>\n",
       "      <td>Mkt&amp;Fin</td>\n",
       "      <td>61.58</td>\n",
       "      <td>Not Placed</td>\n",
       "      <td>288655.405405</td>\n",
       "    </tr>\n",
       "    <tr>\n",
       "      <th>74</th>\n",
       "      <td>214</td>\n",
       "      <td>215</td>\n",
       "      <td>M</td>\n",
       "      <td>62.0</td>\n",
       "      <td>Central</td>\n",
       "      <td>58.0</td>\n",
       "      <td>Others</td>\n",
       "      <td>Science</td>\n",
       "      <td>53.0</td>\n",
       "      <td>Comm&amp;Mgmt</td>\n",
       "      <td>No</td>\n",
       "      <td>89.00</td>\n",
       "      <td>Mkt&amp;HR</td>\n",
       "      <td>60.22</td>\n",
       "      <td>Not Placed</td>\n",
       "      <td>288655.405405</td>\n",
       "    </tr>\n",
       "  </tbody>\n",
       "</table>\n",
       "<p>75 rows × 16 columns</p>\n",
       "</div>"
      ],
      "text/plain": [
       "    index  sl_no gender  ssc_p    ssc_b  hsc_p    hsc_b     hsc_s  degree_p  \\\n",
       "0     119    120      M   60.8  Central   68.4  Central  Commerce      64.6   \n",
       "1     177    178      F   73.0  Central   97.0   Others  Commerce      79.0   \n",
       "2       4      5      M   85.8  Central   73.6  Central  Commerce      73.3   \n",
       "3      95     96      M   73.0  Central   78.0   Others  Commerce      65.0   \n",
       "4     210    211      M   80.6   Others   82.0   Others  Commerce      77.6   \n",
       "..    ...    ...    ...    ...      ...    ...      ...       ...       ...   \n",
       "70    120    121      M   58.0   Others   40.0   Others   Science      59.0   \n",
       "71     29     30      M   62.0  Central   67.0  Central  Commerce      58.0   \n",
       "72     36     37      M   51.0  Central   44.0  Central  Commerce      57.0   \n",
       "73    136    137      F   47.0  Central   59.0  Central      Arts      64.0   \n",
       "74    214    215      M   62.0  Central   58.0   Others   Science      53.0   \n",
       "\n",
       "     degree_t workex  etest_p specialisation  mba_p      status         salary  \n",
       "0   Comm&Mgmt    Yes    82.66        Mkt&Fin  64.34      Placed  940000.000000  \n",
       "1   Comm&Mgmt    Yes    89.00        Mkt&Fin  70.81      Placed  650000.000000  \n",
       "2   Comm&Mgmt     No    96.80        Mkt&Fin  55.50      Placed  425000.000000  \n",
       "3   Comm&Mgmt    Yes    95.46        Mkt&Fin  62.16      Placed  420000.000000  \n",
       "4   Comm&Mgmt     No    91.00        Mkt&Fin  74.49      Placed  400000.000000  \n",
       "..        ...    ...      ...            ...    ...         ...            ...  \n",
       "70  Comm&Mgmt     No    73.00         Mkt&HR  58.81  Not Placed  288655.405405  \n",
       "71  Comm&Mgmt     No    77.00        Mkt&Fin  51.29  Not Placed  288655.405405  \n",
       "72  Comm&Mgmt     No    64.00        Mkt&Fin  51.45  Not Placed  288655.405405  \n",
       "73  Comm&Mgmt     No    78.00        Mkt&Fin  61.58  Not Placed  288655.405405  \n",
       "74  Comm&Mgmt     No    89.00         Mkt&HR  60.22  Not Placed  288655.405405  \n",
       "\n",
       "[75 rows x 16 columns]"
      ]
     },
     "execution_count": 21,
     "metadata": {},
     "output_type": "execute_result"
    }
   ],
   "source": [
    "df[(df['degree_t']=='Comm&Mgmt')&(df['salary']>df['salary'].mean())].sort_values(by = 'salary',ascending = False).reset_index()"
   ]
  },
  {
   "cell_type": "code",
   "execution_count": 22,
   "metadata": {},
   "outputs": [
    {
     "data": {
      "text/plain": [
       "<AxesSubplot:xlabel='degree_t'>"
      ]
     },
     "execution_count": 22,
     "metadata": {},
     "output_type": "execute_result"
    },
    {
     "data": {
      "image/png": "[encoded data removed]",
      "text/plain": [
       "<Figure size 432x288 with 1 Axes>"
      ]
     },
     "metadata": {
      "needs_background": "light"
     },
     "output_type": "display_data"
    }
   ],
   "source": [
    "df.groupby(['degree_t'])['status'].count().plot(kind = 'bar',color = 'magenta')"
   ]
  },
  {
   "cell_type": "code",
   "execution_count": 23,
   "metadata": {},
   "outputs": [
    {
     "data": {
      "text/plain": [
       "<AxesSubplot:xlabel='specialisation'>"
      ]
     },
     "execution_count": 23,
     "metadata": {},
     "output_type": "execute_result"
    },
    {
     "data": {
      "image/png": "[encoded data removed]",
      "text/plain": [
       "<Figure size 432x288 with 1 Axes>"
      ]
     },
     "metadata": {
      "needs_background": "light"
     },
     "output_type": "display_data"
    }
   ],
   "source": [
    "df.groupby(['specialisation'])['status'].count().plot(kind = 'bar',color = 'magenta')"
   ]
  },
  {
   "cell_type": "code",
   "execution_count": 24,
   "metadata": {},
   "outputs": [
    {
     "data": {
      "text/plain": [
       "<AxesSubplot:ylabel='status'>"
      ]
     },
     "execution_count": 24,
     "metadata": {},
     "output_type": "execute_result"
    },
    {
     "data": {
      "image/png": "[encoded data removed]",
      "text/plain": [
       "<Figure size 432x288 with 1 Axes>"
      ]
     },
     "metadata": {},
     "output_type": "display_data"
    }
   ],
   "source": [
    "df.groupby(['gender'])['status'].count().plot(kind = 'pie',autopct='%1.0f%%')"
   ]
  },
  {
   "cell_type": "code",
   "execution_count": 25,
   "metadata": {},
   "outputs": [
    {
     "data": {
      "text/html": [
       "<style  type=\"text/css\" >\n",
       "#T_683bca52_51e5_11ec_9c5b_485f9976f578row0_col0,#T_683bca52_51e5_11ec_9c5b_485f9976f578row0_col2,#T_683bca52_51e5_11ec_9c5b_485f9976f578row0_col4,#T_683bca52_51e5_11ec_9c5b_485f9976f578row0_col7,#T_683bca52_51e5_11ec_9c5b_485f9976f578row0_col10,#T_683bca52_51e5_11ec_9c5b_485f9976f578row0_col12,#T_683bca52_51e5_11ec_9c5b_485f9976f578row0_col14{\n",
       "            background-color:  #0d0887;\n",
       "            color:  #f1f1f1;\n",
       "        }</style><table id=\"T_683bca52_51e5_11ec_9c5b_485f9976f578\" ><thead>    <tr>        <th class=\"blank level0\" ></th>        <th class=\"col_heading level0 col0\" >sl_no</th>        <th class=\"col_heading level0 col1\" >gender</th>        <th class=\"col_heading level0 col2\" >ssc_p</th>        <th class=\"col_heading level0 col3\" >ssc_b</th>        <th class=\"col_heading level0 col4\" >hsc_p</th>        <th class=\"col_heading level0 col5\" >hsc_b</th>        <th class=\"col_heading level0 col6\" >hsc_s</th>        <th class=\"col_heading level0 col7\" >degree_p</th>        <th class=\"col_heading level0 col8\" >degree_t</th>        <th class=\"col_heading level0 col9\" >workex</th>        <th class=\"col_heading level0 col10\" >etest_p</th>        <th class=\"col_heading level0 col11\" >specialisation</th>        <th class=\"col_heading level0 col12\" >mba_p</th>        <th class=\"col_heading level0 col13\" >status</th>        <th class=\"col_heading level0 col14\" >salary</th>    </tr></thead><tbody>\n",
       "                <tr>\n",
       "                        <th id=\"T_683bca52_51e5_11ec_9c5b_485f9976f578level0_row0\" class=\"row_heading level0 row0\" >177</th>\n",
       "                        <td id=\"T_683bca52_51e5_11ec_9c5b_485f9976f578row0_col0\" class=\"data row0 col0\" >178</td>\n",
       "                        <td id=\"T_683bca52_51e5_11ec_9c5b_485f9976f578row0_col1\" class=\"data row0 col1\" >F</td>\n",
       "                        <td id=\"T_683bca52_51e5_11ec_9c5b_485f9976f578row0_col2\" class=\"data row0 col2\" >73.000000</td>\n",
       "                        <td id=\"T_683bca52_51e5_11ec_9c5b_485f9976f578row0_col3\" class=\"data row0 col3\" >Central</td>\n",
       "                        <td id=\"T_683bca52_51e5_11ec_9c5b_485f9976f578row0_col4\" class=\"data row0 col4\" >97.000000</td>\n",
       "                        <td id=\"T_683bca52_51e5_11ec_9c5b_485f9976f578row0_col5\" class=\"data row0 col5\" >Others</td>\n",
       "                        <td id=\"T_683bca52_51e5_11ec_9c5b_485f9976f578row0_col6\" class=\"data row0 col6\" >Commerce</td>\n",
       "                        <td id=\"T_683bca52_51e5_11ec_9c5b_485f9976f578row0_col7\" class=\"data row0 col7\" >79.000000</td>\n",
       "                        <td id=\"T_683bca52_51e5_11ec_9c5b_485f9976f578row0_col8\" class=\"data row0 col8\" >Comm&Mgmt</td>\n",
       "                        <td id=\"T_683bca52_51e5_11ec_9c5b_485f9976f578row0_col9\" class=\"data row0 col9\" >Yes</td>\n",
       "                        <td id=\"T_683bca52_51e5_11ec_9c5b_485f9976f578row0_col10\" class=\"data row0 col10\" >89.000000</td>\n",
       "                        <td id=\"T_683bca52_51e5_11ec_9c5b_485f9976f578row0_col11\" class=\"data row0 col11\" >Mkt&Fin</td>\n",
       "                        <td id=\"T_683bca52_51e5_11ec_9c5b_485f9976f578row0_col12\" class=\"data row0 col12\" >70.810000</td>\n",
       "                        <td id=\"T_683bca52_51e5_11ec_9c5b_485f9976f578row0_col13\" class=\"data row0 col13\" >Placed</td>\n",
       "                        <td id=\"T_683bca52_51e5_11ec_9c5b_485f9976f578row0_col14\" class=\"data row0 col14\" >650000.000000</td>\n",
       "            </tr>\n",
       "    </tbody></table>"
      ],
      "text/plain": [
       "<pandas.io.formats.style.Styler at 0x1728362ff70>"
      ]
     },
     "execution_count": 25,
     "metadata": {},
     "output_type": "execute_result"
    }
   ],
   "source": [
    "temp = df[df['gender']=='F']\n",
    "temp[temp['salary']==max(temp['salary'])].style.background_gradient(cmap = 'plasma')"
   ]
  },
  {
   "cell_type": "code",
   "execution_count": 26,
   "metadata": {},
   "outputs": [
    {
     "data": {
      "text/plain": [
       "<AxesSubplot:ylabel='status'>"
      ]
     },
     "execution_count": 26,
     "metadata": {},
     "output_type": "execute_result"
    },
    {
     "data": {
      "image/png": "[encoded data removed]",
      "text/plain": [
       "<Figure size 1080x504 with 1 Axes>"
      ]
     },
     "metadata": {},
     "output_type": "display_data"
    }
   ],
   "source": [
    "df.groupby(['hsc_s'])['status'].count().plot(kind = 'pie',autopct='%1.0f%%',figsize=(15,7))"
   ]
  },
  {
   "cell_type": "code",
   "execution_count": 27,
   "metadata": {},
   "outputs": [
    {
     "data": {
      "text/html": [
       "<div>\n",
       "<style scoped>\n",
       "    .dataframe tbody tr th:only-of-type {\n",
       "        vertical-align: middle;\n",
       "    }\n",
       "\n",
       "    .dataframe tbody tr th {\n",
       "        vertical-align: top;\n",
       "    }\n",
       "\n",
       "    .dataframe thead th {\n",
       "        text-align: right;\n",
       "    }\n",
       "</style>\n",
       "<table border=\"1\" class=\"dataframe\">\n",
       "  <thead>\n",
       "    <tr style=\"text-align: right;\">\n",
       "      <th></th>\n",
       "      <th>sl_no</th>\n",
       "      <th>gender</th>\n",
       "      <th>ssc_p</th>\n",
       "      <th>ssc_b</th>\n",
       "      <th>hsc_p</th>\n",
       "      <th>hsc_b</th>\n",
       "      <th>hsc_s</th>\n",
       "      <th>degree_p</th>\n",
       "      <th>degree_t</th>\n",
       "      <th>workex</th>\n",
       "      <th>etest_p</th>\n",
       "      <th>specialisation</th>\n",
       "      <th>mba_p</th>\n",
       "      <th>status</th>\n",
       "      <th>salary</th>\n",
       "    </tr>\n",
       "  </thead>\n",
       "  <tbody>\n",
       "    <tr>\n",
       "      <th>0</th>\n",
       "      <td>1</td>\n",
       "      <td>M</td>\n",
       "      <td>67.00</td>\n",
       "      <td>Others</td>\n",
       "      <td>91.00</td>\n",
       "      <td>Others</td>\n",
       "      <td>Commerce</td>\n",
       "      <td>58.00</td>\n",
       "      <td>Sci&amp;Tech</td>\n",
       "      <td>No</td>\n",
       "      <td>55.0</td>\n",
       "      <td>Mkt&amp;HR</td>\n",
       "      <td>58.80</td>\n",
       "      <td>Placed</td>\n",
       "      <td>270000.000000</td>\n",
       "    </tr>\n",
       "    <tr>\n",
       "      <th>1</th>\n",
       "      <td>2</td>\n",
       "      <td>M</td>\n",
       "      <td>79.33</td>\n",
       "      <td>Central</td>\n",
       "      <td>78.33</td>\n",
       "      <td>Others</td>\n",
       "      <td>Science</td>\n",
       "      <td>77.48</td>\n",
       "      <td>Sci&amp;Tech</td>\n",
       "      <td>Yes</td>\n",
       "      <td>86.5</td>\n",
       "      <td>Mkt&amp;Fin</td>\n",
       "      <td>66.28</td>\n",
       "      <td>Placed</td>\n",
       "      <td>200000.000000</td>\n",
       "    </tr>\n",
       "    <tr>\n",
       "      <th>2</th>\n",
       "      <td>3</td>\n",
       "      <td>M</td>\n",
       "      <td>65.00</td>\n",
       "      <td>Central</td>\n",
       "      <td>68.00</td>\n",
       "      <td>Central</td>\n",
       "      <td>Arts</td>\n",
       "      <td>64.00</td>\n",
       "      <td>Comm&amp;Mgmt</td>\n",
       "      <td>No</td>\n",
       "      <td>75.0</td>\n",
       "      <td>Mkt&amp;Fin</td>\n",
       "      <td>57.80</td>\n",
       "      <td>Placed</td>\n",
       "      <td>250000.000000</td>\n",
       "    </tr>\n",
       "    <tr>\n",
       "      <th>3</th>\n",
       "      <td>4</td>\n",
       "      <td>M</td>\n",
       "      <td>56.00</td>\n",
       "      <td>Central</td>\n",
       "      <td>52.00</td>\n",
       "      <td>Central</td>\n",
       "      <td>Science</td>\n",
       "      <td>52.00</td>\n",
       "      <td>Sci&amp;Tech</td>\n",
       "      <td>No</td>\n",
       "      <td>66.0</td>\n",
       "      <td>Mkt&amp;HR</td>\n",
       "      <td>59.43</td>\n",
       "      <td>Not Placed</td>\n",
       "      <td>288655.405405</td>\n",
       "    </tr>\n",
       "    <tr>\n",
       "      <th>4</th>\n",
       "      <td>5</td>\n",
       "      <td>M</td>\n",
       "      <td>85.80</td>\n",
       "      <td>Central</td>\n",
       "      <td>73.60</td>\n",
       "      <td>Central</td>\n",
       "      <td>Commerce</td>\n",
       "      <td>73.30</td>\n",
       "      <td>Comm&amp;Mgmt</td>\n",
       "      <td>No</td>\n",
       "      <td>96.8</td>\n",
       "      <td>Mkt&amp;Fin</td>\n",
       "      <td>55.50</td>\n",
       "      <td>Placed</td>\n",
       "      <td>425000.000000</td>\n",
       "    </tr>\n",
       "  </tbody>\n",
       "</table>\n",
       "</div>"
      ],
      "text/plain": [
       "   sl_no gender  ssc_p    ssc_b  hsc_p    hsc_b     hsc_s  degree_p  \\\n",
       "0      1      M  67.00   Others  91.00   Others  Commerce     58.00   \n",
       "1      2      M  79.33  Central  78.33   Others   Science     77.48   \n",
       "2      3      M  65.00  Central  68.00  Central      Arts     64.00   \n",
       "3      4      M  56.00  Central  52.00  Central   Science     52.00   \n",
       "4      5      M  85.80  Central  73.60  Central  Commerce     73.30   \n",
       "\n",
       "    degree_t workex  etest_p specialisation  mba_p      status         salary  \n",
       "0   Sci&Tech     No     55.0         Mkt&HR  58.80      Placed  270000.000000  \n",
       "1   Sci&Tech    Yes     86.5        Mkt&Fin  66.28      Placed  200000.000000  \n",
       "2  Comm&Mgmt     No     75.0        Mkt&Fin  57.80      Placed  250000.000000  \n",
       "3   Sci&Tech     No     66.0         Mkt&HR  59.43  Not Placed  288655.405405  \n",
       "4  Comm&Mgmt     No     96.8        Mkt&Fin  55.50      Placed  425000.000000  "
      ]
     },
     "execution_count": 27,
     "metadata": {},
     "output_type": "execute_result"
    }
   ],
   "source": [
    "df.head()"
   ]
  },
  {
   "cell_type": "code",
   "execution_count": 28,
   "metadata": {},
   "outputs": [
    {
     "data": {
      "text/plain": [
       "{'gender': {'M': 139, 'F': 76},\n",
       " 'ssc_b': {'Central': 116, 'Others': 99},\n",
       " 'hsc_b': {'Others': 131, 'Central': 84},\n",
       " 'hsc_s': {'Commerce': 113, 'Science': 91, 'Arts': 11},\n",
       " 'degree_t': {'Comm&Mgmt': 145, 'Sci&Tech': 59, 'Others': 11},\n",
       " 'workex': {'No': 141, 'Yes': 74},\n",
       " 'specialisation': {'Mkt&Fin': 120, 'Mkt&HR': 95},\n",
       " 'status': {'Placed': 148, 'Not Placed': 67}}"
      ]
     },
     "execution_count": 28,
     "metadata": {},
     "output_type": "execute_result"
    }
   ],
   "source": [
    "getfinaldict"
   ]
  },
  {
   "cell_type": "code",
   "execution_count": 29,
   "metadata": {},
   "outputs": [
    {
     "data": {
      "text/plain": [
       "(2, 3)"
      ]
     },
     "execution_count": 29,
     "metadata": {},
     "output_type": "execute_result"
    }
   ],
   "source": [
    "len(getfinaldict['status']),len(getfinaldict['degree_t'])"
   ]
  },
  {
   "cell_type": "code",
   "execution_count": 30,
   "metadata": {},
   "outputs": [
    {
     "name": "stdout",
     "output_type": "stream",
     "text": [
      "['gender', 'ssc_b', 'hsc_b', 'workex', 'specialisation', 'status'] ['hsc_s', 'degree_t']\n"
     ]
    }
   ],
   "source": [
    "boolcols = [key for key,value in getfinaldict.items() if len(getfinaldict[key])==2]\n",
    "tripcols = [key for key in list(getfinaldict.keys()) if key not in boolcols]\n",
    "\n",
    "print(boolcols,tripcols)"
   ]
  },
  {
   "cell_type": "markdown",
   "metadata": {},
   "source": [
    "## Label Encoding"
   ]
  },
  {
   "cell_type": "code",
   "execution_count": 31,
   "metadata": {},
   "outputs": [
    {
     "data": {
      "text/html": [
       "<div>\n",
       "<style scoped>\n",
       "    .dataframe tbody tr th:only-of-type {\n",
       "        vertical-align: middle;\n",
       "    }\n",
       "\n",
       "    .dataframe tbody tr th {\n",
       "        vertical-align: top;\n",
       "    }\n",
       "\n",
       "    .dataframe thead th {\n",
       "        text-align: right;\n",
       "    }\n",
       "</style>\n",
       "<table border=\"1\" class=\"dataframe\">\n",
       "  <thead>\n",
       "    <tr style=\"text-align: right;\">\n",
       "      <th></th>\n",
       "      <th>sl_no</th>\n",
       "      <th>gender</th>\n",
       "      <th>ssc_p</th>\n",
       "      <th>ssc_b</th>\n",
       "      <th>hsc_p</th>\n",
       "      <th>hsc_b</th>\n",
       "      <th>hsc_s</th>\n",
       "      <th>degree_p</th>\n",
       "      <th>degree_t</th>\n",
       "      <th>workex</th>\n",
       "      <th>etest_p</th>\n",
       "      <th>specialisation</th>\n",
       "      <th>mba_p</th>\n",
       "      <th>status</th>\n",
       "      <th>salary</th>\n",
       "    </tr>\n",
       "  </thead>\n",
       "  <tbody>\n",
       "    <tr>\n",
       "      <th>0</th>\n",
       "      <td>1</td>\n",
       "      <td>1</td>\n",
       "      <td>67.00</td>\n",
       "      <td>1</td>\n",
       "      <td>91.00</td>\n",
       "      <td>1</td>\n",
       "      <td>1</td>\n",
       "      <td>58.00</td>\n",
       "      <td>2</td>\n",
       "      <td>0</td>\n",
       "      <td>55.0</td>\n",
       "      <td>1</td>\n",
       "      <td>58.80</td>\n",
       "      <td>1</td>\n",
       "      <td>270000.000000</td>\n",
       "    </tr>\n",
       "    <tr>\n",
       "      <th>1</th>\n",
       "      <td>2</td>\n",
       "      <td>1</td>\n",
       "      <td>79.33</td>\n",
       "      <td>0</td>\n",
       "      <td>78.33</td>\n",
       "      <td>1</td>\n",
       "      <td>2</td>\n",
       "      <td>77.48</td>\n",
       "      <td>2</td>\n",
       "      <td>1</td>\n",
       "      <td>86.5</td>\n",
       "      <td>0</td>\n",
       "      <td>66.28</td>\n",
       "      <td>1</td>\n",
       "      <td>200000.000000</td>\n",
       "    </tr>\n",
       "    <tr>\n",
       "      <th>2</th>\n",
       "      <td>3</td>\n",
       "      <td>1</td>\n",
       "      <td>65.00</td>\n",
       "      <td>0</td>\n",
       "      <td>68.00</td>\n",
       "      <td>0</td>\n",
       "      <td>0</td>\n",
       "      <td>64.00</td>\n",
       "      <td>0</td>\n",
       "      <td>0</td>\n",
       "      <td>75.0</td>\n",
       "      <td>0</td>\n",
       "      <td>57.80</td>\n",
       "      <td>1</td>\n",
       "      <td>250000.000000</td>\n",
       "    </tr>\n",
       "    <tr>\n",
       "      <th>3</th>\n",
       "      <td>4</td>\n",
       "      <td>1</td>\n",
       "      <td>56.00</td>\n",
       "      <td>0</td>\n",
       "      <td>52.00</td>\n",
       "      <td>0</td>\n",
       "      <td>2</td>\n",
       "      <td>52.00</td>\n",
       "      <td>2</td>\n",
       "      <td>0</td>\n",
       "      <td>66.0</td>\n",
       "      <td>1</td>\n",
       "      <td>59.43</td>\n",
       "      <td>0</td>\n",
       "      <td>288655.405405</td>\n",
       "    </tr>\n",
       "    <tr>\n",
       "      <th>4</th>\n",
       "      <td>5</td>\n",
       "      <td>1</td>\n",
       "      <td>85.80</td>\n",
       "      <td>0</td>\n",
       "      <td>73.60</td>\n",
       "      <td>0</td>\n",
       "      <td>1</td>\n",
       "      <td>73.30</td>\n",
       "      <td>0</td>\n",
       "      <td>0</td>\n",
       "      <td>96.8</td>\n",
       "      <td>0</td>\n",
       "      <td>55.50</td>\n",
       "      <td>1</td>\n",
       "      <td>425000.000000</td>\n",
       "    </tr>\n",
       "  </tbody>\n",
       "</table>\n",
       "</div>"
      ],
      "text/plain": [
       "   sl_no  gender  ssc_p  ssc_b  hsc_p  hsc_b  hsc_s  degree_p  degree_t  \\\n",
       "0      1       1  67.00      1  91.00      1      1     58.00         2   \n",
       "1      2       1  79.33      0  78.33      1      2     77.48         2   \n",
       "2      3       1  65.00      0  68.00      0      0     64.00         0   \n",
       "3      4       1  56.00      0  52.00      0      2     52.00         2   \n",
       "4      5       1  85.80      0  73.60      0      1     73.30         0   \n",
       "\n",
       "   workex  etest_p  specialisation  mba_p  status         salary  \n",
       "0       0     55.0               1  58.80       1  270000.000000  \n",
       "1       1     86.5               0  66.28       1  200000.000000  \n",
       "2       0     75.0               0  57.80       1  250000.000000  \n",
       "3       0     66.0               1  59.43       0  288655.405405  \n",
       "4       0     96.8               0  55.50       1  425000.000000  "
      ]
     },
     "execution_count": 31,
     "metadata": {},
     "output_type": "execute_result"
    }
   ],
   "source": [
    "def labelencode(le,col):\n",
    "    \n",
    "    df[col] = le.fit_transform(df[col])\n",
    "    \n",
    "    \n",
    "getmappings = {}\n",
    "from sklearn.preprocessing import LabelEncoder\n",
    "le = LabelEncoder()\n",
    "for col in list(getfinaldict.keys()):\n",
    "    labelencode(le,col)\n",
    "    getmappings[col] = dict(zip(le.classes_,le.transform(le.classes_)))\n",
    "    \n",
    "\n",
    "df.head()\n"
   ]
  },
  {
   "cell_type": "code",
   "execution_count": 32,
   "metadata": {},
   "outputs": [
    {
     "data": {
      "text/plain": [
       "{'gender': {'F': 0, 'M': 1},\n",
       " 'ssc_b': {'Central': 0, 'Others': 1},\n",
       " 'hsc_b': {'Central': 0, 'Others': 1},\n",
       " 'hsc_s': {'Arts': 0, 'Commerce': 1, 'Science': 2},\n",
       " 'degree_t': {'Comm&Mgmt': 0, 'Others': 1, 'Sci&Tech': 2},\n",
       " 'workex': {'No': 0, 'Yes': 1},\n",
       " 'specialisation': {'Mkt&Fin': 0, 'Mkt&HR': 1},\n",
       " 'status': {'Not Placed': 0, 'Placed': 1}}"
      ]
     },
     "execution_count": 32,
     "metadata": {},
     "output_type": "execute_result"
    }
   ],
   "source": [
    "getmappings"
   ]
  },
  {
   "cell_type": "code",
   "execution_count": 33,
   "metadata": {},
   "outputs": [
    {
     "data": {
      "text/html": [
       "<div>\n",
       "<style scoped>\n",
       "    .dataframe tbody tr th:only-of-type {\n",
       "        vertical-align: middle;\n",
       "    }\n",
       "\n",
       "    .dataframe tbody tr th {\n",
       "        vertical-align: top;\n",
       "    }\n",
       "\n",
       "    .dataframe thead th {\n",
       "        text-align: right;\n",
       "    }\n",
       "</style>\n",
       "<table border=\"1\" class=\"dataframe\">\n",
       "  <thead>\n",
       "    <tr style=\"text-align: right;\">\n",
       "      <th></th>\n",
       "      <th>gender</th>\n",
       "      <th>ssc_p</th>\n",
       "      <th>ssc_b</th>\n",
       "      <th>hsc_p</th>\n",
       "      <th>hsc_b</th>\n",
       "      <th>hsc_s</th>\n",
       "      <th>degree_p</th>\n",
       "      <th>degree_t</th>\n",
       "      <th>workex</th>\n",
       "      <th>etest_p</th>\n",
       "      <th>specialisation</th>\n",
       "      <th>mba_p</th>\n",
       "      <th>status</th>\n",
       "      <th>salary</th>\n",
       "    </tr>\n",
       "  </thead>\n",
       "  <tbody>\n",
       "    <tr>\n",
       "      <th>0</th>\n",
       "      <td>1</td>\n",
       "      <td>67.00</td>\n",
       "      <td>1</td>\n",
       "      <td>91.00</td>\n",
       "      <td>1</td>\n",
       "      <td>1</td>\n",
       "      <td>58.00</td>\n",
       "      <td>2</td>\n",
       "      <td>0</td>\n",
       "      <td>55.0</td>\n",
       "      <td>1</td>\n",
       "      <td>58.80</td>\n",
       "      <td>1</td>\n",
       "      <td>270000.0</td>\n",
       "    </tr>\n",
       "    <tr>\n",
       "      <th>1</th>\n",
       "      <td>1</td>\n",
       "      <td>79.33</td>\n",
       "      <td>0</td>\n",
       "      <td>78.33</td>\n",
       "      <td>1</td>\n",
       "      <td>2</td>\n",
       "      <td>77.48</td>\n",
       "      <td>2</td>\n",
       "      <td>1</td>\n",
       "      <td>86.5</td>\n",
       "      <td>0</td>\n",
       "      <td>66.28</td>\n",
       "      <td>1</td>\n",
       "      <td>200000.0</td>\n",
       "    </tr>\n",
       "  </tbody>\n",
       "</table>\n",
       "</div>"
      ],
      "text/plain": [
       "   gender  ssc_p  ssc_b  hsc_p  hsc_b  hsc_s  degree_p  degree_t  workex  \\\n",
       "0       1  67.00      1  91.00      1      1     58.00         2       0   \n",
       "1       1  79.33      0  78.33      1      2     77.48         2       1   \n",
       "\n",
       "   etest_p  specialisation  mba_p  status    salary  \n",
       "0     55.0               1  58.80       1  270000.0  \n",
       "1     86.5               0  66.28       1  200000.0  "
      ]
     },
     "execution_count": 33,
     "metadata": {},
     "output_type": "execute_result"
    }
   ],
   "source": [
    "df = df.drop(['sl_no'],axis=1)\n",
    "df.head(2)"
   ]
  },
  {
   "cell_type": "markdown",
   "metadata": {},
   "source": [
    "## Numerical Columns EDA"
   ]
  },
  {
   "cell_type": "code",
   "execution_count": 34,
   "metadata": {},
   "outputs": [
    {
     "data": {
      "text/plain": [
       "['ssc_p', 'hsc_p', 'degree_p', 'etest_p', 'mba_p', 'salary']"
      ]
     },
     "execution_count": 34,
     "metadata": {},
     "output_type": "execute_result"
    }
   ],
   "source": [
    "numvars[1:]"
   ]
  },
  {
   "cell_type": "code",
   "execution_count": 35,
   "metadata": {
    "scrolled": true
   },
   "outputs": [
    {
     "name": "stdout",
     "output_type": "stream",
     "text": [
      "Distribution plots for col : ssc_p are shown ↓\n"
     ]
    },
    {
     "name": "stderr",
     "output_type": "stream",
     "text": [
      "C:\\ProgramData\\Anaconda3\\lib\\site-packages\\seaborn\\_decorators.py:36: FutureWarning: Pass the following variable as a keyword arg: x. From version 0.12, the only valid positional argument will be `data`, and passing other arguments without an explicit keyword will result in an error or misinterpretation.\n",
      "  warnings.warn(\n"
     ]
    },
    {
     "data": {
      "image/png": "[encoded data removed]",
      "text/plain": [
       "<Figure size 1080x504 with 3 Axes>"
      ]
     },
     "metadata": {
      "needs_background": "light"
     },
     "output_type": "display_data"
    },
    {
     "name": "stdout",
     "output_type": "stream",
     "text": [
      "==========\n",
      "Distribution plots for col : hsc_p are shown ↓\n"
     ]
    },
    {
     "name": "stderr",
     "output_type": "stream",
     "text": [
      "C:\\ProgramData\\Anaconda3\\lib\\site-packages\\seaborn\\_decorators.py:36: FutureWarning: Pass the following variable as a keyword arg: x. From version 0.12, the only valid positional argument will be `data`, and passing other arguments without an explicit keyword will result in an error or misinterpretation.\n",
      "  warnings.warn(\n"
     ]
    },
    {
     "data": {
      "image/png": "[encoded data removed]",
      "text/plain": [
       "<Figure size 1080x504 with 3 Axes>"
      ]
     },
     "metadata": {
      "needs_background": "light"
     },
     "output_type": "display_data"
    },
    {
     "name": "stdout",
     "output_type": "stream",
     "text": [
      "==========\n",
      "Distribution plots for col : degree_p are shown ↓\n"
     ]
    },
    {
     "name": "stderr",
     "output_type": "stream",
     "text": [
      "C:\\ProgramData\\Anaconda3\\lib\\site-packages\\seaborn\\_decorators.py:36: FutureWarning: Pass the following variable as a keyword arg: x. From version 0.12, the only valid positional argument will be `data`, and passing other arguments without an explicit keyword will result in an error or misinterpretation.\n",
      "  warnings.warn(\n"
     ]
    },
    {
     "data": {
      "image/png": "[encoded data removed]",
      "text/plain": [
       "<Figure size 1080x504 with 3 Axes>"
      ]
     },
     "metadata": {
      "needs_background": "light"
     },
     "output_type": "display_data"
    },
    {
     "name": "stdout",
     "output_type": "stream",
     "text": [
      "==========\n",
      "Distribution plots for col : etest_p are shown ↓\n"
     ]
    },
    {
     "name": "stderr",
     "output_type": "stream",
     "text": [
      "C:\\ProgramData\\Anaconda3\\lib\\site-packages\\seaborn\\_decorators.py:36: FutureWarning: Pass the following variable as a keyword arg: x. From version 0.12, the only valid positional argument will be `data`, and passing other arguments without an explicit keyword will result in an error or misinterpretation.\n",
      "  warnings.warn(\n"
     ]
    },
    {
     "data": {
      "image/png": "[encoded data removed]",
      "text/plain": [
       "<Figure size 1080x504 with 3 Axes>"
      ]
     },
     "metadata": {
      "needs_background": "light"
     },
     "output_type": "display_data"
    },
    {
     "name": "stdout",
     "output_type": "stream",
     "text": [
      "==========\n",
      "Distribution plots for col : mba_p are shown ↓\n"
     ]
    },
    {
     "name": "stderr",
     "output_type": "stream",
     "text": [
      "C:\\ProgramData\\Anaconda3\\lib\\site-packages\\seaborn\\_decorators.py:36: FutureWarning: Pass the following variable as a keyword arg: x. From version 0.12, the only valid positional argument will be `data`, and passing other arguments without an explicit keyword will result in an error or misinterpretation.\n",
      "  warnings.warn(\n"
     ]
    },
    {
     "data": {
      "image/png": "[encoded data removed]",
      "text/plain": [
       "<Figure size 1080x504 with 3 Axes>"
      ]
     },
     "metadata": {
      "needs_background": "light"
     },
     "output_type": "display_data"
    },
    {
     "name": "stdout",
     "output_type": "stream",
     "text": [
      "==========\n",
      "Distribution plots for col : salary are shown ↓\n"
     ]
    },
    {
     "name": "stderr",
     "output_type": "stream",
     "text": [
      "C:\\ProgramData\\Anaconda3\\lib\\site-packages\\seaborn\\_decorators.py:36: FutureWarning: Pass the following variable as a keyword arg: x. From version 0.12, the only valid positional argument will be `data`, and passing other arguments without an explicit keyword will result in an error or misinterpretation.\n",
      "  warnings.warn(\n"
     ]
    },
    {
     "data": {
      "image/png": "[encoded data removed]",
      "text/plain": [
       "<Figure size 1080x504 with 3 Axes>"
      ]
     },
     "metadata": {
      "needs_background": "light"
     },
     "output_type": "display_data"
    },
    {
     "name": "stdout",
     "output_type": "stream",
     "text": [
      "==========\n"
     ]
    }
   ],
   "source": [
    "import scipy.stats as stats\n",
    "\n",
    "def getplots(df,col):\n",
    "    \n",
    "    plt.figure(figsize=(15,7))\n",
    "    plt.subplot(1,3,1)\n",
    "    plt.hist(df[col],color='magenta')\n",
    "    \n",
    "    plt.subplot(1,3,2)\n",
    "    stats.probplot(df[col],dist='norm',plot=plt)\n",
    "    \n",
    "    plt.subplot(1,3,3)\n",
    "    sn.boxplot(df[col],color='magenta')\n",
    "    \n",
    "    plt.show()\n",
    "    \n",
    "    \n",
    "for col in numvars[1:]:\n",
    "    print(f'Distribution plots for col : {col} are shown ↓')\n",
    "    getplots(df,col)\n",
    "    print('='*10)"
   ]
  },
  {
   "cell_type": "markdown",
   "metadata": {},
   "source": [
    "# Feature Selection"
   ]
  },
  {
   "cell_type": "code",
   "execution_count": 36,
   "metadata": {},
   "outputs": [
    {
     "data": {
      "text/plain": [
       "<AxesSubplot:>"
      ]
     },
     "execution_count": 36,
     "metadata": {},
     "output_type": "execute_result"
    },
    {
     "data": {
      "image/png": "[encoded data removed]",
      "text/plain": [
       "<Figure size 1080x504 with 2 Axes>"
      ]
     },
     "metadata": {
      "needs_background": "light"
     },
     "output_type": "display_data"
    }
   ],
   "source": [
    "plt.figure(figsize=(15,7))\n",
    "sn.heatmap(df.corr(),annot=True,cmap='plasma')"
   ]
  },
  {
   "cell_type": "code",
   "execution_count": 37,
   "metadata": {},
   "outputs": [
    {
     "data": {
      "text/html": [
       "<div>\n",
       "<style scoped>\n",
       "    .dataframe tbody tr th:only-of-type {\n",
       "        vertical-align: middle;\n",
       "    }\n",
       "\n",
       "    .dataframe tbody tr th {\n",
       "        vertical-align: top;\n",
       "    }\n",
       "\n",
       "    .dataframe thead th {\n",
       "        text-align: right;\n",
       "    }\n",
       "</style>\n",
       "<table border=\"1\" class=\"dataframe\">\n",
       "  <thead>\n",
       "    <tr style=\"text-align: right;\">\n",
       "      <th></th>\n",
       "      <th>gender</th>\n",
       "      <th>ssc_p</th>\n",
       "      <th>ssc_b</th>\n",
       "      <th>hsc_p</th>\n",
       "      <th>hsc_b</th>\n",
       "      <th>hsc_s</th>\n",
       "      <th>degree_p</th>\n",
       "      <th>degree_t</th>\n",
       "      <th>workex</th>\n",
       "      <th>etest_p</th>\n",
       "      <th>specialisation</th>\n",
       "      <th>mba_p</th>\n",
       "    </tr>\n",
       "  </thead>\n",
       "  <tbody>\n",
       "    <tr>\n",
       "      <th>0</th>\n",
       "      <td>1</td>\n",
       "      <td>67.00</td>\n",
       "      <td>1</td>\n",
       "      <td>91.00</td>\n",
       "      <td>1</td>\n",
       "      <td>1</td>\n",
       "      <td>58.00</td>\n",
       "      <td>2</td>\n",
       "      <td>0</td>\n",
       "      <td>55.0</td>\n",
       "      <td>1</td>\n",
       "      <td>58.80</td>\n",
       "    </tr>\n",
       "    <tr>\n",
       "      <th>1</th>\n",
       "      <td>1</td>\n",
       "      <td>79.33</td>\n",
       "      <td>0</td>\n",
       "      <td>78.33</td>\n",
       "      <td>1</td>\n",
       "      <td>2</td>\n",
       "      <td>77.48</td>\n",
       "      <td>2</td>\n",
       "      <td>1</td>\n",
       "      <td>86.5</td>\n",
       "      <td>0</td>\n",
       "      <td>66.28</td>\n",
       "    </tr>\n",
       "  </tbody>\n",
       "</table>\n",
       "</div>"
      ],
      "text/plain": [
       "   gender  ssc_p  ssc_b  hsc_p  hsc_b  hsc_s  degree_p  degree_t  workex  \\\n",
       "0       1  67.00      1  91.00      1      1     58.00         2       0   \n",
       "1       1  79.33      0  78.33      1      2     77.48         2       1   \n",
       "\n",
       "   etest_p  specialisation  mba_p  \n",
       "0     55.0               1  58.80  \n",
       "1     86.5               0  66.28  "
      ]
     },
     "execution_count": 37,
     "metadata": {},
     "output_type": "execute_result"
    }
   ],
   "source": [
    "data = df.copy()\n",
    "test = data['status']\n",
    "train = data.drop(['status','salary'],axis = 1)\n",
    "train.head(2)\n"
   ]
  },
  {
   "cell_type": "code",
   "execution_count": 38,
   "metadata": {},
   "outputs": [
    {
     "data": {
      "text/plain": [
       "ExtraTreesClassifier()"
      ]
     },
     "execution_count": 38,
     "metadata": {},
     "output_type": "execute_result"
    }
   ],
   "source": [
    "from sklearn.ensemble import ExtraTreesClassifier\n",
    "ec = ExtraTreesClassifier()\n",
    "ec.fit(train,test)"
   ]
  },
  {
   "cell_type": "code",
   "execution_count": 39,
   "metadata": {},
   "outputs": [
    {
     "data": {
      "text/plain": [
       "<AxesSubplot:>"
      ]
     },
     "execution_count": 39,
     "metadata": {},
     "output_type": "execute_result"
    },
    {
     "data": {
      "image/png": "[encoded data removed]",
      "text/plain": [
       "<Figure size 432x288 with 1 Axes>"
      ]
     },
     "metadata": {
      "needs_background": "light"
     },
     "output_type": "display_data"
    }
   ],
   "source": [
    "featbar = pd.Series(ec.feature_importances_,index=train.columns)\n",
    "featbar.nlargest(7).plot(kind = 'barh')"
   ]
  },
  {
   "cell_type": "code",
   "execution_count": 40,
   "metadata": {},
   "outputs": [
    {
     "name": "stderr",
     "output_type": "stream",
     "text": [
      "C:\\ProgramData\\Anaconda3\\lib\\site-packages\\pandas\\plotting\\_matplotlib\\core.py:1547: MatplotlibDeprecationWarning: normalize=None does not normalize if the sum is less than 1 but this behavior is deprecated since 3.3 until two minor releases later. After the deprecation period the default value will be normalize=True. To prevent normalization pass normalize=False \n",
      "  results = ax.pie(y, labels=blabels, **kwds)\n"
     ]
    },
    {
     "data": {
      "text/plain": [
       "<AxesSubplot:ylabel='None'>"
      ]
     },
     "execution_count": 40,
     "metadata": {},
     "output_type": "execute_result"
    },
    {
     "data": {
      "image/png": "[encoded data removed]",
      "text/plain": [
       "<Figure size 1080x504 with 1 Axes>"
      ]
     },
     "metadata": {},
     "output_type": "display_data"
    }
   ],
   "source": [
    "featbar.nlargest(7).plot(kind='pie',autopct='%1.0f%%',figsize = (15,7))"
   ]
  },
  {
   "cell_type": "code",
   "execution_count": 41,
   "metadata": {},
   "outputs": [
    {
     "data": {
      "text/plain": [
       "<AxesSubplot:>"
      ]
     },
     "execution_count": 41,
     "metadata": {},
     "output_type": "execute_result"
    },
    {
     "data": {
      "image/png": "[encoded data removed]",
      "text/plain": [
       "<Figure size 432x288 with 1 Axes>"
      ]
     },
     "metadata": {
      "needs_background": "light"
     },
     "output_type": "display_data"
    }
   ],
   "source": [
    "from sklearn.feature_selection import mutual_info_classif\n",
    "mc = mutual_info_classif(train,test)\n",
    "ax = pd.Series(mc,index=train.columns)\n",
    "ax.nlargest(7).plot(kind = 'barh')"
   ]
  },
  {
   "cell_type": "code",
   "execution_count": 42,
   "metadata": {},
   "outputs": [
    {
     "name": "stderr",
     "output_type": "stream",
     "text": [
      "C:\\ProgramData\\Anaconda3\\lib\\site-packages\\pandas\\plotting\\_matplotlib\\core.py:1547: MatplotlibDeprecationWarning: normalize=None does not normalize if the sum is less than 1 but this behavior is deprecated since 3.3 until two minor releases later. After the deprecation period the default value will be normalize=True. To prevent normalization pass normalize=False \n",
      "  results = ax.pie(y, labels=blabels, **kwds)\n"
     ]
    },
    {
     "data": {
      "text/plain": [
       "<AxesSubplot:ylabel='None'>"
      ]
     },
     "execution_count": 42,
     "metadata": {},
     "output_type": "execute_result"
    },
    {
     "data": {
      "image/png": "[encoded data removed]",
      "text/plain": [
       "<Figure size 1080x504 with 1 Axes>"
      ]
     },
     "metadata": {},
     "output_type": "display_data"
    }
   ],
   "source": [
    "pd.Series(mc,index=train.columns).plot(kind = 'pie',autopct='%1.0f%%',figsize = (15,7))"
   ]
  },
  {
   "cell_type": "code",
   "execution_count": 43,
   "metadata": {},
   "outputs": [
    {
     "name": "stdout",
     "output_type": "stream",
     "text": [
      "['hsc_p', 'hsc_s', 'degree_p', 'gender', 'hsc_b', 'etest_p', 'ssc_p', 'ssc_b', 'degree_t', 'workex', 'specialisation', 'mba_p']\n"
     ]
    }
   ],
   "source": [
    "featcol = list(featbar.nlargest(12).index)\n",
    "mutclasif = list(ax.nlargest(12).index)\n",
    "commoncols = list(set(featcol).intersection(set(mutclasif)))\n",
    "print(commoncols)"
   ]
  },
  {
   "cell_type": "code",
   "execution_count": 44,
   "metadata": {},
   "outputs": [
    {
     "data": {
      "text/html": [
       "<div>\n",
       "<style scoped>\n",
       "    .dataframe tbody tr th:only-of-type {\n",
       "        vertical-align: middle;\n",
       "    }\n",
       "\n",
       "    .dataframe tbody tr th {\n",
       "        vertical-align: top;\n",
       "    }\n",
       "\n",
       "    .dataframe thead th {\n",
       "        text-align: right;\n",
       "    }\n",
       "</style>\n",
       "<table border=\"1\" class=\"dataframe\">\n",
       "  <thead>\n",
       "    <tr style=\"text-align: right;\">\n",
       "      <th></th>\n",
       "      <th>hsc_p</th>\n",
       "      <th>hsc_s</th>\n",
       "      <th>degree_p</th>\n",
       "      <th>gender</th>\n",
       "      <th>hsc_b</th>\n",
       "      <th>etest_p</th>\n",
       "      <th>ssc_p</th>\n",
       "      <th>ssc_b</th>\n",
       "      <th>degree_t</th>\n",
       "      <th>workex</th>\n",
       "      <th>specialisation</th>\n",
       "      <th>mba_p</th>\n",
       "    </tr>\n",
       "  </thead>\n",
       "  <tbody>\n",
       "    <tr>\n",
       "      <th>0</th>\n",
       "      <td>91.00</td>\n",
       "      <td>1</td>\n",
       "      <td>58.00</td>\n",
       "      <td>1</td>\n",
       "      <td>1</td>\n",
       "      <td>55.0</td>\n",
       "      <td>67.00</td>\n",
       "      <td>1</td>\n",
       "      <td>2</td>\n",
       "      <td>0</td>\n",
       "      <td>1</td>\n",
       "      <td>58.80</td>\n",
       "    </tr>\n",
       "    <tr>\n",
       "      <th>1</th>\n",
       "      <td>78.33</td>\n",
       "      <td>2</td>\n",
       "      <td>77.48</td>\n",
       "      <td>1</td>\n",
       "      <td>1</td>\n",
       "      <td>86.5</td>\n",
       "      <td>79.33</td>\n",
       "      <td>0</td>\n",
       "      <td>2</td>\n",
       "      <td>1</td>\n",
       "      <td>0</td>\n",
       "      <td>66.28</td>\n",
       "    </tr>\n",
       "    <tr>\n",
       "      <th>2</th>\n",
       "      <td>68.00</td>\n",
       "      <td>0</td>\n",
       "      <td>64.00</td>\n",
       "      <td>1</td>\n",
       "      <td>0</td>\n",
       "      <td>75.0</td>\n",
       "      <td>65.00</td>\n",
       "      <td>0</td>\n",
       "      <td>0</td>\n",
       "      <td>0</td>\n",
       "      <td>0</td>\n",
       "      <td>57.80</td>\n",
       "    </tr>\n",
       "    <tr>\n",
       "      <th>3</th>\n",
       "      <td>52.00</td>\n",
       "      <td>2</td>\n",
       "      <td>52.00</td>\n",
       "      <td>1</td>\n",
       "      <td>0</td>\n",
       "      <td>66.0</td>\n",
       "      <td>56.00</td>\n",
       "      <td>0</td>\n",
       "      <td>2</td>\n",
       "      <td>0</td>\n",
       "      <td>1</td>\n",
       "      <td>59.43</td>\n",
       "    </tr>\n",
       "    <tr>\n",
       "      <th>4</th>\n",
       "      <td>73.60</td>\n",
       "      <td>1</td>\n",
       "      <td>73.30</td>\n",
       "      <td>1</td>\n",
       "      <td>0</td>\n",
       "      <td>96.8</td>\n",
       "      <td>85.80</td>\n",
       "      <td>0</td>\n",
       "      <td>0</td>\n",
       "      <td>0</td>\n",
       "      <td>0</td>\n",
       "      <td>55.50</td>\n",
       "    </tr>\n",
       "  </tbody>\n",
       "</table>\n",
       "</div>"
      ],
      "text/plain": [
       "   hsc_p  hsc_s  degree_p  gender  hsc_b  etest_p  ssc_p  ssc_b  degree_t  \\\n",
       "0  91.00      1     58.00       1      1     55.0  67.00      1         2   \n",
       "1  78.33      2     77.48       1      1     86.5  79.33      0         2   \n",
       "2  68.00      0     64.00       1      0     75.0  65.00      0         0   \n",
       "3  52.00      2     52.00       1      0     66.0  56.00      0         2   \n",
       "4  73.60      1     73.30       1      0     96.8  85.80      0         0   \n",
       "\n",
       "   workex  specialisation  mba_p  \n",
       "0       0               1  58.80  \n",
       "1       1               0  66.28  \n",
       "2       0               0  57.80  \n",
       "3       0               1  59.43  \n",
       "4       0               0  55.50  "
      ]
     },
     "execution_count": 44,
     "metadata": {},
     "output_type": "execute_result"
    }
   ],
   "source": [
    "train = df[commoncols]\n",
    "train.head()"
   ]
  },
  {
   "cell_type": "code",
   "execution_count": 45,
   "metadata": {},
   "outputs": [
    {
     "data": {
      "text/plain": [
       "{'gender': {'F': 0, 'M': 1},\n",
       " 'ssc_b': {'Central': 0, 'Others': 1},\n",
       " 'hsc_b': {'Central': 0, 'Others': 1},\n",
       " 'hsc_s': {'Arts': 0, 'Commerce': 1, 'Science': 2},\n",
       " 'degree_t': {'Comm&Mgmt': 0, 'Others': 1, 'Sci&Tech': 2},\n",
       " 'workex': {'No': 0, 'Yes': 1},\n",
       " 'specialisation': {'Mkt&Fin': 0, 'Mkt&HR': 1},\n",
       " 'status': {'Not Placed': 0, 'Placed': 1}}"
      ]
     },
     "execution_count": 45,
     "metadata": {},
     "output_type": "execute_result"
    }
   ],
   "source": [
    "getmappings"
   ]
  },
  {
   "cell_type": "code",
   "execution_count": 46,
   "metadata": {},
   "outputs": [
    {
     "data": {
      "text/html": [
       "<div>\n",
       "<style scoped>\n",
       "    .dataframe tbody tr th:only-of-type {\n",
       "        vertical-align: middle;\n",
       "    }\n",
       "\n",
       "    .dataframe tbody tr th {\n",
       "        vertical-align: top;\n",
       "    }\n",
       "\n",
       "    .dataframe thead th {\n",
       "        text-align: right;\n",
       "    }\n",
       "</style>\n",
       "<table border=\"1\" class=\"dataframe\">\n",
       "  <thead>\n",
       "    <tr style=\"text-align: right;\">\n",
       "      <th></th>\n",
       "      <th>Gender</th>\n",
       "      <th>Specialisation</th>\n",
       "      <th>Techinal Degree</th>\n",
       "      <th>Work Experience</th>\n",
       "      <th>SSC</th>\n",
       "      <th>High School</th>\n",
       "      <th>Degree</th>\n",
       "      <th>MBA</th>\n",
       "    </tr>\n",
       "  </thead>\n",
       "  <tbody>\n",
       "    <tr>\n",
       "      <th>0</th>\n",
       "      <td>1</td>\n",
       "      <td>1</td>\n",
       "      <td>2</td>\n",
       "      <td>0</td>\n",
       "      <td>67.00</td>\n",
       "      <td>91.00</td>\n",
       "      <td>58.00</td>\n",
       "      <td>58.80</td>\n",
       "    </tr>\n",
       "    <tr>\n",
       "      <th>1</th>\n",
       "      <td>1</td>\n",
       "      <td>0</td>\n",
       "      <td>2</td>\n",
       "      <td>1</td>\n",
       "      <td>79.33</td>\n",
       "      <td>78.33</td>\n",
       "      <td>77.48</td>\n",
       "      <td>66.28</td>\n",
       "    </tr>\n",
       "    <tr>\n",
       "      <th>2</th>\n",
       "      <td>1</td>\n",
       "      <td>0</td>\n",
       "      <td>0</td>\n",
       "      <td>0</td>\n",
       "      <td>65.00</td>\n",
       "      <td>68.00</td>\n",
       "      <td>64.00</td>\n",
       "      <td>57.80</td>\n",
       "    </tr>\n",
       "    <tr>\n",
       "      <th>3</th>\n",
       "      <td>1</td>\n",
       "      <td>1</td>\n",
       "      <td>2</td>\n",
       "      <td>0</td>\n",
       "      <td>56.00</td>\n",
       "      <td>52.00</td>\n",
       "      <td>52.00</td>\n",
       "      <td>59.43</td>\n",
       "    </tr>\n",
       "    <tr>\n",
       "      <th>4</th>\n",
       "      <td>1</td>\n",
       "      <td>0</td>\n",
       "      <td>0</td>\n",
       "      <td>0</td>\n",
       "      <td>85.80</td>\n",
       "      <td>73.60</td>\n",
       "      <td>73.30</td>\n",
       "      <td>55.50</td>\n",
       "    </tr>\n",
       "  </tbody>\n",
       "</table>\n",
       "</div>"
      ],
      "text/plain": [
       "   Gender  Specialisation  Techinal Degree  Work Experience    SSC  \\\n",
       "0       1               1                2                0  67.00   \n",
       "1       1               0                2                1  79.33   \n",
       "2       1               0                0                0  65.00   \n",
       "3       1               1                2                0  56.00   \n",
       "4       1               0                0                0  85.80   \n",
       "\n",
       "   High School  Degree    MBA  \n",
       "0        91.00   58.00  58.80  \n",
       "1        78.33   77.48  66.28  \n",
       "2        68.00   64.00  57.80  \n",
       "3        52.00   52.00  59.43  \n",
       "4        73.60   73.30  55.50  "
      ]
     },
     "execution_count": 46,
     "metadata": {},
     "output_type": "execute_result"
    }
   ],
   "source": [
    "train = train[['gender','specialisation','degree_t','workex','ssc_p','hsc_p','degree_p','mba_p']]\n",
    "train.columns = ['Gender','Specialisation','Techinal Degree','Work Experience','SSC','High School','Degree','MBA']\n",
    "train.head()"
   ]
  },
  {
   "cell_type": "code",
   "execution_count": 47,
   "metadata": {},
   "outputs": [
    {
     "data": {
      "text/plain": [
       "0    145\n",
       "2     59\n",
       "1     11\n",
       "Name: Techinal Degree, dtype: int64"
      ]
     },
     "execution_count": 47,
     "metadata": {},
     "output_type": "execute_result"
    }
   ],
   "source": [
    "train['Techinal Degree'].value_counts()"
   ]
  },
  {
   "cell_type": "markdown",
   "metadata": {},
   "source": [
    "## Model Building"
   ]
  },
  {
   "cell_type": "code",
   "execution_count": 48,
   "metadata": {},
   "outputs": [],
   "source": [
    "from sklearn.linear_model import LogisticRegression\n",
    "from sklearn.tree import DecisionTreeClassifier\n",
    "from sklearn.ensemble import RandomForestClassifier\n",
    "from sklearn import tree\n",
    "from sklearn.svm import SVC\n",
    "from sklearn.model_selection import train_test_split,RandomizedSearchCV,cross_val_score\n",
    "from sklearn import metrics"
   ]
  },
  {
   "cell_type": "code",
   "execution_count": 49,
   "metadata": {},
   "outputs": [
    {
     "data": {
      "text/plain": [
       "((172, 8), (43, 8))"
      ]
     },
     "execution_count": 49,
     "metadata": {},
     "output_type": "execute_result"
    }
   ],
   "source": [
    "X_train, X_test, y_train, y_test = train_test_split(train,test,test_size=0.2)\n",
    "X_train.shape,X_test.shape"
   ]
  },
  {
   "cell_type": "code",
   "execution_count": 50,
   "metadata": {},
   "outputs": [
    {
     "data": {
      "text/plain": [
       "[Text(373.85999999999996, 462.06, 'SSC <= 59.98\\ngini = 0.426\\nsamples = 172\\nvalue = [53, 119]\\nclass = Placed'),\n",
       " Text(89.28, 407.70000000000005, 'High School <= 58.5\\ngini = 0.272\\nsamples = 37\\nvalue = [31, 6]\\nclass = Not_placed'),\n",
       " Text(59.519999999999996, 353.34000000000003, 'gini = 0.0\\nsamples = 17\\nvalue = [17, 0]\\nclass = Not_placed'),\n",
       " Text(119.03999999999999, 353.34000000000003, 'MBA <= 55.135\\ngini = 0.42\\nsamples = 20\\nvalue = [14, 6]\\nclass = Not_placed'),\n",
       " Text(59.519999999999996, 298.98, 'High School <= 66.5\\ngini = 0.375\\nsamples = 4\\nvalue = [1, 3]\\nclass = Placed'),\n",
       " Text(29.759999999999998, 244.62, 'gini = 0.0\\nsamples = 3\\nvalue = [0, 3]\\nclass = Placed'),\n",
       " Text(89.28, 244.62, 'gini = 0.0\\nsamples = 1\\nvalue = [1, 0]\\nclass = Not_placed'),\n",
       " Text(178.56, 298.98, 'Degree <= 64.5\\ngini = 0.305\\nsamples = 16\\nvalue = [13, 3]\\nclass = Not_placed'),\n",
       " Text(148.79999999999998, 244.62, 'gini = 0.0\\nsamples = 11\\nvalue = [11, 0]\\nclass = Not_placed'),\n",
       " Text(208.32, 244.62, 'Gender <= 0.5\\ngini = 0.48\\nsamples = 5\\nvalue = [2, 3]\\nclass = Placed'),\n",
       " Text(178.56, 190.26, 'gini = 0.0\\nsamples = 2\\nvalue = [2, 0]\\nclass = Not_placed'),\n",
       " Text(238.07999999999998, 190.26, 'gini = 0.0\\nsamples = 3\\nvalue = [0, 3]\\nclass = Placed'),\n",
       " Text(658.4399999999999, 407.70000000000005, 'Degree <= 55.19\\ngini = 0.273\\nsamples = 135\\nvalue = [22, 113]\\nclass = Placed'),\n",
       " Text(628.68, 353.34000000000003, 'gini = 0.0\\nsamples = 5\\nvalue = [5, 0]\\nclass = Not_placed'),\n",
       " Text(688.1999999999999, 353.34000000000003, 'SSC <= 69.75\\ngini = 0.227\\nsamples = 130\\nvalue = [17, 113]\\nclass = Placed'),\n",
       " Text(543.12, 298.98, 'Techinal Degree <= 1.5\\ngini = 0.362\\nsamples = 59\\nvalue = [14, 45]\\nclass = Placed'),\n",
       " Text(401.76, 244.62, 'Degree <= 64.165\\ngini = 0.278\\nsamples = 48\\nvalue = [8, 40]\\nclass = Placed'),\n",
       " Text(297.59999999999997, 190.26, 'High School <= 65.5\\ngini = 0.473\\nsamples = 13\\nvalue = [5, 8]\\nclass = Placed'),\n",
       " Text(267.84, 135.90000000000003, 'gini = 0.0\\nsamples = 6\\nvalue = [0, 6]\\nclass = Placed'),\n",
       " Text(327.35999999999996, 135.90000000000003, 'High School <= 70.8\\ngini = 0.408\\nsamples = 7\\nvalue = [5, 2]\\nclass = Not_placed'),\n",
       " Text(297.59999999999997, 81.54000000000002, 'gini = 0.0\\nsamples = 5\\nvalue = [5, 0]\\nclass = Not_placed'),\n",
       " Text(357.12, 81.54000000000002, 'gini = 0.0\\nsamples = 2\\nvalue = [0, 2]\\nclass = Placed'),\n",
       " Text(505.91999999999996, 190.26, 'MBA <= 71.48\\ngini = 0.157\\nsamples = 35\\nvalue = [3, 32]\\nclass = Placed'),\n",
       " Text(446.4, 135.90000000000003, 'Degree <= 73.5\\ngini = 0.061\\nsamples = 32\\nvalue = [1, 31]\\nclass = Placed'),\n",
       " Text(416.64, 81.54000000000002, 'gini = 0.0\\nsamples = 28\\nvalue = [0, 28]\\nclass = Placed'),\n",
       " Text(476.15999999999997, 81.54000000000002, 'SSC <= 64.0\\ngini = 0.375\\nsamples = 4\\nvalue = [1, 3]\\nclass = Placed'),\n",
       " Text(446.4, 27.180000000000007, 'gini = 0.0\\nsamples = 1\\nvalue = [1, 0]\\nclass = Not_placed'),\n",
       " Text(505.91999999999996, 27.180000000000007, 'gini = 0.0\\nsamples = 3\\nvalue = [0, 3]\\nclass = Placed'),\n",
       " Text(565.4399999999999, 135.90000000000003, 'Gender <= 0.5\\ngini = 0.444\\nsamples = 3\\nvalue = [2, 1]\\nclass = Not_placed'),\n",
       " Text(535.68, 81.54000000000002, 'gini = 0.0\\nsamples = 2\\nvalue = [2, 0]\\nclass = Not_placed'),\n",
       " Text(595.1999999999999, 81.54000000000002, 'gini = 0.0\\nsamples = 1\\nvalue = [0, 1]\\nclass = Placed'),\n",
       " Text(684.4799999999999, 244.62, 'High School <= 65.0\\ngini = 0.496\\nsamples = 11\\nvalue = [6, 5]\\nclass = Not_placed'),\n",
       " Text(654.7199999999999, 190.26, 'Degree <= 67.5\\ngini = 0.245\\nsamples = 7\\nvalue = [6, 1]\\nclass = Not_placed'),\n",
       " Text(624.9599999999999, 135.90000000000003, 'gini = 0.0\\nsamples = 5\\nvalue = [5, 0]\\nclass = Not_placed'),\n",
       " Text(684.4799999999999, 135.90000000000003, 'Gender <= 0.5\\ngini = 0.5\\nsamples = 2\\nvalue = [1, 1]\\nclass = Not_placed'),\n",
       " Text(654.7199999999999, 81.54000000000002, 'gini = 0.0\\nsamples = 1\\nvalue = [1, 0]\\nclass = Not_placed'),\n",
       " Text(714.24, 81.54000000000002, 'gini = 0.0\\nsamples = 1\\nvalue = [0, 1]\\nclass = Placed'),\n",
       " Text(714.24, 190.26, 'gini = 0.0\\nsamples = 4\\nvalue = [0, 4]\\nclass = Placed'),\n",
       " Text(833.28, 298.98, 'High School <= 64.1\\ngini = 0.081\\nsamples = 71\\nvalue = [3, 68]\\nclass = Placed'),\n",
       " Text(803.52, 244.62, 'MBA <= 66.38\\ngini = 0.219\\nsamples = 24\\nvalue = [3, 21]\\nclass = Placed'),\n",
       " Text(773.76, 190.26, 'gini = 0.0\\nsamples = 18\\nvalue = [0, 18]\\nclass = Placed'),\n",
       " Text(833.28, 190.26, 'Degree <= 72.115\\ngini = 0.5\\nsamples = 6\\nvalue = [3, 3]\\nclass = Not_placed'),\n",
       " Text(803.52, 135.90000000000003, 'gini = 0.0\\nsamples = 3\\nvalue = [3, 0]\\nclass = Not_placed'),\n",
       " Text(863.04, 135.90000000000003, 'gini = 0.0\\nsamples = 3\\nvalue = [0, 3]\\nclass = Placed'),\n",
       " Text(863.04, 244.62, 'gini = 0.0\\nsamples = 47\\nvalue = [0, 47]\\nclass = Placed')]"
      ]
     },
     "execution_count": 50,
     "metadata": {},
     "output_type": "execute_result"
    },
    {
     "data": {
      "image/png": "[encoded data removed]",
      "text/plain": [
       "<Figure size 1152x648 with 1 Axes>"
      ]
     },
     "metadata": {
      "needs_background": "light"
     },
     "output_type": "display_data"
    }
   ],
   "source": [
    "dc = DecisionTreeClassifier()\n",
    "dc.fit(X_train,y_train)\n",
    "plt.figure(figsize=(16,9))\n",
    "tree.plot_tree(dc,filled=True,class_names=['Not_placed','Placed'],feature_names=train.columns)"
   ]
  },
  {
   "cell_type": "code",
   "execution_count": 51,
   "metadata": {},
   "outputs": [],
   "source": [
    "costpath = dc.cost_complexity_pruning_path(train,test)\n",
    "ccp_alpha,impurities = costpath.ccp_alphas,costpath.impurities"
   ]
  },
  {
   "cell_type": "code",
   "execution_count": 52,
   "metadata": {},
   "outputs": [],
   "source": [
    "modellist = []\n",
    "for alpha in ccp_alpha:\n",
    "    dc = DecisionTreeClassifier(ccp_alpha=alpha)\n",
    "    dc.fit(X_train,y_train)\n",
    "    modellist.append(dc)\n",
    "    "
   ]
  },
  {
   "cell_type": "code",
   "execution_count": 53,
   "metadata": {},
   "outputs": [
    {
     "data": {
      "image/png": "[encoded data removed]",
      "text/plain": [
       "<Figure size 432x288 with 1 Axes>"
      ]
     },
     "metadata": {
      "needs_background": "light"
     },
     "output_type": "display_data"
    }
   ],
   "source": [
    "train_score = [clf.score(X_train,y_train) for clf in modellist]\n",
    "test_score = [clf.score(X_test,y_test) for clf in modellist]\n",
    "\n",
    "plt.xlabel('alpha_value')\n",
    "plt.ylabel('accuracy')\n",
    "plt.plot(ccp_alpha,train_score,label = 'train_score',marker = '+',color = 'magenta')\n",
    "plt.plot(ccp_alpha,test_score,label = 'test_score',marker = '*',color = 'red')\n",
    "plt.legend()\n",
    "plt.show()"
   ]
  },
  {
   "cell_type": "code",
   "execution_count": 54,
   "metadata": {},
   "outputs": [
    {
     "data": {
      "text/plain": [
       "[Text(334.8, 317.09999999999997, 'SSC <= 59.98\\ngini = 0.426\\nsamples = 172\\nvalue = [53, 119]\\nclass = Placed'),\n",
       " Text(167.4, 190.26, 'gini = 0.272\\nsamples = 37\\nvalue = [31, 6]\\nclass = Not_placed'),\n",
       " Text(502.20000000000005, 190.26, 'Degree <= 55.19\\ngini = 0.273\\nsamples = 135\\nvalue = [22, 113]\\nclass = Placed'),\n",
       " Text(334.8, 63.420000000000016, 'gini = 0.0\\nsamples = 5\\nvalue = [5, 0]\\nclass = Not_placed'),\n",
       " Text(669.6, 63.420000000000016, 'gini = 0.227\\nsamples = 130\\nvalue = [17, 113]\\nclass = Placed')]"
      ]
     },
     "execution_count": 54,
     "metadata": {},
     "output_type": "execute_result"
    },
    {
     "data": {
      "image/png": "[encoded data removed]",
      "text/plain": [
       "<Figure size 1080x504 with 1 Axes>"
      ]
     },
     "metadata": {
      "needs_background": "light"
     },
     "output_type": "display_data"
    }
   ],
   "source": [
    "dc = DecisionTreeClassifier(ccp_alpha=0.0195)\n",
    "dc.fit(X_train,y_train)\n",
    "plt.figure(figsize=(15,7))\n",
    "tree.plot_tree(dc,filled=True,class_names=['Not_placed','Placed'],feature_names=train.columns)"
   ]
  },
  {
   "cell_type": "markdown",
   "metadata": {},
   "source": [
    "# Hyperparameter Tuning"
   ]
  },
  {
   "cell_type": "code",
   "execution_count": 55,
   "metadata": {},
   "outputs": [],
   "source": [
    "params = {\n",
    "    'RandomForest':{\n",
    "        'model': RandomForestClassifier(),\n",
    "        'params':{\n",
    "            'n_estimators': [int(x) for x in np.linspace(start=1,stop=1200,num=10)],\n",
    "            'max_depth':[int(x) for x in np.linspace(start=1,stop=30,num=5)],\n",
    "            'min_samples_split':[2,5,10,12],\n",
    "            'min_samples_leaf':[2,5,10,12],\n",
    "            'max_features':['auto','sqrt'],\n",
    "            'ccp_alpha':[0.0185,0.0190,0.0195,0.0200],\n",
    "        }\n",
    "    },\n",
    "    \n",
    "    'logistic':{\n",
    "        'model':LogisticRegression(),\n",
    "        'params':{\n",
    "            'penalty':['l1', 'l2', 'elasticnet'],\n",
    "            'C':[0.25,0.50,0.75,1.0],\n",
    "            'tol':[1e-10,1e-5,1e-4,1e-3,0.025,0.25,0.50],\n",
    "            'solver':['lbfgs','liblinear','saga','newton-cg'],\n",
    "            'multi_class':['auto', 'ovr', 'multinomial'],\n",
    "            'max_iter':[int(x) for x in np.linspace(start=1,stop=250,num=10)],\n",
    "        }\n",
    "    },\n",
    "    'D-tree':{\n",
    "        'model':DecisionTreeClassifier(),\n",
    "        'params':{\n",
    "            'criterion':['gini','entropy'],\n",
    "            'splitter':['best','random'],\n",
    "            'min_samples_split':[1,2,5,10,12],\n",
    "            'min_samples_leaf':[1,2,5,10,12],\n",
    "            'max_features':['auto','sqrt'],\n",
    "            'ccp_alpha':[0.0185,0.0190,0.0195,0.0200],\n",
    "        }\n",
    "    },\n",
    "    'SVM':{\n",
    "        'model':SVC(),\n",
    "        'params':{\n",
    "            'C':[0.25,0.50,0.75,1.0],\n",
    "            'tol':[1e-10,1e-5,1e-4,0.025,0.50,0.75],\n",
    "            'kernel':['linear','poly','sigmoid','rbf'],\n",
    "            'max_iter':[int(x) for x in np.linspace(start=1,stop=250,num=10)],\n",
    "        }\n",
    "    }\n",
    "}"
   ]
  },
  {
   "cell_type": "code",
   "execution_count": 56,
   "metadata": {},
   "outputs": [
    {
     "name": "stderr",
     "output_type": "stream",
     "text": [
      "C:\\Users\\Nikhitha Siva\\AppData\\Roaming\\Python\\Python38\\site-packages\\sklearn\\model_selection\\_search.py:918: UserWarning: One or more of the test scores are non-finite: [0.7205042         nan 0.80201681 0.85478992        nan 0.85445378\n",
      " 0.86067227 0.86067227        nan 0.86067227]\n",
      "  warnings.warn(\n",
      "C:\\Users\\Nikhitha Siva\\AppData\\Roaming\\Python\\Python38\\site-packages\\sklearn\\linear_model\\_logistic.py:763: ConvergenceWarning: lbfgs failed to converge (status=1):\n",
      "STOP: TOTAL NO. of ITERATIONS REACHED LIMIT.\n",
      "\n",
      "Increase the number of iterations (max_iter) or scale the data as shown in:\n",
      "    https://scikit-learn.org/stable/modules/preprocessing.html\n",
      "Please also refer to the documentation for alternative solver options:\n",
      "    https://scikit-learn.org/stable/modules/linear_model.html#logistic-regression\n",
      "  n_iter_i = _check_optimize_result(\n",
      "C:\\Users\\Nikhitha Siva\\AppData\\Roaming\\Python\\Python38\\site-packages\\sklearn\\model_selection\\_search.py:918: UserWarning: One or more of the test scores are non-finite: [0.77411765 0.79647059        nan 0.80806723        nan 0.75579832\n",
      " 0.77344538        nan 0.78016807        nan]\n",
      "  warnings.warn(\n",
      "C:\\Users\\Nikhitha Siva\\AppData\\Roaming\\Python\\Python38\\site-packages\\sklearn\\svm\\_base.py:255: ConvergenceWarning: Solver terminated early (max_iter=56).  Consider pre-processing your data with StandardScaler or MinMaxScaler.\n",
      "  warnings.warn('Solver terminated early (max_iter=%i).'\n"
     ]
    }
   ],
   "source": [
    "scores = []\n",
    "for model_name,mp in params.items():\n",
    "    \n",
    "    clf = RandomizedSearchCV(mp['model'],param_distributions=mp['params'],cv=5,n_iter=10,n_jobs=-1,scoring='accuracy')\n",
    "    clf.fit(X_train,y_train)\n",
    "    scores.append({\n",
    "        'model_name':model_name,\n",
    "        'best_score':clf.best_score_,\n",
    "        'best_estimator':clf.best_estimator_\n",
    "    })"
   ]
  },
  {
   "cell_type": "code",
   "execution_count": 57,
   "metadata": {},
   "outputs": [
    {
     "data": {
      "text/html": [
       "<div>\n",
       "<style scoped>\n",
       "    .dataframe tbody tr th:only-of-type {\n",
       "        vertical-align: middle;\n",
       "    }\n",
       "\n",
       "    .dataframe tbody tr th {\n",
       "        vertical-align: top;\n",
       "    }\n",
       "\n",
       "    .dataframe thead th {\n",
       "        text-align: right;\n",
       "    }\n",
       "</style>\n",
       "<table border=\"1\" class=\"dataframe\">\n",
       "  <thead>\n",
       "    <tr style=\"text-align: right;\">\n",
       "      <th></th>\n",
       "      <th>model_name</th>\n",
       "      <th>best_score</th>\n",
       "      <th>best_estimator</th>\n",
       "    </tr>\n",
       "  </thead>\n",
       "  <tbody>\n",
       "    <tr>\n",
       "      <th>0</th>\n",
       "      <td>RandomForest</td>\n",
       "      <td>0.860504</td>\n",
       "      <td>(DecisionTreeClassifier(ccp_alpha=0.02, max_de...</td>\n",
       "    </tr>\n",
       "    <tr>\n",
       "      <th>1</th>\n",
       "      <td>logistic</td>\n",
       "      <td>0.860672</td>\n",
       "      <td>LogisticRegression(C=0.75, max_iter=194, multi...</td>\n",
       "    </tr>\n",
       "    <tr>\n",
       "      <th>2</th>\n",
       "      <td>D-tree</td>\n",
       "      <td>0.808067</td>\n",
       "      <td>DecisionTreeClassifier(ccp_alpha=0.0185, crite...</td>\n",
       "    </tr>\n",
       "    <tr>\n",
       "      <th>3</th>\n",
       "      <td>SVM</td>\n",
       "      <td>0.831597</td>\n",
       "      <td>SVC(kernel='poly', max_iter=56, tol=0.025)</td>\n",
       "    </tr>\n",
       "  </tbody>\n",
       "</table>\n",
       "</div>"
      ],
      "text/plain": [
       "     model_name  best_score                                     best_estimator\n",
       "0  RandomForest    0.860504  (DecisionTreeClassifier(ccp_alpha=0.02, max_de...\n",
       "1      logistic    0.860672  LogisticRegression(C=0.75, max_iter=194, multi...\n",
       "2        D-tree    0.808067  DecisionTreeClassifier(ccp_alpha=0.0185, crite...\n",
       "3           SVM    0.831597         SVC(kernel='poly', max_iter=56, tol=0.025)"
      ]
     },
     "execution_count": 57,
     "metadata": {},
     "output_type": "execute_result"
    }
   ],
   "source": [
    "scores_df = pd.DataFrame(data = scores,columns = ['model_name','best_score','best_estimator'])\n",
    "scores_df.head()"
   ]
  },
  {
   "cell_type": "code",
   "execution_count": 58,
   "metadata": {},
   "outputs": [
    {
     "data": {
      "text/plain": [
       "[{'model_name': 'RandomForest',\n",
       "  'best_score': 0.8605042016806724,\n",
       "  'best_estimator': RandomForestClassifier(ccp_alpha=0.02, max_depth=30, min_samples_leaf=12,\n",
       "                         min_samples_split=12, n_estimators=134)},\n",
       " {'model_name': 'logistic',\n",
       "  'best_score': 0.8606722689075632,\n",
       "  'best_estimator': LogisticRegression(C=0.75, max_iter=194, multi_class='multinomial')},\n",
       " {'model_name': 'D-tree',\n",
       "  'best_score': 0.8080672268907563,\n",
       "  'best_estimator': DecisionTreeClassifier(ccp_alpha=0.0185, criterion='entropy',\n",
       "                         max_features='sqrt', min_samples_leaf=10,\n",
       "                         min_samples_split=10)},\n",
       " {'model_name': 'SVM',\n",
       "  'best_score': 0.8315966386554621,\n",
       "  'best_estimator': SVC(kernel='poly', max_iter=56, tol=0.025)}]"
      ]
     },
     "execution_count": 58,
     "metadata": {},
     "output_type": "execute_result"
    }
   ],
   "source": [
    "scores"
   ]
  },
  {
   "cell_type": "code",
   "execution_count": 59,
   "metadata": {},
   "outputs": [
    {
     "name": "stdout",
     "output_type": "stream",
     "text": [
      "0.7906976744186046\n"
     ]
    }
   ],
   "source": [
    "rf = RandomForestClassifier(ccp_alpha=0.02, max_depth=30, max_features='sqrt',\n",
    "                         min_samples_leaf=2, min_samples_split=12,\n",
    "                         n_estimators=267)\n",
    "rf.fit(X_train,y_train)\n",
    "y_pred = rf.predict(X_test)\n",
    "print(metrics.accuracy_score(y_test,y_pred))"
   ]
  },
  {
   "cell_type": "code",
   "execution_count": 60,
   "metadata": {},
   "outputs": [
    {
     "name": "stdout",
     "output_type": "stream",
     "text": [
      "0.8837209302325582\n"
     ]
    }
   ],
   "source": [
    "lr = LogisticRegression(C=0.25, max_iter=111, multi_class='ovr', solver='newton-cg',\n",
    "                     tol=1e-05)\n",
    "\n",
    "lr.fit(X_train,y_train)\n",
    "y_pred = lr.predict(X_test)\n",
    "print(metrics.accuracy_score(y_test,y_pred))\n"
   ]
  },
  {
   "cell_type": "code",
   "execution_count": 61,
   "metadata": {},
   "outputs": [
    {
     "name": "stdout",
     "output_type": "stream",
     "text": [
      "0.7441860465116279\n"
     ]
    }
   ],
   "source": [
    "dc = DecisionTreeClassifier(ccp_alpha=0.019, criterion='entropy',\n",
    "                         max_features='auto', min_samples_leaf=5,\n",
    "                         min_samples_split=5, splitter='random')\n",
    "dc.fit(X_train,y_train)\n",
    "y_pred = dc.predict(X_test)\n",
    "print(metrics.accuracy_score(y_test,y_pred))"
   ]
  },
  {
   "cell_type": "code",
   "execution_count": 62,
   "metadata": {},
   "outputs": [
    {
     "name": "stdout",
     "output_type": "stream",
     "text": [
      "              precision    recall  f1-score   support\n",
      "\n",
      "           0       0.73      0.57      0.64        14\n",
      "           1       0.81      0.90      0.85        29\n",
      "\n",
      "    accuracy                           0.79        43\n",
      "   macro avg       0.77      0.73      0.75        43\n",
      "weighted avg       0.78      0.79      0.78        43\n",
      "\n"
     ]
    }
   ],
   "source": [
    "print(metrics.classification_report(y_test,rf.predict(X_test)))"
   ]
  },
  {
   "cell_type": "code",
   "execution_count": 63,
   "metadata": {},
   "outputs": [
    {
     "data": {
      "text/plain": [
       "<AxesSubplot:>"
      ]
     },
     "execution_count": 63,
     "metadata": {},
     "output_type": "execute_result"
    },
    {
     "data": {
      "image/png": "[encoded data removed]",
      "text/plain": [
       "<Figure size 432x288 with 2 Axes>"
      ]
     },
     "metadata": {
      "needs_background": "light"
     },
     "output_type": "display_data"
    }
   ],
   "source": [
    "cn = metrics.confusion_matrix(y_test,rf.predict(X_test))\n",
    "sn.heatmap(cn,annot=True,cmap='plasma')"
   ]
  },
  {
   "cell_type": "markdown",
   "metadata": {},
   "source": [
    "# Model Testing"
   ]
  },
  {
   "cell_type": "code",
   "execution_count": 64,
   "metadata": {},
   "outputs": [
    {
     "data": {
      "text/plain": [
       "[array([1]),\n",
       " array([1]),\n",
       " array([1]),\n",
       " array([0]),\n",
       " array([1]),\n",
       " array([0]),\n",
       " array([0]),\n",
       " array([1]),\n",
       " array([1]),\n",
       " array([0]),\n",
       " array([0]),\n",
       " array([1]),\n",
       " array([0]),\n",
       " array([1]),\n",
       " array([0]),\n",
       " array([1]),\n",
       " array([1]),\n",
       " array([0]),\n",
       " array([1]),\n",
       " array([1]),\n",
       " array([1]),\n",
       " array([1]),\n",
       " array([1]),\n",
       " array([1]),\n",
       " array([1]),\n",
       " array([0]),\n",
       " array([1]),\n",
       " array([1]),\n",
       " array([1]),\n",
       " array([0]),\n",
       " array([1]),\n",
       " array([0]),\n",
       " array([1]),\n",
       " array([1]),\n",
       " array([0]),\n",
       " array([1]),\n",
       " array([0]),\n",
       " array([1]),\n",
       " array([1]),\n",
       " array([1]),\n",
       " array([1]),\n",
       " array([1]),\n",
       " array([0]),\n",
       " array([1]),\n",
       " array([1]),\n",
       " array([1]),\n",
       " array([1]),\n",
       " array([1]),\n",
       " array([1]),\n",
       " array([0]),\n",
       " array([1]),\n",
       " array([0]),\n",
       " array([0]),\n",
       " array([1]),\n",
       " array([1]),\n",
       " array([1]),\n",
       " array([1]),\n",
       " array([1]),\n",
       " array([1]),\n",
       " array([1]),\n",
       " array([1]),\n",
       " array([1]),\n",
       " array([1]),\n",
       " array([0]),\n",
       " array([1]),\n",
       " array([0]),\n",
       " array([1]),\n",
       " array([1]),\n",
       " array([1]),\n",
       " array([1]),\n",
       " array([1]),\n",
       " array([1]),\n",
       " array([1]),\n",
       " array([1]),\n",
       " array([1]),\n",
       " array([1]),\n",
       " array([1]),\n",
       " array([1]),\n",
       " array([1]),\n",
       " array([1]),\n",
       " array([1]),\n",
       " array([1]),\n",
       " array([1]),\n",
       " array([1]),\n",
       " array([1]),\n",
       " array([1]),\n",
       " array([1]),\n",
       " array([0]),\n",
       " array([1]),\n",
       " array([1]),\n",
       " array([1]),\n",
       " array([0]),\n",
       " array([1]),\n",
       " array([0]),\n",
       " array([0]),\n",
       " array([1]),\n",
       " array([1]),\n",
       " array([1]),\n",
       " array([1]),\n",
       " array([0]),\n",
       " array([0]),\n",
       " array([1]),\n",
       " array([1]),\n",
       " array([1]),\n",
       " array([1]),\n",
       " array([0]),\n",
       " array([0]),\n",
       " array([1]),\n",
       " array([1]),\n",
       " array([1]),\n",
       " array([1]),\n",
       " array([0]),\n",
       " array([0]),\n",
       " array([1]),\n",
       " array([1]),\n",
       " array([1]),\n",
       " array([1]),\n",
       " array([1]),\n",
       " array([1]),\n",
       " array([1]),\n",
       " array([0]),\n",
       " array([1]),\n",
       " array([1]),\n",
       " array([1]),\n",
       " array([1]),\n",
       " array([1]),\n",
       " array([1]),\n",
       " array([1]),\n",
       " array([1]),\n",
       " array([1]),\n",
       " array([1]),\n",
       " array([1]),\n",
       " array([1]),\n",
       " array([1]),\n",
       " array([1]),\n",
       " array([1]),\n",
       " array([0]),\n",
       " array([1]),\n",
       " array([1]),\n",
       " array([1]),\n",
       " array([1]),\n",
       " array([1]),\n",
       " array([1]),\n",
       " array([1]),\n",
       " array([0]),\n",
       " array([1]),\n",
       " array([1]),\n",
       " array([1]),\n",
       " array([1]),\n",
       " array([0]),\n",
       " array([1]),\n",
       " array([1]),\n",
       " array([1]),\n",
       " array([1]),\n",
       " array([0]),\n",
       " array([0]),\n",
       " array([1]),\n",
       " array([1]),\n",
       " array([1]),\n",
       " array([0]),\n",
       " array([1]),\n",
       " array([0]),\n",
       " array([1]),\n",
       " array([1]),\n",
       " array([1]),\n",
       " array([1]),\n",
       " array([1]),\n",
       " array([1]),\n",
       " array([0]),\n",
       " array([0]),\n",
       " array([0]),\n",
       " array([1]),\n",
       " array([1]),\n",
       " array([0]),\n",
       " array([1]),\n",
       " array([1]),\n",
       " array([0]),\n",
       " array([1]),\n",
       " array([1]),\n",
       " array([1]),\n",
       " array([1]),\n",
       " array([0]),\n",
       " array([0]),\n",
       " array([1]),\n",
       " array([0]),\n",
       " array([1]),\n",
       " array([0]),\n",
       " array([1]),\n",
       " array([0]),\n",
       " array([1]),\n",
       " array([1]),\n",
       " array([1]),\n",
       " array([1]),\n",
       " array([1]),\n",
       " array([0]),\n",
       " array([1]),\n",
       " array([1]),\n",
       " array([1]),\n",
       " array([1]),\n",
       " array([1]),\n",
       " array([1]),\n",
       " array([0]),\n",
       " array([1]),\n",
       " array([0]),\n",
       " array([1]),\n",
       " array([1]),\n",
       " array([0]),\n",
       " array([1]),\n",
       " array([0]),\n",
       " array([1]),\n",
       " array([1]),\n",
       " array([1]),\n",
       " array([1]),\n",
       " array([1]),\n",
       " array([0])]"
      ]
     },
     "execution_count": 64,
     "metadata": {},
     "output_type": "execute_result"
    }
   ],
   "source": [
    "traindata = np.array(train)\n",
    "predicted = []\n",
    "for i in range(len(traindata)):\n",
    "    predicted.append(rf.predict([traindata[i]]))\n",
    "    \n",
    "predicted"
   ]
  },
  {
   "cell_type": "code",
   "execution_count": 65,
   "metadata": {},
   "outputs": [
    {
     "data": {
      "text/html": [
       "<div>\n",
       "<style scoped>\n",
       "    .dataframe tbody tr th:only-of-type {\n",
       "        vertical-align: middle;\n",
       "    }\n",
       "\n",
       "    .dataframe tbody tr th {\n",
       "        vertical-align: top;\n",
       "    }\n",
       "\n",
       "    .dataframe thead th {\n",
       "        text-align: right;\n",
       "    }\n",
       "</style>\n",
       "<table border=\"1\" class=\"dataframe\">\n",
       "  <thead>\n",
       "    <tr style=\"text-align: right;\">\n",
       "      <th></th>\n",
       "      <th>Gender</th>\n",
       "      <th>Specialisation</th>\n",
       "      <th>Techinal Degree</th>\n",
       "      <th>Work Experience</th>\n",
       "      <th>SSC</th>\n",
       "      <th>High School</th>\n",
       "      <th>Degree</th>\n",
       "      <th>MBA</th>\n",
       "      <th>Actual</th>\n",
       "      <th>Predicted</th>\n",
       "    </tr>\n",
       "  </thead>\n",
       "  <tbody>\n",
       "    <tr>\n",
       "      <th>0</th>\n",
       "      <td>1</td>\n",
       "      <td>1</td>\n",
       "      <td>2</td>\n",
       "      <td>0</td>\n",
       "      <td>67.00</td>\n",
       "      <td>91.00</td>\n",
       "      <td>58.00</td>\n",
       "      <td>58.80</td>\n",
       "      <td>1</td>\n",
       "      <td>1</td>\n",
       "    </tr>\n",
       "    <tr>\n",
       "      <th>1</th>\n",
       "      <td>1</td>\n",
       "      <td>0</td>\n",
       "      <td>2</td>\n",
       "      <td>1</td>\n",
       "      <td>79.33</td>\n",
       "      <td>78.33</td>\n",
       "      <td>77.48</td>\n",
       "      <td>66.28</td>\n",
       "      <td>1</td>\n",
       "      <td>1</td>\n",
       "    </tr>\n",
       "    <tr>\n",
       "      <th>2</th>\n",
       "      <td>1</td>\n",
       "      <td>0</td>\n",
       "      <td>0</td>\n",
       "      <td>0</td>\n",
       "      <td>65.00</td>\n",
       "      <td>68.00</td>\n",
       "      <td>64.00</td>\n",
       "      <td>57.80</td>\n",
       "      <td>1</td>\n",
       "      <td>1</td>\n",
       "    </tr>\n",
       "    <tr>\n",
       "      <th>3</th>\n",
       "      <td>1</td>\n",
       "      <td>1</td>\n",
       "      <td>2</td>\n",
       "      <td>0</td>\n",
       "      <td>56.00</td>\n",
       "      <td>52.00</td>\n",
       "      <td>52.00</td>\n",
       "      <td>59.43</td>\n",
       "      <td>0</td>\n",
       "      <td>0</td>\n",
       "    </tr>\n",
       "    <tr>\n",
       "      <th>4</th>\n",
       "      <td>1</td>\n",
       "      <td>0</td>\n",
       "      <td>0</td>\n",
       "      <td>0</td>\n",
       "      <td>85.80</td>\n",
       "      <td>73.60</td>\n",
       "      <td>73.30</td>\n",
       "      <td>55.50</td>\n",
       "      <td>1</td>\n",
       "      <td>1</td>\n",
       "    </tr>\n",
       "  </tbody>\n",
       "</table>\n",
       "</div>"
      ],
      "text/plain": [
       "   Gender  Specialisation  Techinal Degree  Work Experience    SSC  \\\n",
       "0       1               1                2                0  67.00   \n",
       "1       1               0                2                1  79.33   \n",
       "2       1               0                0                0  65.00   \n",
       "3       1               1                2                0  56.00   \n",
       "4       1               0                0                0  85.80   \n",
       "\n",
       "   High School  Degree    MBA  Actual  Predicted  \n",
       "0        91.00   58.00  58.80       1          1  \n",
       "1        78.33   77.48  66.28       1          1  \n",
       "2        68.00   64.00  57.80       1          1  \n",
       "3        52.00   52.00  59.43       0          0  \n",
       "4        73.60   73.30  55.50       1          1  "
      ]
     },
     "execution_count": 65,
     "metadata": {},
     "output_type": "execute_result"
    }
   ],
   "source": [
    "resultdf = train.copy()\n",
    "resultdf['Actual'] = np.array(test)\n",
    "resultdf['Predicted'] = np.array(predicted)\n",
    "resultdf.head()"
   ]
  },
  {
   "cell_type": "code",
   "execution_count": 66,
   "metadata": {},
   "outputs": [
    {
     "data": {
      "text/plain": [
       "1    148\n",
       "0     67\n",
       "Name: Actual, dtype: int64"
      ]
     },
     "execution_count": 66,
     "metadata": {},
     "output_type": "execute_result"
    }
   ],
   "source": [
    "resultdf['Actual'].value_counts()"
   ]
  },
  {
   "cell_type": "code",
   "execution_count": 67,
   "metadata": {},
   "outputs": [
    {
     "data": {
      "text/plain": [
       "1    162\n",
       "0     53\n",
       "Name: Predicted, dtype: int64"
      ]
     },
     "execution_count": 67,
     "metadata": {},
     "output_type": "execute_result"
    }
   ],
   "source": [
    "resultdf['Predicted'].value_counts()"
   ]
  },
  {
   "cell_type": "code",
   "execution_count": 68,
   "metadata": {},
   "outputs": [
    {
     "data": {
      "text/plain": [
       "{'gender': {'F': 0, 'M': 1},\n",
       " 'ssc_b': {'Central': 0, 'Others': 1},\n",
       " 'hsc_b': {'Central': 0, 'Others': 1},\n",
       " 'hsc_s': {'Arts': 0, 'Commerce': 1, 'Science': 2},\n",
       " 'degree_t': {'Comm&Mgmt': 0, 'Others': 1, 'Sci&Tech': 2},\n",
       " 'workex': {'No': 0, 'Yes': 1},\n",
       " 'specialisation': {'Mkt&Fin': 0, 'Mkt&HR': 1},\n",
       " 'status': {'Not Placed': 0, 'Placed': 1}}"
      ]
     },
     "execution_count": 68,
     "metadata": {},
     "output_type": "execute_result"
    }
   ],
   "source": [
    "getmappings"
   ]
  },
  {
   "cell_type": "markdown",
   "metadata": {},
   "source": [
    "### Predicted Probability"
   ]
  },
  {
   "cell_type": "code",
   "execution_count": 69,
   "metadata": {},
   "outputs": [
    {
     "data": {
      "text/plain": [
       "[array([[0.30891208, 0.69108792]]),\n",
       " array([[0.08286403, 0.91713597]]),\n",
       " array([[0.27885225, 0.72114775]]),\n",
       " array([[0.87795356, 0.12204644]]),\n",
       " array([[0.07531435, 0.92468565]]),\n",
       " array([[0.66845136, 0.33154864]]),\n",
       " array([[0.71442852, 0.28557148]]),\n",
       " array([[0.09800445, 0.90199555]]),\n",
       " array([[0.07591191, 0.92408809]]),\n",
       " array([[0.62296508, 0.37703492]]),\n",
       " array([[0.56428018, 0.43571982]]),\n",
       " array([[0.08056571, 0.91943429]]),\n",
       " array([[0.74038897, 0.25961103]]),\n",
       " array([[0.1880451, 0.8119549]]),\n",
       " array([[0.81158589, 0.18841411]]),\n",
       " array([[0.09298888, 0.90701112]]),\n",
       " array([[0.14908665, 0.85091335]]),\n",
       " array([[0.67747039, 0.32252961]]),\n",
       " array([[0.49657292, 0.50342708]]),\n",
       " array([[0.21865666, 0.78134334]]),\n",
       " array([[0.19889763, 0.80110237]]),\n",
       " array([[0.08623259, 0.91376741]]),\n",
       " array([[0.17779236, 0.82220764]]),\n",
       " array([[0.13295261, 0.86704739]]),\n",
       " array([[0.09948336, 0.90051664]]),\n",
       " array([[0.73097369, 0.26902631]]),\n",
       " array([[0.07626162, 0.92373838]]),\n",
       " array([[0.16864482, 0.83135518]]),\n",
       " array([[0.07639652, 0.92360348]]),\n",
       " array([[0.55929542, 0.44070458]]),\n",
       " array([[0.12599987, 0.87400013]]),\n",
       " array([[0.5144673, 0.4855327]]),\n",
       " array([[0.23485719, 0.76514281]]),\n",
       " array([[0.10331536, 0.89668464]]),\n",
       " array([[0.82688498, 0.17311502]]),\n",
       " array([[0.09978481, 0.90021519]]),\n",
       " array([[0.86841623, 0.13158377]]),\n",
       " array([[0.12447337, 0.87552663]]),\n",
       " array([[0.15445337, 0.84554663]]),\n",
       " array([[0.21885501, 0.78114499]]),\n",
       " array([[0.08610787, 0.91389213]]),\n",
       " array([[0.2477323, 0.7522677]]),\n",
       " array([[0.75301822, 0.24698178]]),\n",
       " array([[0.08342083, 0.91657917]]),\n",
       " array([[0.08792593, 0.91207407]]),\n",
       " array([[0.17168032, 0.82831968]]),\n",
       " array([[0.14596069, 0.85403931]]),\n",
       " array([[0.30462959, 0.69537041]]),\n",
       " array([[0.18570764, 0.81429236]]),\n",
       " array([[0.88002605, 0.11997395]]),\n",
       " array([[0.09439857, 0.90560143]]),\n",
       " array([[0.78208517, 0.21791483]]),\n",
       " array([[0.89194324, 0.10805676]]),\n",
       " array([[0.1087663, 0.8912337]]),\n",
       " array([[0.11684056, 0.88315944]]),\n",
       " array([[0.2616925, 0.7383075]]),\n",
       " array([[0.31601376, 0.68398624]]),\n",
       " array([[0.08093412, 0.91906588]]),\n",
       " array([[0.08876914, 0.91123086]]),\n",
       " array([[0.4039889, 0.5960111]]),\n",
       " array([[0.07647287, 0.92352713]]),\n",
       " array([[0.07745458, 0.92254542]]),\n",
       " array([[0.11485787, 0.88514213]]),\n",
       " array([[0.50209423, 0.49790577]]),\n",
       " array([[0.07754861, 0.92245139]]),\n",
       " array([[0.89380897, 0.10619103]]),\n",
       " array([[0.09100467, 0.90899533]]),\n",
       " array([[0.07641056, 0.92358944]]),\n",
       " array([[0.44674492, 0.55325508]]),\n",
       " array([[0.09523217, 0.90476783]]),\n",
       " array([[0.21503107, 0.78496893]]),\n",
       " array([[0.09550704, 0.90449296]]),\n",
       " array([[0.08825602, 0.91174398]]),\n",
       " array([[0.08507079, 0.91492921]]),\n",
       " array([[0.35728046, 0.64271954]]),\n",
       " array([[0.44569537, 0.55430463]]),\n",
       " array([[0.09751439, 0.90248561]]),\n",
       " array([[0.13848276, 0.86151724]]),\n",
       " array([[0.11757497, 0.88242503]]),\n",
       " array([[0.25857669, 0.74142331]]),\n",
       " array([[0.11683373, 0.88316627]]),\n",
       " array([[0.10923787, 0.89076213]]),\n",
       " array([[0.19017096, 0.80982904]]),\n",
       " array([[0.08773011, 0.91226989]]),\n",
       " array([[0.10006337, 0.89993663]]),\n",
       " array([[0.10358589, 0.89641411]]),\n",
       " array([[0.39978388, 0.60021612]]),\n",
       " array([[0.85583338, 0.14416662]]),\n",
       " array([[0.14371362, 0.85628638]]),\n",
       " array([[0.10069744, 0.89930256]]),\n",
       " array([[0.08595885, 0.91404115]]),\n",
       " array([[0.85622023, 0.14377977]]),\n",
       " array([[0.24538845, 0.75461155]]),\n",
       " array([[0.74374846, 0.25625154]]),\n",
       " array([[0.50590211, 0.49409789]]),\n",
       " array([[0.09017535, 0.90982465]]),\n",
       " array([[0.08791394, 0.91208606]]),\n",
       " array([[0.25578039, 0.74421961]]),\n",
       " array([[0.11524419, 0.88475581]]),\n",
       " array([[0.57939804, 0.42060196]]),\n",
       " array([[0.74313376, 0.25686624]]),\n",
       " array([[0.15290916, 0.84709084]]),\n",
       " array([[0.09394575, 0.90605425]]),\n",
       " array([[0.08667367, 0.91332633]]),\n",
       " array([[0.14888905, 0.85111095]]),\n",
       " array([[0.65258201, 0.34741799]]),\n",
       " array([[0.78120075, 0.21879925]]),\n",
       " array([[0.09820561, 0.90179439]]),\n",
       " array([[0.19200228, 0.80799772]]),\n",
       " array([[0.43750886, 0.56249114]]),\n",
       " array([[0.13585715, 0.86414285]]),\n",
       " array([[0.85695175, 0.14304825]]),\n",
       " array([[0.58043142, 0.41956858]]),\n",
       " array([[0.08349949, 0.91650051]]),\n",
       " array([[0.09824066, 0.90175934]]),\n",
       " array([[0.11437424, 0.88562576]]),\n",
       " array([[0.09078638, 0.90921362]]),\n",
       " array([[0.09134982, 0.90865018]]),\n",
       " array([[0.09454194, 0.90545806]]),\n",
       " array([[0.20940592, 0.79059408]]),\n",
       " array([[0.86288856, 0.13711144]]),\n",
       " array([[0.16514384, 0.83485616]]),\n",
       " array([[0.10608139, 0.89391861]]),\n",
       " array([[0.11179372, 0.88820628]]),\n",
       " array([[0.17361832, 0.82638168]]),\n",
       " array([[0.09140703, 0.90859297]]),\n",
       " array([[0.112904, 0.887096]]),\n",
       " array([[0.11043351, 0.88956649]]),\n",
       " array([[0.10566705, 0.89433295]]),\n",
       " array([[0.08536314, 0.91463686]]),\n",
       " array([[0.48628419, 0.51371581]]),\n",
       " array([[0.24086263, 0.75913737]]),\n",
       " array([[0.21947379, 0.78052621]]),\n",
       " array([[0.09451479, 0.90548521]]),\n",
       " array([[0.08370652, 0.91629348]]),\n",
       " array([[0.17792522, 0.82207478]]),\n",
       " array([[0.71681451, 0.28318549]]),\n",
       " array([[0.1192305, 0.8807695]]),\n",
       " array([[0.1167748, 0.8832252]]),\n",
       " array([[0.16619383, 0.83380617]]),\n",
       " array([[0.08488806, 0.91511194]]),\n",
       " array([[0.34972957, 0.65027043]]),\n",
       " array([[0.09518669, 0.90481331]]),\n",
       " array([[0.07940857, 0.92059143]]),\n",
       " array([[0.87001897, 0.12998103]]),\n",
       " array([[0.10552637, 0.89447363]]),\n",
       " array([[0.20958627, 0.79041373]]),\n",
       " array([[0.09559211, 0.90440789]]),\n",
       " array([[0.19789062, 0.80210938]]),\n",
       " array([[0.74662228, 0.25337772]]),\n",
       " array([[0.21231414, 0.78768586]]),\n",
       " array([[0.10302713, 0.89697287]]),\n",
       " array([[0.12184731, 0.87815269]]),\n",
       " array([[0.43647616, 0.56352384]]),\n",
       " array([[0.54832015, 0.45167985]]),\n",
       " array([[0.61287413, 0.38712587]]),\n",
       " array([[0.12137982, 0.87862018]]),\n",
       " array([[0.2464888, 0.7535112]]),\n",
       " array([[0.30974465, 0.69025535]]),\n",
       " array([[0.89582525, 0.10417475]]),\n",
       " array([[0.13924191, 0.86075809]]),\n",
       " array([[0.89439096, 0.10560904]]),\n",
       " array([[0.07701104, 0.92298896]]),\n",
       " array([[0.38627272, 0.61372728]]),\n",
       " array([[0.20916372, 0.79083628]]),\n",
       " array([[0.23654947, 0.76345053]]),\n",
       " array([[0.37789441, 0.62210559]]),\n",
       " array([[0.16628039, 0.83371961]]),\n",
       " array([[0.80571136, 0.19428864]]),\n",
       " array([[0.83552334, 0.16447666]]),\n",
       " array([[0.53615833, 0.46384167]]),\n",
       " array([[0.07554696, 0.92445304]]),\n",
       " array([[0.30414273, 0.69585727]]),\n",
       " array([[0.87457068, 0.12542932]]),\n",
       " array([[0.31346925, 0.68653075]]),\n",
       " array([[0.32808964, 0.67191036]]),\n",
       " array([[0.71201947, 0.28798053]]),\n",
       " array([[0.08904953, 0.91095047]]),\n",
       " array([[0.23574446, 0.76425554]]),\n",
       " array([[0.37672455, 0.62327545]]),\n",
       " array([[0.19987174, 0.80012826]]),\n",
       " array([[0.55137052, 0.44862948]]),\n",
       " array([[0.6018832, 0.3981168]]),\n",
       " array([[0.0902346, 0.9097654]]),\n",
       " array([[0.74577153, 0.25422847]]),\n",
       " array([[0.11943779, 0.88056221]]),\n",
       " array([[0.72937628, 0.27062372]]),\n",
       " array([[0.09075205, 0.90924795]]),\n",
       " array([[0.78615431, 0.21384569]]),\n",
       " array([[0.44851772, 0.55148228]]),\n",
       " array([[0.39701977, 0.60298023]]),\n",
       " array([[0.11373296, 0.88626704]]),\n",
       " array([[0.12158429, 0.87841571]]),\n",
       " array([[0.45429459, 0.54570541]]),\n",
       " array([[0.82141028, 0.17858972]]),\n",
       " array([[0.0873777, 0.9126223]]),\n",
       " array([[0.09614834, 0.90385166]]),\n",
       " array([[0.29294502, 0.70705498]]),\n",
       " array([[0.34379999, 0.65620001]]),\n",
       " array([[0.27049356, 0.72950644]]),\n",
       " array([[0.17018236, 0.82981764]]),\n",
       " array([[0.76461639, 0.23538361]]),\n",
       " array([[0.14553992, 0.85446008]]),\n",
       " array([[0.75455576, 0.24544424]]),\n",
       " array([[0.08731865, 0.91268135]]),\n",
       " array([[0.25511689, 0.74488311]]),\n",
       " array([[0.84512758, 0.15487242]]),\n",
       " array([[0.15032682, 0.84967318]]),\n",
       " array([[0.60419334, 0.39580666]]),\n",
       " array([[0.21717863, 0.78282137]]),\n",
       " array([[0.08616142, 0.91383858]]),\n",
       " array([[0.36667765, 0.63332235]]),\n",
       " array([[0.09395407, 0.90604593]]),\n",
       " array([[0.29959192, 0.70040808]]),\n",
       " array([[0.70878691, 0.29121309]])]"
      ]
     },
     "execution_count": 69,
     "metadata": {},
     "output_type": "execute_result"
    }
   ],
   "source": [
    "traindata = np.array(train)\n",
    "predicted = []\n",
    "for i in range(len(traindata)):\n",
    "    predicted.append(rf.predict_proba([traindata[i]]))\n",
    "    \n",
    "predicted"
   ]
  },
  {
   "cell_type": "code",
   "execution_count": 70,
   "metadata": {},
   "outputs": [
    {
     "data": {
      "text/plain": [
       "(array([0.30891208, 0.69108792]), 0.3089120798939746, 0.6910879201060258)"
      ]
     },
     "execution_count": 70,
     "metadata": {},
     "output_type": "execute_result"
    }
   ],
   "source": [
    "predicted[0][0],predicted[0][0][0],predicted[0][0][1]"
   ]
  },
  {
   "cell_type": "code",
   "execution_count": 71,
   "metadata": {},
   "outputs": [
    {
     "data": {
      "text/html": [
       "<div>\n",
       "<style scoped>\n",
       "    .dataframe tbody tr th:only-of-type {\n",
       "        vertical-align: middle;\n",
       "    }\n",
       "\n",
       "    .dataframe tbody tr th {\n",
       "        vertical-align: top;\n",
       "    }\n",
       "\n",
       "    .dataframe thead th {\n",
       "        text-align: right;\n",
       "    }\n",
       "</style>\n",
       "<table border=\"1\" class=\"dataframe\">\n",
       "  <thead>\n",
       "    <tr style=\"text-align: right;\">\n",
       "      <th></th>\n",
       "      <th>Gender</th>\n",
       "      <th>Specialisation</th>\n",
       "      <th>Techinal Degree</th>\n",
       "      <th>Work Experience</th>\n",
       "      <th>SSC</th>\n",
       "      <th>High School</th>\n",
       "      <th>Degree</th>\n",
       "      <th>MBA</th>\n",
       "      <th>Actual</th>\n",
       "      <th>Predicted</th>\n",
       "      <th>Prob_not_getting_placed</th>\n",
       "      <th>Prob_getting_placed</th>\n",
       "    </tr>\n",
       "  </thead>\n",
       "  <tbody>\n",
       "    <tr>\n",
       "      <th>0</th>\n",
       "      <td>1</td>\n",
       "      <td>1</td>\n",
       "      <td>2</td>\n",
       "      <td>0</td>\n",
       "      <td>67.00</td>\n",
       "      <td>91.00</td>\n",
       "      <td>58.00</td>\n",
       "      <td>58.80</td>\n",
       "      <td>1</td>\n",
       "      <td>1</td>\n",
       "      <td>0.308912</td>\n",
       "      <td>0.691088</td>\n",
       "    </tr>\n",
       "    <tr>\n",
       "      <th>1</th>\n",
       "      <td>1</td>\n",
       "      <td>0</td>\n",
       "      <td>2</td>\n",
       "      <td>1</td>\n",
       "      <td>79.33</td>\n",
       "      <td>78.33</td>\n",
       "      <td>77.48</td>\n",
       "      <td>66.28</td>\n",
       "      <td>1</td>\n",
       "      <td>1</td>\n",
       "      <td>0.082864</td>\n",
       "      <td>0.917136</td>\n",
       "    </tr>\n",
       "    <tr>\n",
       "      <th>2</th>\n",
       "      <td>1</td>\n",
       "      <td>0</td>\n",
       "      <td>0</td>\n",
       "      <td>0</td>\n",
       "      <td>65.00</td>\n",
       "      <td>68.00</td>\n",
       "      <td>64.00</td>\n",
       "      <td>57.80</td>\n",
       "      <td>1</td>\n",
       "      <td>1</td>\n",
       "      <td>0.278852</td>\n",
       "      <td>0.721148</td>\n",
       "    </tr>\n",
       "    <tr>\n",
       "      <th>3</th>\n",
       "      <td>1</td>\n",
       "      <td>1</td>\n",
       "      <td>2</td>\n",
       "      <td>0</td>\n",
       "      <td>56.00</td>\n",
       "      <td>52.00</td>\n",
       "      <td>52.00</td>\n",
       "      <td>59.43</td>\n",
       "      <td>0</td>\n",
       "      <td>0</td>\n",
       "      <td>0.877954</td>\n",
       "      <td>0.122046</td>\n",
       "    </tr>\n",
       "    <tr>\n",
       "      <th>4</th>\n",
       "      <td>1</td>\n",
       "      <td>0</td>\n",
       "      <td>0</td>\n",
       "      <td>0</td>\n",
       "      <td>85.80</td>\n",
       "      <td>73.60</td>\n",
       "      <td>73.30</td>\n",
       "      <td>55.50</td>\n",
       "      <td>1</td>\n",
       "      <td>1</td>\n",
       "      <td>0.075314</td>\n",
       "      <td>0.924686</td>\n",
       "    </tr>\n",
       "    <tr>\n",
       "      <th>...</th>\n",
       "      <td>...</td>\n",
       "      <td>...</td>\n",
       "      <td>...</td>\n",
       "      <td>...</td>\n",
       "      <td>...</td>\n",
       "      <td>...</td>\n",
       "      <td>...</td>\n",
       "      <td>...</td>\n",
       "      <td>...</td>\n",
       "      <td>...</td>\n",
       "      <td>...</td>\n",
       "      <td>...</td>\n",
       "    </tr>\n",
       "    <tr>\n",
       "      <th>210</th>\n",
       "      <td>1</td>\n",
       "      <td>0</td>\n",
       "      <td>0</td>\n",
       "      <td>0</td>\n",
       "      <td>80.60</td>\n",
       "      <td>82.00</td>\n",
       "      <td>77.60</td>\n",
       "      <td>74.49</td>\n",
       "      <td>1</td>\n",
       "      <td>1</td>\n",
       "      <td>0.086161</td>\n",
       "      <td>0.913839</td>\n",
       "    </tr>\n",
       "    <tr>\n",
       "      <th>211</th>\n",
       "      <td>1</td>\n",
       "      <td>0</td>\n",
       "      <td>2</td>\n",
       "      <td>0</td>\n",
       "      <td>58.00</td>\n",
       "      <td>60.00</td>\n",
       "      <td>72.00</td>\n",
       "      <td>53.62</td>\n",
       "      <td>1</td>\n",
       "      <td>1</td>\n",
       "      <td>0.366678</td>\n",
       "      <td>0.633322</td>\n",
       "    </tr>\n",
       "    <tr>\n",
       "      <th>212</th>\n",
       "      <td>1</td>\n",
       "      <td>0</td>\n",
       "      <td>0</td>\n",
       "      <td>1</td>\n",
       "      <td>67.00</td>\n",
       "      <td>67.00</td>\n",
       "      <td>73.00</td>\n",
       "      <td>69.72</td>\n",
       "      <td>1</td>\n",
       "      <td>1</td>\n",
       "      <td>0.093954</td>\n",
       "      <td>0.906046</td>\n",
       "    </tr>\n",
       "    <tr>\n",
       "      <th>213</th>\n",
       "      <td>0</td>\n",
       "      <td>1</td>\n",
       "      <td>0</td>\n",
       "      <td>0</td>\n",
       "      <td>74.00</td>\n",
       "      <td>66.00</td>\n",
       "      <td>58.00</td>\n",
       "      <td>60.23</td>\n",
       "      <td>1</td>\n",
       "      <td>1</td>\n",
       "      <td>0.299592</td>\n",
       "      <td>0.700408</td>\n",
       "    </tr>\n",
       "    <tr>\n",
       "      <th>214</th>\n",
       "      <td>1</td>\n",
       "      <td>1</td>\n",
       "      <td>0</td>\n",
       "      <td>0</td>\n",
       "      <td>62.00</td>\n",
       "      <td>58.00</td>\n",
       "      <td>53.00</td>\n",
       "      <td>60.22</td>\n",
       "      <td>0</td>\n",
       "      <td>0</td>\n",
       "      <td>0.708787</td>\n",
       "      <td>0.291213</td>\n",
       "    </tr>\n",
       "  </tbody>\n",
       "</table>\n",
       "<p>215 rows × 12 columns</p>\n",
       "</div>"
      ],
      "text/plain": [
       "     Gender  Specialisation  Techinal Degree  Work Experience    SSC  \\\n",
       "0         1               1                2                0  67.00   \n",
       "1         1               0                2                1  79.33   \n",
       "2         1               0                0                0  65.00   \n",
       "3         1               1                2                0  56.00   \n",
       "4         1               0                0                0  85.80   \n",
       "..      ...             ...              ...              ...    ...   \n",
       "210       1               0                0                0  80.60   \n",
       "211       1               0                2                0  58.00   \n",
       "212       1               0                0                1  67.00   \n",
       "213       0               1                0                0  74.00   \n",
       "214       1               1                0                0  62.00   \n",
       "\n",
       "     High School  Degree    MBA  Actual  Predicted  Prob_not_getting_placed  \\\n",
       "0          91.00   58.00  58.80       1          1                 0.308912   \n",
       "1          78.33   77.48  66.28       1          1                 0.082864   \n",
       "2          68.00   64.00  57.80       1          1                 0.278852   \n",
       "3          52.00   52.00  59.43       0          0                 0.877954   \n",
       "4          73.60   73.30  55.50       1          1                 0.075314   \n",
       "..           ...     ...    ...     ...        ...                      ...   \n",
       "210        82.00   77.60  74.49       1          1                 0.086161   \n",
       "211        60.00   72.00  53.62       1          1                 0.366678   \n",
       "212        67.00   73.00  69.72       1          1                 0.093954   \n",
       "213        66.00   58.00  60.23       1          1                 0.299592   \n",
       "214        58.00   53.00  60.22       0          0                 0.708787   \n",
       "\n",
       "     Prob_getting_placed  \n",
       "0               0.691088  \n",
       "1               0.917136  \n",
       "2               0.721148  \n",
       "3               0.122046  \n",
       "4               0.924686  \n",
       "..                   ...  \n",
       "210             0.913839  \n",
       "211             0.633322  \n",
       "212             0.906046  \n",
       "213             0.700408  \n",
       "214             0.291213  \n",
       "\n",
       "[215 rows x 12 columns]"
      ]
     },
     "execution_count": 71,
     "metadata": {},
     "output_type": "execute_result"
    }
   ],
   "source": [
    "resultdf['Prob_not_getting_placed'] = np.array([predicted[i][0][0] for i in range(len(predicted))])\n",
    "resultdf['Prob_getting_placed'] = np.array([predicted[i][0][1] for i in range(len(predicted))])\n",
    "resultdf"
   ]
  },
  {
   "cell_type": "code",
   "execution_count": 72,
   "metadata": {},
   "outputs": [],
   "source": [
    "import pickle\n",
    "file = open('campusplacementpredictor.pkl','wb')\n",
    "pickle.dump(rf,file)\n",
    "file.close()"
   ]
  },
  {
   "cell_type": "markdown",
   "metadata": {},
   "source": [
    "### Conclusion\n",
    "\n",
    "\n",
    " The random forest model generates a 93% accuracy on testing data with 16 results classfied wrongly.\n",
    "\n",
    " "
   ]
  },
  {
   "cell_type": "code",
   "execution_count": null,
   "metadata": {},
   "outputs": [],
   "source": []
  }
 ],
 "metadata": {
  "kernelspec": {
   "display_name": "Python 3",
   "language": "python",
   "name": "python3"
  },
  "language_info": {
   "codemirror_mode": {
    "name": "ipython",
    "version": 3
   },
   "file_extension": ".py",
   "mimetype": "text/x-python",
   "name": "python",
   "nbconvert_exporter": "python",
   "pygments_lexer": "ipython3",
   "version": "3.8.5"
  }
 },
 "nbformat": 4,
 "nbformat_minor": 5
}
